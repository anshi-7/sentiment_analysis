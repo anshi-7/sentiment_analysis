{
 "cells": [
  {
   "cell_type": "code",
   "execution_count": 1,
   "id": "c9fd13f7",
   "metadata": {
    "execution": {
     "iopub.execute_input": "2023-05-15T06:46:47.151946Z",
     "iopub.status.busy": "2023-05-15T06:46:47.150462Z",
     "iopub.status.idle": "2023-05-15T06:46:47.878172Z",
     "shell.execute_reply": "2023-05-15T06:46:47.877245Z",
     "shell.execute_reply.started": "2021-12-14T04:31:49.977449Z"
    },
    "papermill": {
     "duration": 0.892061,
     "end_time": "2023-05-15T06:46:47.878372",
     "exception": false,
     "start_time": "2023-05-15T06:46:46.986311",
     "status": "completed"
    },
    "tags": []
   },
   "outputs": [],
   "source": [
    "import pandas as pd\n",
    "import numpy as np\n",
    "\n",
    "import spacy\n",
    "from spacy.lang.en.stop_words import STOP_WORDS"
   ]
  },
  {
   "cell_type": "code",
   "execution_count": 2,
   "id": "6feef219",
   "metadata": {
    "execution": {
     "iopub.execute_input": "2023-05-15T06:46:48.200002Z",
     "iopub.status.busy": "2023-05-15T06:46:48.199227Z",
     "iopub.status.idle": "2023-05-15T06:46:55.287937Z",
     "shell.execute_reply": "2023-05-15T06:46:55.288502Z",
     "shell.execute_reply.started": "2021-12-14T04:31:50.800238Z"
    },
    "papermill": {
     "duration": 7.251189,
     "end_time": "2023-05-15T06:46:55.288725",
     "exception": false,
     "start_time": "2023-05-15T06:46:48.037536",
     "status": "completed"
    },
    "tags": []
   },
   "outputs": [],
   "source": [
    "df = pd.read_csv('../input/sentiment140/training.1600000.processed.noemoticon.csv', encoding = 'latin1', header = None)"
   ]
  },
  {
   "cell_type": "code",
   "execution_count": 3,
   "id": "0c6e8fd7",
   "metadata": {
    "execution": {
     "iopub.execute_input": "2023-05-15T06:46:55.607315Z",
     "iopub.status.busy": "2023-05-15T06:46:55.606544Z",
     "iopub.status.idle": "2023-05-15T06:46:55.633011Z",
     "shell.execute_reply": "2023-05-15T06:46:55.632297Z",
     "shell.execute_reply.started": "2021-12-14T04:31:57.963263Z"
    },
    "papermill": {
     "duration": 0.186256,
     "end_time": "2023-05-15T06:46:55.633163",
     "exception": false,
     "start_time": "2023-05-15T06:46:55.446907",
     "status": "completed"
    },
    "tags": []
   },
   "outputs": [
    {
     "data": {
      "text/html": [
       "<div>\n",
       "<style scoped>\n",
       "    .dataframe tbody tr th:only-of-type {\n",
       "        vertical-align: middle;\n",
       "    }\n",
       "\n",
       "    .dataframe tbody tr th {\n",
       "        vertical-align: top;\n",
       "    }\n",
       "\n",
       "    .dataframe thead th {\n",
       "        text-align: right;\n",
       "    }\n",
       "</style>\n",
       "<table border=\"1\" class=\"dataframe\">\n",
       "  <thead>\n",
       "    <tr style=\"text-align: right;\">\n",
       "      <th></th>\n",
       "      <th>0</th>\n",
       "      <th>1</th>\n",
       "      <th>2</th>\n",
       "      <th>3</th>\n",
       "      <th>4</th>\n",
       "      <th>5</th>\n",
       "    </tr>\n",
       "  </thead>\n",
       "  <tbody>\n",
       "    <tr>\n",
       "      <th>0</th>\n",
       "      <td>0</td>\n",
       "      <td>1467810369</td>\n",
       "      <td>Mon Apr 06 22:19:45 PDT 2009</td>\n",
       "      <td>NO_QUERY</td>\n",
       "      <td>_TheSpecialOne_</td>\n",
       "      <td>@switchfoot http://twitpic.com/2y1zl - Awww, t...</td>\n",
       "    </tr>\n",
       "    <tr>\n",
       "      <th>1</th>\n",
       "      <td>0</td>\n",
       "      <td>1467810672</td>\n",
       "      <td>Mon Apr 06 22:19:49 PDT 2009</td>\n",
       "      <td>NO_QUERY</td>\n",
       "      <td>scotthamilton</td>\n",
       "      <td>is upset that he can't update his Facebook by ...</td>\n",
       "    </tr>\n",
       "    <tr>\n",
       "      <th>2</th>\n",
       "      <td>0</td>\n",
       "      <td>1467810917</td>\n",
       "      <td>Mon Apr 06 22:19:53 PDT 2009</td>\n",
       "      <td>NO_QUERY</td>\n",
       "      <td>mattycus</td>\n",
       "      <td>@Kenichan I dived many times for the ball. Man...</td>\n",
       "    </tr>\n",
       "    <tr>\n",
       "      <th>3</th>\n",
       "      <td>0</td>\n",
       "      <td>1467811184</td>\n",
       "      <td>Mon Apr 06 22:19:57 PDT 2009</td>\n",
       "      <td>NO_QUERY</td>\n",
       "      <td>ElleCTF</td>\n",
       "      <td>my whole body feels itchy and like its on fire</td>\n",
       "    </tr>\n",
       "    <tr>\n",
       "      <th>4</th>\n",
       "      <td>0</td>\n",
       "      <td>1467811193</td>\n",
       "      <td>Mon Apr 06 22:19:57 PDT 2009</td>\n",
       "      <td>NO_QUERY</td>\n",
       "      <td>Karoli</td>\n",
       "      <td>@nationwideclass no, it's not behaving at all....</td>\n",
       "    </tr>\n",
       "  </tbody>\n",
       "</table>\n",
       "</div>"
      ],
      "text/plain": [
       "   0           1                             2         3                4  \\\n",
       "0  0  1467810369  Mon Apr 06 22:19:45 PDT 2009  NO_QUERY  _TheSpecialOne_   \n",
       "1  0  1467810672  Mon Apr 06 22:19:49 PDT 2009  NO_QUERY    scotthamilton   \n",
       "2  0  1467810917  Mon Apr 06 22:19:53 PDT 2009  NO_QUERY         mattycus   \n",
       "3  0  1467811184  Mon Apr 06 22:19:57 PDT 2009  NO_QUERY          ElleCTF   \n",
       "4  0  1467811193  Mon Apr 06 22:19:57 PDT 2009  NO_QUERY           Karoli   \n",
       "\n",
       "                                                   5  \n",
       "0  @switchfoot http://twitpic.com/2y1zl - Awww, t...  \n",
       "1  is upset that he can't update his Facebook by ...  \n",
       "2  @Kenichan I dived many times for the ball. Man...  \n",
       "3    my whole body feels itchy and like its on fire   \n",
       "4  @nationwideclass no, it's not behaving at all....  "
      ]
     },
     "execution_count": 3,
     "metadata": {},
     "output_type": "execute_result"
    }
   ],
   "source": [
    "df.head()"
   ]
  },
  {
   "cell_type": "code",
   "execution_count": 4,
   "id": "d43e31db",
   "metadata": {
    "execution": {
     "iopub.execute_input": "2023-05-15T06:46:55.955627Z",
     "iopub.status.busy": "2023-05-15T06:46:55.954903Z",
     "iopub.status.idle": "2023-05-15T06:46:55.993819Z",
     "shell.execute_reply": "2023-05-15T06:46:55.994406Z",
     "shell.execute_reply.started": "2021-12-14T04:31:57.989034Z"
    },
    "papermill": {
     "duration": 0.203849,
     "end_time": "2023-05-15T06:46:55.994600",
     "exception": false,
     "start_time": "2023-05-15T06:46:55.790751",
     "status": "completed"
    },
    "tags": []
   },
   "outputs": [
    {
     "data": {
      "text/html": [
       "<div>\n",
       "<style scoped>\n",
       "    .dataframe tbody tr th:only-of-type {\n",
       "        vertical-align: middle;\n",
       "    }\n",
       "\n",
       "    .dataframe tbody tr th {\n",
       "        vertical-align: top;\n",
       "    }\n",
       "\n",
       "    .dataframe thead th {\n",
       "        text-align: right;\n",
       "    }\n",
       "</style>\n",
       "<table border=\"1\" class=\"dataframe\">\n",
       "  <thead>\n",
       "    <tr style=\"text-align: right;\">\n",
       "      <th></th>\n",
       "      <th>twitts</th>\n",
       "      <th>sentiment</th>\n",
       "    </tr>\n",
       "  </thead>\n",
       "  <tbody>\n",
       "    <tr>\n",
       "      <th>0</th>\n",
       "      <td>@switchfoot http://twitpic.com/2y1zl - Awww, t...</td>\n",
       "      <td>0</td>\n",
       "    </tr>\n",
       "    <tr>\n",
       "      <th>1</th>\n",
       "      <td>is upset that he can't update his Facebook by ...</td>\n",
       "      <td>0</td>\n",
       "    </tr>\n",
       "    <tr>\n",
       "      <th>2</th>\n",
       "      <td>@Kenichan I dived many times for the ball. Man...</td>\n",
       "      <td>0</td>\n",
       "    </tr>\n",
       "    <tr>\n",
       "      <th>3</th>\n",
       "      <td>my whole body feels itchy and like its on fire</td>\n",
       "      <td>0</td>\n",
       "    </tr>\n",
       "    <tr>\n",
       "      <th>4</th>\n",
       "      <td>@nationwideclass no, it's not behaving at all....</td>\n",
       "      <td>0</td>\n",
       "    </tr>\n",
       "  </tbody>\n",
       "</table>\n",
       "</div>"
      ],
      "text/plain": [
       "                                              twitts  sentiment\n",
       "0  @switchfoot http://twitpic.com/2y1zl - Awww, t...          0\n",
       "1  is upset that he can't update his Facebook by ...          0\n",
       "2  @Kenichan I dived many times for the ball. Man...          0\n",
       "3    my whole body feels itchy and like its on fire           0\n",
       "4  @nationwideclass no, it's not behaving at all....          0"
      ]
     },
     "execution_count": 4,
     "metadata": {},
     "output_type": "execute_result"
    }
   ],
   "source": [
    "df = df[[5, 0]]\n",
    "df.columns = ['twitts', 'sentiment']\n",
    "df.head()"
   ]
  },
  {
   "cell_type": "code",
   "execution_count": 5,
   "id": "82a14523",
   "metadata": {
    "execution": {
     "iopub.execute_input": "2023-05-15T06:46:56.313041Z",
     "iopub.status.busy": "2023-05-15T06:46:56.311604Z",
     "iopub.status.idle": "2023-05-15T06:46:56.341872Z",
     "shell.execute_reply": "2023-05-15T06:46:56.342437Z",
     "shell.execute_reply.started": "2021-12-14T04:31:58.035844Z"
    },
    "papermill": {
     "duration": 0.191228,
     "end_time": "2023-05-15T06:46:56.342625",
     "exception": false,
     "start_time": "2023-05-15T06:46:56.151397",
     "status": "completed"
    },
    "tags": []
   },
   "outputs": [
    {
     "data": {
      "text/plain": [
       "0    800000\n",
       "4    800000\n",
       "Name: sentiment, dtype: int64"
      ]
     },
     "execution_count": 5,
     "metadata": {},
     "output_type": "execute_result"
    }
   ],
   "source": [
    "df['sentiment'].value_counts()"
   ]
  },
  {
   "cell_type": "code",
   "execution_count": 6,
   "id": "a7514b26",
   "metadata": {
    "execution": {
     "iopub.execute_input": "2023-05-15T06:46:56.663094Z",
     "iopub.status.busy": "2023-05-15T06:46:56.662321Z",
     "iopub.status.idle": "2023-05-15T06:46:56.667383Z",
     "shell.execute_reply": "2023-05-15T06:46:56.666786Z",
     "shell.execute_reply.started": "2021-12-14T04:31:58.060076Z"
    },
    "papermill": {
     "duration": 0.167401,
     "end_time": "2023-05-15T06:46:56.667543",
     "exception": false,
     "start_time": "2023-05-15T06:46:56.500142",
     "status": "completed"
    },
    "tags": []
   },
   "outputs": [],
   "source": [
    "sent_map = {0: 'negative', 4: 'positive'}"
   ]
  },
  {
   "cell_type": "code",
   "execution_count": 7,
   "id": "4bdcfd2a",
   "metadata": {
    "execution": {
     "iopub.execute_input": "2023-05-15T06:46:56.988531Z",
     "iopub.status.busy": "2023-05-15T06:46:56.987822Z",
     "iopub.status.idle": "2023-05-15T06:46:56.990174Z",
     "shell.execute_reply": "2023-05-15T06:46:56.990900Z",
     "shell.execute_reply.started": "2021-12-14T04:31:58.067272Z"
    },
    "papermill": {
     "duration": 0.164354,
     "end_time": "2023-05-15T06:46:56.991083",
     "exception": false,
     "start_time": "2023-05-15T06:46:56.826729",
     "status": "completed"
    },
    "tags": []
   },
   "outputs": [],
   "source": [
    "#WORD COUNTS"
   ]
  },
  {
   "cell_type": "code",
   "execution_count": 8,
   "id": "ec04b604",
   "metadata": {
    "execution": {
     "iopub.execute_input": "2023-05-15T06:46:57.314067Z",
     "iopub.status.busy": "2023-05-15T06:46:57.313333Z",
     "iopub.status.idle": "2023-05-15T06:47:00.467996Z",
     "shell.execute_reply": "2023-05-15T06:47:00.468830Z",
     "shell.execute_reply.started": "2021-12-14T04:31:58.078653Z"
    },
    "papermill": {
     "duration": 3.321005,
     "end_time": "2023-05-15T06:47:00.469028",
     "exception": false,
     "start_time": "2023-05-15T06:46:57.148023",
     "status": "completed"
    },
    "tags": []
   },
   "outputs": [
    {
     "data": {
      "text/html": [
       "<div>\n",
       "<style scoped>\n",
       "    .dataframe tbody tr th:only-of-type {\n",
       "        vertical-align: middle;\n",
       "    }\n",
       "\n",
       "    .dataframe tbody tr th {\n",
       "        vertical-align: top;\n",
       "    }\n",
       "\n",
       "    .dataframe thead th {\n",
       "        text-align: right;\n",
       "    }\n",
       "</style>\n",
       "<table border=\"1\" class=\"dataframe\">\n",
       "  <thead>\n",
       "    <tr style=\"text-align: right;\">\n",
       "      <th></th>\n",
       "      <th>twitts</th>\n",
       "      <th>sentiment</th>\n",
       "      <th>word_counts</th>\n",
       "    </tr>\n",
       "  </thead>\n",
       "  <tbody>\n",
       "    <tr>\n",
       "      <th>0</th>\n",
       "      <td>@switchfoot http://twitpic.com/2y1zl - Awww, t...</td>\n",
       "      <td>0</td>\n",
       "      <td>19</td>\n",
       "    </tr>\n",
       "    <tr>\n",
       "      <th>1</th>\n",
       "      <td>is upset that he can't update his Facebook by ...</td>\n",
       "      <td>0</td>\n",
       "      <td>21</td>\n",
       "    </tr>\n",
       "    <tr>\n",
       "      <th>2</th>\n",
       "      <td>@Kenichan I dived many times for the ball. Man...</td>\n",
       "      <td>0</td>\n",
       "      <td>18</td>\n",
       "    </tr>\n",
       "    <tr>\n",
       "      <th>3</th>\n",
       "      <td>my whole body feels itchy and like its on fire</td>\n",
       "      <td>0</td>\n",
       "      <td>10</td>\n",
       "    </tr>\n",
       "    <tr>\n",
       "      <th>4</th>\n",
       "      <td>@nationwideclass no, it's not behaving at all....</td>\n",
       "      <td>0</td>\n",
       "      <td>21</td>\n",
       "    </tr>\n",
       "  </tbody>\n",
       "</table>\n",
       "</div>"
      ],
      "text/plain": [
       "                                              twitts  sentiment  word_counts\n",
       "0  @switchfoot http://twitpic.com/2y1zl - Awww, t...          0           19\n",
       "1  is upset that he can't update his Facebook by ...          0           21\n",
       "2  @Kenichan I dived many times for the ball. Man...          0           18\n",
       "3    my whole body feels itchy and like its on fire           0           10\n",
       "4  @nationwideclass no, it's not behaving at all....          0           21"
      ]
     },
     "execution_count": 8,
     "metadata": {},
     "output_type": "execute_result"
    }
   ],
   "source": [
    "df['word_counts'] = df['twitts'].apply(lambda x: len(str(x).split()))\n",
    "df.head()"
   ]
  },
  {
   "cell_type": "code",
   "execution_count": 9,
   "id": "c15494ff",
   "metadata": {
    "execution": {
     "iopub.execute_input": "2023-05-15T06:47:00.788424Z",
     "iopub.status.busy": "2023-05-15T06:47:00.787711Z",
     "iopub.status.idle": "2023-05-15T06:47:00.791738Z",
     "shell.execute_reply": "2023-05-15T06:47:00.792344Z",
     "shell.execute_reply.started": "2021-12-14T04:32:00.780926Z"
    },
    "papermill": {
     "duration": 0.165374,
     "end_time": "2023-05-15T06:47:00.792529",
     "exception": false,
     "start_time": "2023-05-15T06:47:00.627155",
     "status": "completed"
    },
    "tags": []
   },
   "outputs": [],
   "source": [
    "#CHARACTERS COUNT"
   ]
  },
  {
   "cell_type": "code",
   "execution_count": 10,
   "id": "8ccf8430",
   "metadata": {
    "execution": {
     "iopub.execute_input": "2023-05-15T06:47:01.148351Z",
     "iopub.status.busy": "2023-05-15T06:47:01.147047Z",
     "iopub.status.idle": "2023-05-15T06:47:02.285484Z",
     "shell.execute_reply": "2023-05-15T06:47:02.286232Z",
     "shell.execute_reply.started": "2021-12-14T04:32:00.785572Z"
    },
    "papermill": {
     "duration": 1.336924,
     "end_time": "2023-05-15T06:47:02.286441",
     "exception": false,
     "start_time": "2023-05-15T06:47:00.949517",
     "status": "completed"
    },
    "tags": []
   },
   "outputs": [
    {
     "data": {
      "text/html": [
       "<div>\n",
       "<style scoped>\n",
       "    .dataframe tbody tr th:only-of-type {\n",
       "        vertical-align: middle;\n",
       "    }\n",
       "\n",
       "    .dataframe tbody tr th {\n",
       "        vertical-align: top;\n",
       "    }\n",
       "\n",
       "    .dataframe thead th {\n",
       "        text-align: right;\n",
       "    }\n",
       "</style>\n",
       "<table border=\"1\" class=\"dataframe\">\n",
       "  <thead>\n",
       "    <tr style=\"text-align: right;\">\n",
       "      <th></th>\n",
       "      <th>twitts</th>\n",
       "      <th>sentiment</th>\n",
       "      <th>word_counts</th>\n",
       "      <th>char_counts</th>\n",
       "    </tr>\n",
       "  </thead>\n",
       "  <tbody>\n",
       "    <tr>\n",
       "      <th>0</th>\n",
       "      <td>@switchfoot http://twitpic.com/2y1zl - Awww, t...</td>\n",
       "      <td>0</td>\n",
       "      <td>19</td>\n",
       "      <td>115</td>\n",
       "    </tr>\n",
       "    <tr>\n",
       "      <th>1</th>\n",
       "      <td>is upset that he can't update his Facebook by ...</td>\n",
       "      <td>0</td>\n",
       "      <td>21</td>\n",
       "      <td>111</td>\n",
       "    </tr>\n",
       "    <tr>\n",
       "      <th>2</th>\n",
       "      <td>@Kenichan I dived many times for the ball. Man...</td>\n",
       "      <td>0</td>\n",
       "      <td>18</td>\n",
       "      <td>89</td>\n",
       "    </tr>\n",
       "    <tr>\n",
       "      <th>3</th>\n",
       "      <td>my whole body feels itchy and like its on fire</td>\n",
       "      <td>0</td>\n",
       "      <td>10</td>\n",
       "      <td>47</td>\n",
       "    </tr>\n",
       "    <tr>\n",
       "      <th>4</th>\n",
       "      <td>@nationwideclass no, it's not behaving at all....</td>\n",
       "      <td>0</td>\n",
       "      <td>21</td>\n",
       "      <td>111</td>\n",
       "    </tr>\n",
       "  </tbody>\n",
       "</table>\n",
       "</div>"
      ],
      "text/plain": [
       "                                              twitts  sentiment  word_counts  \\\n",
       "0  @switchfoot http://twitpic.com/2y1zl - Awww, t...          0           19   \n",
       "1  is upset that he can't update his Facebook by ...          0           21   \n",
       "2  @Kenichan I dived many times for the ball. Man...          0           18   \n",
       "3    my whole body feels itchy and like its on fire           0           10   \n",
       "4  @nationwideclass no, it's not behaving at all....          0           21   \n",
       "\n",
       "   char_counts  \n",
       "0          115  \n",
       "1          111  \n",
       "2           89  \n",
       "3           47  \n",
       "4          111  "
      ]
     },
     "execution_count": 10,
     "metadata": {},
     "output_type": "execute_result"
    }
   ],
   "source": [
    "df['char_counts'] = df['twitts'].apply(lambda x: len(x))\n",
    "df.head()"
   ]
  },
  {
   "cell_type": "code",
   "execution_count": 11,
   "id": "28c1eaa8",
   "metadata": {
    "execution": {
     "iopub.execute_input": "2023-05-15T06:47:02.609942Z",
     "iopub.status.busy": "2023-05-15T06:47:02.608873Z",
     "iopub.status.idle": "2023-05-15T06:47:02.612494Z",
     "shell.execute_reply": "2023-05-15T06:47:02.613202Z",
     "shell.execute_reply.started": "2021-12-14T04:32:01.821993Z"
    },
    "papermill": {
     "duration": 0.165458,
     "end_time": "2023-05-15T06:47:02.613384",
     "exception": false,
     "start_time": "2023-05-15T06:47:02.447926",
     "status": "completed"
    },
    "tags": []
   },
   "outputs": [],
   "source": [
    "#Average Word Length\n",
    "#a function get_avg_word_len() in which we are calculating the average word length inside each sentences."
   ]
  },
  {
   "cell_type": "code",
   "execution_count": 12,
   "id": "092588ec",
   "metadata": {
    "execution": {
     "iopub.execute_input": "2023-05-15T06:47:02.936413Z",
     "iopub.status.busy": "2023-05-15T06:47:02.935185Z",
     "iopub.status.idle": "2023-05-15T06:47:02.938524Z",
     "shell.execute_reply": "2023-05-15T06:47:02.937813Z",
     "shell.execute_reply.started": "2021-12-14T04:32:01.829030Z"
    },
    "papermill": {
     "duration": 0.166267,
     "end_time": "2023-05-15T06:47:02.938671",
     "exception": false,
     "start_time": "2023-05-15T06:47:02.772404",
     "status": "completed"
    },
    "tags": []
   },
   "outputs": [],
   "source": [
    "def get_avg_word_len(x):\n",
    "    words = x.split()\n",
    "    word_len = 0\n",
    "    for word in words:\n",
    "        word_len = word_len + len(word)\n",
    "    return word_len/len(words) # != len(x)/len(words)"
   ]
  },
  {
   "cell_type": "code",
   "execution_count": 13,
   "id": "905f1e4c",
   "metadata": {
    "execution": {
     "iopub.execute_input": "2023-05-15T06:47:03.263896Z",
     "iopub.status.busy": "2023-05-15T06:47:03.262645Z",
     "iopub.status.idle": "2023-05-15T06:47:09.760358Z",
     "shell.execute_reply": "2023-05-15T06:47:09.759668Z",
     "shell.execute_reply.started": "2021-12-14T04:32:01.841239Z"
    },
    "papermill": {
     "duration": 6.661755,
     "end_time": "2023-05-15T06:47:09.760529",
     "exception": false,
     "start_time": "2023-05-15T06:47:03.098774",
     "status": "completed"
    },
    "tags": []
   },
   "outputs": [],
   "source": [
    "df['avg_word_len'] = df['twitts'].apply(lambda x: get_avg_word_len(x))"
   ]
  },
  {
   "cell_type": "code",
   "execution_count": 14,
   "id": "3f26d175",
   "metadata": {
    "execution": {
     "iopub.execute_input": "2023-05-15T06:47:10.137916Z",
     "iopub.status.busy": "2023-05-15T06:47:10.136886Z",
     "iopub.status.idle": "2023-05-15T06:47:10.141368Z",
     "shell.execute_reply": "2023-05-15T06:47:10.140809Z",
     "shell.execute_reply.started": "2021-12-14T04:32:07.439881Z"
    },
    "papermill": {
     "duration": 0.169161,
     "end_time": "2023-05-15T06:47:10.141525",
     "exception": false,
     "start_time": "2023-05-15T06:47:09.972364",
     "status": "completed"
    },
    "tags": []
   },
   "outputs": [
    {
     "data": {
      "text/plain": [
       "4.5"
      ]
     },
     "execution_count": 14,
     "metadata": {},
     "output_type": "execute_result"
    }
   ],
   "source": [
    "len('this is nlp lesson')/4"
   ]
  },
  {
   "cell_type": "code",
   "execution_count": 15,
   "id": "ddf1515b",
   "metadata": {
    "execution": {
     "iopub.execute_input": "2023-05-15T06:47:10.473951Z",
     "iopub.status.busy": "2023-05-15T06:47:10.472829Z",
     "iopub.status.idle": "2023-05-15T06:47:10.481875Z",
     "shell.execute_reply": "2023-05-15T06:47:10.481118Z",
     "shell.execute_reply.started": "2021-12-14T04:32:07.447553Z"
    },
    "papermill": {
     "duration": 0.178193,
     "end_time": "2023-05-15T06:47:10.482045",
     "exception": false,
     "start_time": "2023-05-15T06:47:10.303852",
     "status": "completed"
    },
    "tags": []
   },
   "outputs": [
    {
     "data": {
      "text/html": [
       "<div>\n",
       "<style scoped>\n",
       "    .dataframe tbody tr th:only-of-type {\n",
       "        vertical-align: middle;\n",
       "    }\n",
       "\n",
       "    .dataframe tbody tr th {\n",
       "        vertical-align: top;\n",
       "    }\n",
       "\n",
       "    .dataframe thead th {\n",
       "        text-align: right;\n",
       "    }\n",
       "</style>\n",
       "<table border=\"1\" class=\"dataframe\">\n",
       "  <thead>\n",
       "    <tr style=\"text-align: right;\">\n",
       "      <th></th>\n",
       "      <th>twitts</th>\n",
       "      <th>sentiment</th>\n",
       "      <th>word_counts</th>\n",
       "      <th>char_counts</th>\n",
       "      <th>avg_word_len</th>\n",
       "    </tr>\n",
       "  </thead>\n",
       "  <tbody>\n",
       "    <tr>\n",
       "      <th>0</th>\n",
       "      <td>@switchfoot http://twitpic.com/2y1zl - Awww, t...</td>\n",
       "      <td>0</td>\n",
       "      <td>19</td>\n",
       "      <td>115</td>\n",
       "      <td>5.052632</td>\n",
       "    </tr>\n",
       "    <tr>\n",
       "      <th>1</th>\n",
       "      <td>is upset that he can't update his Facebook by ...</td>\n",
       "      <td>0</td>\n",
       "      <td>21</td>\n",
       "      <td>111</td>\n",
       "      <td>4.285714</td>\n",
       "    </tr>\n",
       "    <tr>\n",
       "      <th>2</th>\n",
       "      <td>@Kenichan I dived many times for the ball. Man...</td>\n",
       "      <td>0</td>\n",
       "      <td>18</td>\n",
       "      <td>89</td>\n",
       "      <td>3.944444</td>\n",
       "    </tr>\n",
       "    <tr>\n",
       "      <th>3</th>\n",
       "      <td>my whole body feels itchy and like its on fire</td>\n",
       "      <td>0</td>\n",
       "      <td>10</td>\n",
       "      <td>47</td>\n",
       "      <td>3.700000</td>\n",
       "    </tr>\n",
       "    <tr>\n",
       "      <th>4</th>\n",
       "      <td>@nationwideclass no, it's not behaving at all....</td>\n",
       "      <td>0</td>\n",
       "      <td>21</td>\n",
       "      <td>111</td>\n",
       "      <td>4.285714</td>\n",
       "    </tr>\n",
       "  </tbody>\n",
       "</table>\n",
       "</div>"
      ],
      "text/plain": [
       "                                              twitts  sentiment  word_counts  \\\n",
       "0  @switchfoot http://twitpic.com/2y1zl - Awww, t...          0           19   \n",
       "1  is upset that he can't update his Facebook by ...          0           21   \n",
       "2  @Kenichan I dived many times for the ball. Man...          0           18   \n",
       "3    my whole body feels itchy and like its on fire           0           10   \n",
       "4  @nationwideclass no, it's not behaving at all....          0           21   \n",
       "\n",
       "   char_counts  avg_word_len  \n",
       "0          115      5.052632  \n",
       "1          111      4.285714  \n",
       "2           89      3.944444  \n",
       "3           47      3.700000  \n",
       "4          111      4.285714  "
      ]
     },
     "execution_count": 15,
     "metadata": {},
     "output_type": "execute_result"
    }
   ],
   "source": [
    "df.head()"
   ]
  },
  {
   "cell_type": "code",
   "execution_count": 16,
   "id": "58b27606",
   "metadata": {
    "execution": {
     "iopub.execute_input": "2023-05-15T06:47:10.815224Z",
     "iopub.status.busy": "2023-05-15T06:47:10.814136Z",
     "iopub.status.idle": "2023-05-15T06:47:10.819129Z",
     "shell.execute_reply": "2023-05-15T06:47:10.818451Z",
     "shell.execute_reply.started": "2021-12-14T04:32:07.472392Z"
    },
    "papermill": {
     "duration": 0.173733,
     "end_time": "2023-05-15T06:47:10.819294",
     "exception": false,
     "start_time": "2023-05-15T06:47:10.645561",
     "status": "completed"
    },
    "tags": []
   },
   "outputs": [
    {
     "name": "stdout",
     "output_type": "stream",
     "text": [
      "{'by', 'more', 'our', \"'re\", 'he', 'whoever', 'every', 'none', 'front', 'one', 'their', 'once', 'first', 'take', 'due', 'often', \"'ll\", 'towards', 'hence', 'hundred', 'in', 'she', 'up', 'onto', 'being', 'them', 'those', 'something', 'not', 'fifty', 'moreover', 'yours', 'last', 'meanwhile', 'show', 'though', 'nothing', 'ours', 'it', 'each', 'to', 'around', 'among', 'very', 'alone', 'nowhere', 'neither', '‘re', 'we', 'name', 'say', 'off', 'three', 'both', 'enough', 'whatever', 'became', 'go', 'these', 'herein', 'thru', 'against', 'mine', 'former', 'someone', 'bottom', 'hers', 'its', '‘s', 'give', 'twenty', 'otherwise', 'was', 'do', 'throughout', 'make', 'always', 'several', 'for', 'seem', 'although', 'why', 'all', 'hereupon', 'doing', 'anywhere', 'n‘t', 'at', 'become', 'per', '‘m', 'forty', 'serious', 'therein', 'on', 'who', 'somewhere', 'seemed', 'fifteen', 'beside', 'out', 'did', 'what', 'am', 'between', 'ever', 'nor', 'they', 'himself', 'upon', 'almost', 'if', 'least', 'next', 'with', \"'d\", 'except', 'then', 'is', 'whereas', 'side', 'about', 'part', 'there', 'anyone', 'top', 'sometimes', 'than', 'his', 'back', 'same', 'him', 'herself', 'nine', 'unless', 'somehow', 'thus', 'else', 'as', 'many', 'much', 'less', 'nevertheless', 'toward', 'across', 'under', 'ca', 'after', 'whole', 'elsewhere', 'eleven', 'themselves', 'down', 'my', 'everyone', 'however', 'thereupon', \"'m\", 'just', 'your', 'noone', 'were', 'from', 'an', '‘d', 'seems', 'afterwards', 'call', 'must', 'while', 'thence', 'third', \"'ve\", 'has', 'too', 'will', 'using', 'above', 'anyway', 'anyhow', 'whereby', 'most', 'four', 'other', 'yourselves', '’re', 'well', 'may', 'now', 'whose', 'still', 'or', 'wherein', 'ten', 'again', 'another', 'used', 'whom', 'some', 'be', \"n't\", 'whenever', 'hereby', 'this', 'rather', 'whence', 'becomes', 'even', 'five', 'eight', 'but', 'see', 'perhaps', 'ourselves', 'hereafter', 'you', 'put', 'during', 'move', 'whereupon', 'have', 'which', 'via', 'latter', 'itself', 'besides', 'everything', 'nobody', 'because', 'yourself', 'whither', 'becoming', 'thereafter', 'latterly', 'beyond', 'six', 'n’t', 'behind', 'would', 'already', 'myself', 'namely', 'made', '’m', 'formerly', '‘ll', 'amount', 'indeed', 'when', 'me', 'few', 'here', 'sometime', \"'s\", 'seeming', 'please', 'regarding', 'cannot', 'two', 'been', 'might', 'us', 'and', 'are', 'whereafter', 'until', 'either', 'where', 'beforehand', 'without', 'wherever', 'through', '’ll', 're', 'could', 'never', 'over', 'empty', 'sixty', 'since', 'amongst', 'others', 'get', 'whether', 'that', 'full', 'so', 'a', 'everywhere', 'mostly', '’ve', 'any', 'keep', 'yet', 'thereby', 'along', '‘ve', 'had', 'i', 'into', 'further', 'within', 'her', '’d', 'therefore', 'of', 'various', 'below', 'also', 'own', 'can', 'really', 'before', 'no', 'quite', 'together', 'the', 'does', 'anything', 'how', 'should', 'only', '’s', 'done', 'such', 'twelve'}\n"
     ]
    }
   ],
   "source": [
    "#Stop Words Count\n",
    "print(STOP_WORDS)"
   ]
  },
  {
   "cell_type": "code",
   "execution_count": 17,
   "id": "41b34c53",
   "metadata": {
    "execution": {
     "iopub.execute_input": "2023-05-15T06:47:11.151594Z",
     "iopub.status.busy": "2023-05-15T06:47:11.150663Z",
     "iopub.status.idle": "2023-05-15T06:47:11.154266Z",
     "shell.execute_reply": "2023-05-15T06:47:11.153658Z",
     "shell.execute_reply.started": "2021-12-14T04:32:07.484879Z"
    },
    "papermill": {
     "duration": 0.172221,
     "end_time": "2023-05-15T06:47:11.154435",
     "exception": false,
     "start_time": "2023-05-15T06:47:10.982214",
     "status": "completed"
    },
    "tags": []
   },
   "outputs": [],
   "source": [
    "x = 'this is text data'"
   ]
  },
  {
   "cell_type": "code",
   "execution_count": 18,
   "id": "0a15dfdd",
   "metadata": {
    "execution": {
     "iopub.execute_input": "2023-05-15T06:47:11.482573Z",
     "iopub.status.busy": "2023-05-15T06:47:11.481575Z",
     "iopub.status.idle": "2023-05-15T06:47:11.486159Z",
     "shell.execute_reply": "2023-05-15T06:47:11.485447Z",
     "shell.execute_reply.started": "2021-12-14T04:32:07.493264Z"
    },
    "papermill": {
     "duration": 0.171532,
     "end_time": "2023-05-15T06:47:11.486333",
     "exception": false,
     "start_time": "2023-05-15T06:47:11.314801",
     "status": "completed"
    },
    "tags": []
   },
   "outputs": [
    {
     "data": {
      "text/plain": [
       "['this', 'is', 'text', 'data']"
      ]
     },
     "execution_count": 18,
     "metadata": {},
     "output_type": "execute_result"
    }
   ],
   "source": [
    "x.split()"
   ]
  },
  {
   "cell_type": "code",
   "execution_count": 19,
   "id": "9e0f20e9",
   "metadata": {
    "execution": {
     "iopub.execute_input": "2023-05-15T06:47:11.817058Z",
     "iopub.status.busy": "2023-05-15T06:47:11.815944Z",
     "iopub.status.idle": "2023-05-15T06:47:11.820453Z",
     "shell.execute_reply": "2023-05-15T06:47:11.819853Z",
     "shell.execute_reply.started": "2021-12-14T04:32:07.506019Z"
    },
    "papermill": {
     "duration": 0.171088,
     "end_time": "2023-05-15T06:47:11.820606",
     "exception": false,
     "start_time": "2023-05-15T06:47:11.649518",
     "status": "completed"
    },
    "tags": []
   },
   "outputs": [
    {
     "data": {
      "text/plain": [
       "2"
      ]
     },
     "execution_count": 19,
     "metadata": {},
     "output_type": "execute_result"
    }
   ],
   "source": [
    "len([t for t in x.split() if t in STOP_WORDS])"
   ]
  },
  {
   "cell_type": "code",
   "execution_count": 20,
   "id": "cc892004",
   "metadata": {
    "execution": {
     "iopub.execute_input": "2023-05-15T06:47:12.149802Z",
     "iopub.status.busy": "2023-05-15T06:47:12.149025Z",
     "iopub.status.idle": "2023-05-15T06:47:18.340476Z",
     "shell.execute_reply": "2023-05-15T06:47:18.339746Z",
     "shell.execute_reply.started": "2021-12-14T04:32:07.518474Z"
    },
    "papermill": {
     "duration": 6.359719,
     "end_time": "2023-05-15T06:47:18.340635",
     "exception": false,
     "start_time": "2023-05-15T06:47:11.980916",
     "status": "completed"
    },
    "tags": []
   },
   "outputs": [
    {
     "data": {
      "text/html": [
       "<div>\n",
       "<style scoped>\n",
       "    .dataframe tbody tr th:only-of-type {\n",
       "        vertical-align: middle;\n",
       "    }\n",
       "\n",
       "    .dataframe tbody tr th {\n",
       "        vertical-align: top;\n",
       "    }\n",
       "\n",
       "    .dataframe thead th {\n",
       "        text-align: right;\n",
       "    }\n",
       "</style>\n",
       "<table border=\"1\" class=\"dataframe\">\n",
       "  <thead>\n",
       "    <tr style=\"text-align: right;\">\n",
       "      <th></th>\n",
       "      <th>twitts</th>\n",
       "      <th>sentiment</th>\n",
       "      <th>word_counts</th>\n",
       "      <th>char_counts</th>\n",
       "      <th>avg_word_len</th>\n",
       "      <th>stop_words_len</th>\n",
       "    </tr>\n",
       "  </thead>\n",
       "  <tbody>\n",
       "    <tr>\n",
       "      <th>0</th>\n",
       "      <td>@switchfoot http://twitpic.com/2y1zl - Awww, t...</td>\n",
       "      <td>0</td>\n",
       "      <td>19</td>\n",
       "      <td>115</td>\n",
       "      <td>5.052632</td>\n",
       "      <td>4</td>\n",
       "    </tr>\n",
       "    <tr>\n",
       "      <th>1</th>\n",
       "      <td>is upset that he can't update his Facebook by ...</td>\n",
       "      <td>0</td>\n",
       "      <td>21</td>\n",
       "      <td>111</td>\n",
       "      <td>4.285714</td>\n",
       "      <td>9</td>\n",
       "    </tr>\n",
       "    <tr>\n",
       "      <th>2</th>\n",
       "      <td>@Kenichan I dived many times for the ball. Man...</td>\n",
       "      <td>0</td>\n",
       "      <td>18</td>\n",
       "      <td>89</td>\n",
       "      <td>3.944444</td>\n",
       "      <td>7</td>\n",
       "    </tr>\n",
       "    <tr>\n",
       "      <th>3</th>\n",
       "      <td>my whole body feels itchy and like its on fire</td>\n",
       "      <td>0</td>\n",
       "      <td>10</td>\n",
       "      <td>47</td>\n",
       "      <td>3.700000</td>\n",
       "      <td>5</td>\n",
       "    </tr>\n",
       "    <tr>\n",
       "      <th>4</th>\n",
       "      <td>@nationwideclass no, it's not behaving at all....</td>\n",
       "      <td>0</td>\n",
       "      <td>21</td>\n",
       "      <td>111</td>\n",
       "      <td>4.285714</td>\n",
       "      <td>10</td>\n",
       "    </tr>\n",
       "  </tbody>\n",
       "</table>\n",
       "</div>"
      ],
      "text/plain": [
       "                                              twitts  sentiment  word_counts  \\\n",
       "0  @switchfoot http://twitpic.com/2y1zl - Awww, t...          0           19   \n",
       "1  is upset that he can't update his Facebook by ...          0           21   \n",
       "2  @Kenichan I dived many times for the ball. Man...          0           18   \n",
       "3    my whole body feels itchy and like its on fire           0           10   \n",
       "4  @nationwideclass no, it's not behaving at all....          0           21   \n",
       "\n",
       "   char_counts  avg_word_len  stop_words_len  \n",
       "0          115      5.052632               4  \n",
       "1          111      4.285714               9  \n",
       "2           89      3.944444               7  \n",
       "3           47      3.700000               5  \n",
       "4          111      4.285714              10  "
      ]
     },
     "execution_count": 20,
     "metadata": {},
     "output_type": "execute_result"
    }
   ],
   "source": [
    "df['stop_words_len'] = df['twitts'].apply(lambda x: len([t for t in x.split() if t in STOP_WORDS]))\n",
    "df.head()"
   ]
  },
  {
   "cell_type": "code",
   "execution_count": 21,
   "id": "c5893bcf",
   "metadata": {
    "execution": {
     "iopub.execute_input": "2023-05-15T06:47:18.671204Z",
     "iopub.status.busy": "2023-05-15T06:47:18.670282Z",
     "iopub.status.idle": "2023-05-15T06:47:18.673346Z",
     "shell.execute_reply": "2023-05-15T06:47:18.672759Z",
     "shell.execute_reply.started": "2021-12-14T04:32:13.040277Z"
    },
    "papermill": {
     "duration": 0.169624,
     "end_time": "2023-05-15T06:47:18.673503",
     "exception": false,
     "start_time": "2023-05-15T06:47:18.503879",
     "status": "completed"
    },
    "tags": []
   },
   "outputs": [],
   "source": [
    "#Count #HashTags and @Mentions"
   ]
  },
  {
   "cell_type": "code",
   "execution_count": 22,
   "id": "472f55d6",
   "metadata": {
    "execution": {
     "iopub.execute_input": "2023-05-15T06:47:19.001986Z",
     "iopub.status.busy": "2023-05-15T06:47:19.001243Z",
     "iopub.status.idle": "2023-05-15T06:47:19.004881Z",
     "shell.execute_reply": "2023-05-15T06:47:19.005565Z",
     "shell.execute_reply.started": "2021-12-14T04:32:13.046041Z"
    },
    "papermill": {
     "duration": 0.169125,
     "end_time": "2023-05-15T06:47:19.005766",
     "exception": false,
     "start_time": "2023-05-15T06:47:18.836641",
     "status": "completed"
    },
    "tags": []
   },
   "outputs": [],
   "source": [
    "x = 'this #hashtag and this is @mention'\n",
    "# x = x.split()\n",
    "# x"
   ]
  },
  {
   "cell_type": "code",
   "execution_count": 23,
   "id": "283a7bc5",
   "metadata": {
    "execution": {
     "iopub.execute_input": "2023-05-15T06:47:19.340183Z",
     "iopub.status.busy": "2023-05-15T06:47:19.339029Z",
     "iopub.status.idle": "2023-05-15T06:47:19.345150Z",
     "shell.execute_reply": "2023-05-15T06:47:19.346053Z",
     "shell.execute_reply.started": "2021-12-14T04:32:13.067072Z"
    },
    "papermill": {
     "duration": 0.180407,
     "end_time": "2023-05-15T06:47:19.346373",
     "exception": false,
     "start_time": "2023-05-15T06:47:19.165966",
     "status": "completed"
    },
    "tags": []
   },
   "outputs": [
    {
     "data": {
      "text/plain": [
       "['@mention']"
      ]
     },
     "execution_count": 23,
     "metadata": {},
     "output_type": "execute_result"
    }
   ],
   "source": [
    "[t for t in x.split() if t.startswith('@')]"
   ]
  },
  {
   "cell_type": "code",
   "execution_count": 24,
   "id": "f22621e7",
   "metadata": {
    "execution": {
     "iopub.execute_input": "2023-05-15T06:47:19.692760Z",
     "iopub.status.busy": "2023-05-15T06:47:19.691787Z",
     "iopub.status.idle": "2023-05-15T06:47:19.696442Z",
     "shell.execute_reply": "2023-05-15T06:47:19.695827Z",
     "shell.execute_reply.started": "2021-12-14T04:32:13.078443Z"
    },
    "papermill": {
     "duration": 0.173813,
     "end_time": "2023-05-15T06:47:19.696598",
     "exception": false,
     "start_time": "2023-05-15T06:47:19.522785",
     "status": "completed"
    },
    "tags": []
   },
   "outputs": [
    {
     "data": {
      "text/plain": [
       "['@mention']"
      ]
     },
     "execution_count": 24,
     "metadata": {},
     "output_type": "execute_result"
    }
   ],
   "source": [
    "['@mention']"
   ]
  },
  {
   "cell_type": "code",
   "execution_count": 25,
   "id": "4c320934",
   "metadata": {
    "execution": {
     "iopub.execute_input": "2023-05-15T06:47:20.066562Z",
     "iopub.status.busy": "2023-05-15T06:47:20.065338Z",
     "iopub.status.idle": "2023-05-15T06:47:34.012051Z",
     "shell.execute_reply": "2023-05-15T06:47:34.011383Z",
     "shell.execute_reply.started": "2021-12-14T04:32:13.090303Z"
    },
    "papermill": {
     "duration": 14.151001,
     "end_time": "2023-05-15T06:47:34.012238",
     "exception": false,
     "start_time": "2023-05-15T06:47:19.861237",
     "status": "completed"
    },
    "tags": []
   },
   "outputs": [
    {
     "data": {
      "text/html": [
       "<div>\n",
       "<style scoped>\n",
       "    .dataframe tbody tr th:only-of-type {\n",
       "        vertical-align: middle;\n",
       "    }\n",
       "\n",
       "    .dataframe tbody tr th {\n",
       "        vertical-align: top;\n",
       "    }\n",
       "\n",
       "    .dataframe thead th {\n",
       "        text-align: right;\n",
       "    }\n",
       "</style>\n",
       "<table border=\"1\" class=\"dataframe\">\n",
       "  <thead>\n",
       "    <tr style=\"text-align: right;\">\n",
       "      <th></th>\n",
       "      <th>twitts</th>\n",
       "      <th>sentiment</th>\n",
       "      <th>word_counts</th>\n",
       "      <th>char_counts</th>\n",
       "      <th>avg_word_len</th>\n",
       "      <th>stop_words_len</th>\n",
       "      <th>hashtags_count</th>\n",
       "      <th>mentions_count</th>\n",
       "    </tr>\n",
       "  </thead>\n",
       "  <tbody>\n",
       "    <tr>\n",
       "      <th>0</th>\n",
       "      <td>@switchfoot http://twitpic.com/2y1zl - Awww, t...</td>\n",
       "      <td>0</td>\n",
       "      <td>19</td>\n",
       "      <td>115</td>\n",
       "      <td>5.052632</td>\n",
       "      <td>4</td>\n",
       "      <td>0</td>\n",
       "      <td>1</td>\n",
       "    </tr>\n",
       "    <tr>\n",
       "      <th>1</th>\n",
       "      <td>is upset that he can't update his Facebook by ...</td>\n",
       "      <td>0</td>\n",
       "      <td>21</td>\n",
       "      <td>111</td>\n",
       "      <td>4.285714</td>\n",
       "      <td>9</td>\n",
       "      <td>0</td>\n",
       "      <td>0</td>\n",
       "    </tr>\n",
       "    <tr>\n",
       "      <th>2</th>\n",
       "      <td>@Kenichan I dived many times for the ball. Man...</td>\n",
       "      <td>0</td>\n",
       "      <td>18</td>\n",
       "      <td>89</td>\n",
       "      <td>3.944444</td>\n",
       "      <td>7</td>\n",
       "      <td>0</td>\n",
       "      <td>1</td>\n",
       "    </tr>\n",
       "    <tr>\n",
       "      <th>3</th>\n",
       "      <td>my whole body feels itchy and like its on fire</td>\n",
       "      <td>0</td>\n",
       "      <td>10</td>\n",
       "      <td>47</td>\n",
       "      <td>3.700000</td>\n",
       "      <td>5</td>\n",
       "      <td>0</td>\n",
       "      <td>0</td>\n",
       "    </tr>\n",
       "    <tr>\n",
       "      <th>4</th>\n",
       "      <td>@nationwideclass no, it's not behaving at all....</td>\n",
       "      <td>0</td>\n",
       "      <td>21</td>\n",
       "      <td>111</td>\n",
       "      <td>4.285714</td>\n",
       "      <td>10</td>\n",
       "      <td>0</td>\n",
       "      <td>1</td>\n",
       "    </tr>\n",
       "  </tbody>\n",
       "</table>\n",
       "</div>"
      ],
      "text/plain": [
       "                                              twitts  sentiment  word_counts  \\\n",
       "0  @switchfoot http://twitpic.com/2y1zl - Awww, t...          0           19   \n",
       "1  is upset that he can't update his Facebook by ...          0           21   \n",
       "2  @Kenichan I dived many times for the ball. Man...          0           18   \n",
       "3    my whole body feels itchy and like its on fire           0           10   \n",
       "4  @nationwideclass no, it's not behaving at all....          0           21   \n",
       "\n",
       "   char_counts  avg_word_len  stop_words_len  hashtags_count  mentions_count  \n",
       "0          115      5.052632               4               0               1  \n",
       "1          111      4.285714               9               0               0  \n",
       "2           89      3.944444               7               0               1  \n",
       "3           47      3.700000               5               0               0  \n",
       "4          111      4.285714              10               0               1  "
      ]
     },
     "execution_count": 25,
     "metadata": {},
     "output_type": "execute_result"
    }
   ],
   "source": [
    "df['hashtags_count'] = df['twitts'].apply(lambda x: len([t for t in x.split() if t.startswith('#')]))\n",
    "df['mentions_count'] = df['twitts'].apply(lambda x: len([t for t in x.split() if t.startswith('@')]))\n",
    "df.head()"
   ]
  },
  {
   "cell_type": "code",
   "execution_count": 26,
   "id": "480bf690",
   "metadata": {
    "execution": {
     "iopub.execute_input": "2023-05-15T06:47:34.352104Z",
     "iopub.status.busy": "2023-05-15T06:47:34.350931Z",
     "iopub.status.idle": "2023-05-15T06:47:34.354127Z",
     "shell.execute_reply": "2023-05-15T06:47:34.353485Z",
     "shell.execute_reply.started": "2021-12-14T04:32:24.339930Z"
    },
    "papermill": {
     "duration": 0.17692,
     "end_time": "2023-05-15T06:47:34.354295",
     "exception": false,
     "start_time": "2023-05-15T06:47:34.177375",
     "status": "completed"
    },
    "tags": []
   },
   "outputs": [],
   "source": [
    "#If numeric digits are present in twitts, we are calculating the number of digits in each sentences."
   ]
  },
  {
   "cell_type": "code",
   "execution_count": 27,
   "id": "c0b073d4",
   "metadata": {
    "execution": {
     "iopub.execute_input": "2023-05-15T06:47:34.691654Z",
     "iopub.status.busy": "2023-05-15T06:47:34.690864Z",
     "iopub.status.idle": "2023-05-15T06:47:39.819195Z",
     "shell.execute_reply": "2023-05-15T06:47:39.819735Z",
     "shell.execute_reply.started": "2021-12-14T04:32:24.345001Z"
    },
    "papermill": {
     "duration": 5.300061,
     "end_time": "2023-05-15T06:47:39.819931",
     "exception": false,
     "start_time": "2023-05-15T06:47:34.519870",
     "status": "completed"
    },
    "tags": []
   },
   "outputs": [
    {
     "data": {
      "text/html": [
       "<div>\n",
       "<style scoped>\n",
       "    .dataframe tbody tr th:only-of-type {\n",
       "        vertical-align: middle;\n",
       "    }\n",
       "\n",
       "    .dataframe tbody tr th {\n",
       "        vertical-align: top;\n",
       "    }\n",
       "\n",
       "    .dataframe thead th {\n",
       "        text-align: right;\n",
       "    }\n",
       "</style>\n",
       "<table border=\"1\" class=\"dataframe\">\n",
       "  <thead>\n",
       "    <tr style=\"text-align: right;\">\n",
       "      <th></th>\n",
       "      <th>twitts</th>\n",
       "      <th>sentiment</th>\n",
       "      <th>word_counts</th>\n",
       "      <th>char_counts</th>\n",
       "      <th>avg_word_len</th>\n",
       "      <th>stop_words_len</th>\n",
       "      <th>hashtags_count</th>\n",
       "      <th>mentions_count</th>\n",
       "      <th>numerics_count</th>\n",
       "    </tr>\n",
       "  </thead>\n",
       "  <tbody>\n",
       "    <tr>\n",
       "      <th>0</th>\n",
       "      <td>@switchfoot http://twitpic.com/2y1zl - Awww, t...</td>\n",
       "      <td>0</td>\n",
       "      <td>19</td>\n",
       "      <td>115</td>\n",
       "      <td>5.052632</td>\n",
       "      <td>4</td>\n",
       "      <td>0</td>\n",
       "      <td>1</td>\n",
       "      <td>0</td>\n",
       "    </tr>\n",
       "    <tr>\n",
       "      <th>1</th>\n",
       "      <td>is upset that he can't update his Facebook by ...</td>\n",
       "      <td>0</td>\n",
       "      <td>21</td>\n",
       "      <td>111</td>\n",
       "      <td>4.285714</td>\n",
       "      <td>9</td>\n",
       "      <td>0</td>\n",
       "      <td>0</td>\n",
       "      <td>0</td>\n",
       "    </tr>\n",
       "    <tr>\n",
       "      <th>2</th>\n",
       "      <td>@Kenichan I dived many times for the ball. Man...</td>\n",
       "      <td>0</td>\n",
       "      <td>18</td>\n",
       "      <td>89</td>\n",
       "      <td>3.944444</td>\n",
       "      <td>7</td>\n",
       "      <td>0</td>\n",
       "      <td>1</td>\n",
       "      <td>0</td>\n",
       "    </tr>\n",
       "    <tr>\n",
       "      <th>3</th>\n",
       "      <td>my whole body feels itchy and like its on fire</td>\n",
       "      <td>0</td>\n",
       "      <td>10</td>\n",
       "      <td>47</td>\n",
       "      <td>3.700000</td>\n",
       "      <td>5</td>\n",
       "      <td>0</td>\n",
       "      <td>0</td>\n",
       "      <td>0</td>\n",
       "    </tr>\n",
       "    <tr>\n",
       "      <th>4</th>\n",
       "      <td>@nationwideclass no, it's not behaving at all....</td>\n",
       "      <td>0</td>\n",
       "      <td>21</td>\n",
       "      <td>111</td>\n",
       "      <td>4.285714</td>\n",
       "      <td>10</td>\n",
       "      <td>0</td>\n",
       "      <td>1</td>\n",
       "      <td>0</td>\n",
       "    </tr>\n",
       "  </tbody>\n",
       "</table>\n",
       "</div>"
      ],
      "text/plain": [
       "                                              twitts  sentiment  word_counts  \\\n",
       "0  @switchfoot http://twitpic.com/2y1zl - Awww, t...          0           19   \n",
       "1  is upset that he can't update his Facebook by ...          0           21   \n",
       "2  @Kenichan I dived many times for the ball. Man...          0           18   \n",
       "3    my whole body feels itchy and like its on fire           0           10   \n",
       "4  @nationwideclass no, it's not behaving at all....          0           21   \n",
       "\n",
       "   char_counts  avg_word_len  stop_words_len  hashtags_count  mentions_count  \\\n",
       "0          115      5.052632               4               0               1   \n",
       "1          111      4.285714               9               0               0   \n",
       "2           89      3.944444               7               0               1   \n",
       "3           47      3.700000               5               0               0   \n",
       "4          111      4.285714              10               0               1   \n",
       "\n",
       "   numerics_count  \n",
       "0               0  \n",
       "1               0  \n",
       "2               0  \n",
       "3               0  \n",
       "4               0  "
      ]
     },
     "execution_count": 27,
     "metadata": {},
     "output_type": "execute_result"
    }
   ],
   "source": [
    "df['numerics_count'] = df['twitts'].apply(lambda x: len([t for t in x.split() if t.isdigit()]))\n",
    "df.head()"
   ]
  },
  {
   "cell_type": "code",
   "execution_count": 28,
   "id": "59a59327",
   "metadata": {
    "execution": {
     "iopub.execute_input": "2023-05-15T06:47:40.154938Z",
     "iopub.status.busy": "2023-05-15T06:47:40.153638Z",
     "iopub.status.idle": "2023-05-15T06:47:40.157396Z",
     "shell.execute_reply": "2023-05-15T06:47:40.158145Z",
     "shell.execute_reply.started": "2021-12-14T04:32:28.470735Z"
    },
    "papermill": {
     "duration": 0.174161,
     "end_time": "2023-05-15T06:47:40.158352",
     "exception": false,
     "start_time": "2023-05-15T06:47:39.984191",
     "status": "completed"
    },
    "tags": []
   },
   "outputs": [],
   "source": [
    "#UPPER case words count\n",
    "# calculating the number of UPPERcase words in each sentences if length is more than 3."
   ]
  },
  {
   "cell_type": "code",
   "execution_count": 29,
   "id": "7aba27ac",
   "metadata": {
    "execution": {
     "iopub.execute_input": "2023-05-15T06:47:40.539576Z",
     "iopub.status.busy": "2023-05-15T06:47:40.538826Z",
     "iopub.status.idle": "2023-05-15T06:47:46.169664Z",
     "shell.execute_reply": "2023-05-15T06:47:46.169079Z",
     "shell.execute_reply.started": "2021-12-14T04:32:28.476803Z"
    },
    "papermill": {
     "duration": 5.839415,
     "end_time": "2023-05-15T06:47:46.169843",
     "exception": false,
     "start_time": "2023-05-15T06:47:40.330428",
     "status": "completed"
    },
    "tags": []
   },
   "outputs": [
    {
     "data": {
      "text/html": [
       "<div>\n",
       "<style scoped>\n",
       "    .dataframe tbody tr th:only-of-type {\n",
       "        vertical-align: middle;\n",
       "    }\n",
       "\n",
       "    .dataframe tbody tr th {\n",
       "        vertical-align: top;\n",
       "    }\n",
       "\n",
       "    .dataframe thead th {\n",
       "        text-align: right;\n",
       "    }\n",
       "</style>\n",
       "<table border=\"1\" class=\"dataframe\">\n",
       "  <thead>\n",
       "    <tr style=\"text-align: right;\">\n",
       "      <th></th>\n",
       "      <th>twitts</th>\n",
       "      <th>sentiment</th>\n",
       "      <th>word_counts</th>\n",
       "      <th>char_counts</th>\n",
       "      <th>avg_word_len</th>\n",
       "      <th>stop_words_len</th>\n",
       "      <th>hashtags_count</th>\n",
       "      <th>mentions_count</th>\n",
       "      <th>numerics_count</th>\n",
       "      <th>upper_counts</th>\n",
       "    </tr>\n",
       "  </thead>\n",
       "  <tbody>\n",
       "    <tr>\n",
       "      <th>0</th>\n",
       "      <td>@switchfoot http://twitpic.com/2y1zl - Awww, t...</td>\n",
       "      <td>0</td>\n",
       "      <td>19</td>\n",
       "      <td>115</td>\n",
       "      <td>5.052632</td>\n",
       "      <td>4</td>\n",
       "      <td>0</td>\n",
       "      <td>1</td>\n",
       "      <td>0</td>\n",
       "      <td>1</td>\n",
       "    </tr>\n",
       "    <tr>\n",
       "      <th>1</th>\n",
       "      <td>is upset that he can't update his Facebook by ...</td>\n",
       "      <td>0</td>\n",
       "      <td>21</td>\n",
       "      <td>111</td>\n",
       "      <td>4.285714</td>\n",
       "      <td>9</td>\n",
       "      <td>0</td>\n",
       "      <td>0</td>\n",
       "      <td>0</td>\n",
       "      <td>0</td>\n",
       "    </tr>\n",
       "    <tr>\n",
       "      <th>2</th>\n",
       "      <td>@Kenichan I dived many times for the ball. Man...</td>\n",
       "      <td>0</td>\n",
       "      <td>18</td>\n",
       "      <td>89</td>\n",
       "      <td>3.944444</td>\n",
       "      <td>7</td>\n",
       "      <td>0</td>\n",
       "      <td>1</td>\n",
       "      <td>0</td>\n",
       "      <td>1</td>\n",
       "    </tr>\n",
       "    <tr>\n",
       "      <th>3</th>\n",
       "      <td>my whole body feels itchy and like its on fire</td>\n",
       "      <td>0</td>\n",
       "      <td>10</td>\n",
       "      <td>47</td>\n",
       "      <td>3.700000</td>\n",
       "      <td>5</td>\n",
       "      <td>0</td>\n",
       "      <td>0</td>\n",
       "      <td>0</td>\n",
       "      <td>0</td>\n",
       "    </tr>\n",
       "    <tr>\n",
       "      <th>4</th>\n",
       "      <td>@nationwideclass no, it's not behaving at all....</td>\n",
       "      <td>0</td>\n",
       "      <td>21</td>\n",
       "      <td>111</td>\n",
       "      <td>4.285714</td>\n",
       "      <td>10</td>\n",
       "      <td>0</td>\n",
       "      <td>1</td>\n",
       "      <td>0</td>\n",
       "      <td>1</td>\n",
       "    </tr>\n",
       "  </tbody>\n",
       "</table>\n",
       "</div>"
      ],
      "text/plain": [
       "                                              twitts  sentiment  word_counts  \\\n",
       "0  @switchfoot http://twitpic.com/2y1zl - Awww, t...          0           19   \n",
       "1  is upset that he can't update his Facebook by ...          0           21   \n",
       "2  @Kenichan I dived many times for the ball. Man...          0           18   \n",
       "3    my whole body feels itchy and like its on fire           0           10   \n",
       "4  @nationwideclass no, it's not behaving at all....          0           21   \n",
       "\n",
       "   char_counts  avg_word_len  stop_words_len  hashtags_count  mentions_count  \\\n",
       "0          115      5.052632               4               0               1   \n",
       "1          111      4.285714               9               0               0   \n",
       "2           89      3.944444               7               0               1   \n",
       "3           47      3.700000               5               0               0   \n",
       "4          111      4.285714              10               0               1   \n",
       "\n",
       "   numerics_count  upper_counts  \n",
       "0               0             1  \n",
       "1               0             0  \n",
       "2               0             1  \n",
       "3               0             0  \n",
       "4               0             1  "
      ]
     },
     "execution_count": 29,
     "metadata": {},
     "output_type": "execute_result"
    }
   ],
   "source": [
    "df['upper_counts'] = df['twitts'].apply(lambda x: len([t for t in x.split() if t.isupper() and len(x)>3]))\n",
    "df.head()"
   ]
  },
  {
   "cell_type": "code",
   "execution_count": 30,
   "id": "df3a6c39",
   "metadata": {
    "execution": {
     "iopub.execute_input": "2023-05-15T06:47:46.510041Z",
     "iopub.status.busy": "2023-05-15T06:47:46.509198Z",
     "iopub.status.idle": "2023-05-15T06:47:46.603635Z",
     "shell.execute_reply": "2023-05-15T06:47:46.602926Z",
     "shell.execute_reply.started": "2021-12-14T04:32:33.075321Z"
    },
    "papermill": {
     "duration": 0.264933,
     "end_time": "2023-05-15T06:47:46.603805",
     "exception": false,
     "start_time": "2023-05-15T06:47:46.338872",
     "status": "completed"
    },
    "tags": []
   },
   "outputs": [
    {
     "data": {
      "text/plain": [
       "\"so rylee,grace...wana go steve's party or not?? SADLY SINCE ITS EASTER I WNT B ABLE 2 DO MUCH  BUT OHH WELL.....\""
      ]
     },
     "execution_count": 30,
     "metadata": {},
     "output_type": "execute_result"
    }
   ],
   "source": [
    "df.loc[96]['twitts']\n",
    "\"so rylee,grace...wana go steve's party or not?? SADLY SINCE ITS EASTER I WNT B ABLE 2 DO MUCH  BUT OHH WELL.....\""
   ]
  },
  {
   "cell_type": "code",
   "execution_count": 31,
   "id": "42dab040",
   "metadata": {
    "execution": {
     "iopub.execute_input": "2023-05-15T06:47:46.937134Z",
     "iopub.status.busy": "2023-05-15T06:47:46.936416Z",
     "iopub.status.idle": "2023-05-15T06:47:46.939825Z",
     "shell.execute_reply": "2023-05-15T06:47:46.940491Z",
     "shell.execute_reply.started": "2021-12-14T04:32:33.163179Z"
    },
    "papermill": {
     "duration": 0.172291,
     "end_time": "2023-05-15T06:47:46.940687",
     "exception": false,
     "start_time": "2023-05-15T06:47:46.768396",
     "status": "completed"
    },
    "tags": []
   },
   "outputs": [],
   "source": [
    "#Preprocessing and Cleaning"
   ]
  },
  {
   "cell_type": "code",
   "execution_count": 32,
   "id": "8e1fe056",
   "metadata": {
    "execution": {
     "iopub.execute_input": "2023-05-15T06:47:47.301517Z",
     "iopub.status.busy": "2023-05-15T06:47:47.300723Z",
     "iopub.status.idle": "2023-05-15T06:47:48.238400Z",
     "shell.execute_reply": "2023-05-15T06:47:48.237795Z",
     "shell.execute_reply.started": "2021-12-14T04:32:33.169584Z"
    },
    "papermill": {
     "duration": 1.117496,
     "end_time": "2023-05-15T06:47:48.238560",
     "exception": false,
     "start_time": "2023-05-15T06:47:47.121064",
     "status": "completed"
    },
    "tags": []
   },
   "outputs": [
    {
     "data": {
      "text/html": [
       "<div>\n",
       "<style scoped>\n",
       "    .dataframe tbody tr th:only-of-type {\n",
       "        vertical-align: middle;\n",
       "    }\n",
       "\n",
       "    .dataframe tbody tr th {\n",
       "        vertical-align: top;\n",
       "    }\n",
       "\n",
       "    .dataframe thead th {\n",
       "        text-align: right;\n",
       "    }\n",
       "</style>\n",
       "<table border=\"1\" class=\"dataframe\">\n",
       "  <thead>\n",
       "    <tr style=\"text-align: right;\">\n",
       "      <th></th>\n",
       "      <th>twitts</th>\n",
       "      <th>sentiment</th>\n",
       "      <th>word_counts</th>\n",
       "      <th>char_counts</th>\n",
       "      <th>avg_word_len</th>\n",
       "      <th>stop_words_len</th>\n",
       "      <th>hashtags_count</th>\n",
       "      <th>mentions_count</th>\n",
       "      <th>numerics_count</th>\n",
       "      <th>upper_counts</th>\n",
       "    </tr>\n",
       "  </thead>\n",
       "  <tbody>\n",
       "    <tr>\n",
       "      <th>0</th>\n",
       "      <td>@switchfoot http://twitpic.com/2y1zl - awww, t...</td>\n",
       "      <td>0</td>\n",
       "      <td>19</td>\n",
       "      <td>115</td>\n",
       "      <td>5.052632</td>\n",
       "      <td>4</td>\n",
       "      <td>0</td>\n",
       "      <td>1</td>\n",
       "      <td>0</td>\n",
       "      <td>1</td>\n",
       "    </tr>\n",
       "    <tr>\n",
       "      <th>1</th>\n",
       "      <td>is upset that he can't update his facebook by ...</td>\n",
       "      <td>0</td>\n",
       "      <td>21</td>\n",
       "      <td>111</td>\n",
       "      <td>4.285714</td>\n",
       "      <td>9</td>\n",
       "      <td>0</td>\n",
       "      <td>0</td>\n",
       "      <td>0</td>\n",
       "      <td>0</td>\n",
       "    </tr>\n",
       "  </tbody>\n",
       "</table>\n",
       "</div>"
      ],
      "text/plain": [
       "                                              twitts  sentiment  word_counts  \\\n",
       "0  @switchfoot http://twitpic.com/2y1zl - awww, t...          0           19   \n",
       "1  is upset that he can't update his facebook by ...          0           21   \n",
       "\n",
       "   char_counts  avg_word_len  stop_words_len  hashtags_count  mentions_count  \\\n",
       "0          115      5.052632               4               0               1   \n",
       "1          111      4.285714               9               0               0   \n",
       "\n",
       "   numerics_count  upper_counts  \n",
       "0               0             1  \n",
       "1               0             0  "
      ]
     },
     "execution_count": 32,
     "metadata": {},
     "output_type": "execute_result"
    }
   ],
   "source": [
    "df['twitts'] = df['twitts'].apply(lambda x: x.lower())     #lower case conversion\n",
    "df.head(2)"
   ]
  },
  {
   "cell_type": "code",
   "execution_count": 33,
   "id": "7fb1a9f9",
   "metadata": {
    "execution": {
     "iopub.execute_input": "2023-05-15T06:47:48.579126Z",
     "iopub.status.busy": "2023-05-15T06:47:48.578371Z",
     "iopub.status.idle": "2023-05-15T06:47:48.581543Z",
     "shell.execute_reply": "2023-05-15T06:47:48.580976Z",
     "shell.execute_reply.started": "2021-12-14T04:32:33.981285Z"
    },
    "papermill": {
     "duration": 0.176363,
     "end_time": "2023-05-15T06:47:48.581701",
     "exception": false,
     "start_time": "2023-05-15T06:47:48.405338",
     "status": "completed"
    },
    "tags": []
   },
   "outputs": [],
   "source": [
    "#Contraction to Expansion"
   ]
  },
  {
   "cell_type": "code",
   "execution_count": 34,
   "id": "c058354f",
   "metadata": {
    "execution": {
     "iopub.execute_input": "2023-05-15T06:47:48.926850Z",
     "iopub.status.busy": "2023-05-15T06:47:48.921476Z",
     "iopub.status.idle": "2023-05-15T06:47:48.930426Z",
     "shell.execute_reply": "2023-05-15T06:47:48.929849Z",
     "shell.execute_reply.started": "2021-12-14T04:32:33.987132Z"
    },
    "papermill": {
     "duration": 0.182842,
     "end_time": "2023-05-15T06:47:48.930587",
     "exception": false,
     "start_time": "2023-05-15T06:47:48.747745",
     "status": "completed"
    },
    "tags": []
   },
   "outputs": [],
   "source": [
    "x = \"i don't know what you want, can't, he'll, i'd\"\n",
    "contractions = { \n",
    "\"ain't\": \"am not\",\n",
    "\"aren't\": \"are not\",\n",
    "\"can't\": \"cannot\",\n",
    "\"can't've\": \"cannot have\",\n",
    "\"'cause\": \"because\",\n",
    "\"could've\": \"could have\",\n",
    "\"couldn't\": \"could not\",\n",
    "\"couldn't've\": \"could not have\",\n",
    "\"didn't\": \"did not\",\n",
    "\"doesn't\": \"does not\",\n",
    "\"don't\": \"do not\",\n",
    "\"hadn't\": \"had not\",\n",
    "\"hadn't've\": \"had not have\",\n",
    "\"hasn't\": \"has not\",\n",
    "\"haven't\": \"have not\",\n",
    "\"he'd\": \"he would\",\n",
    "\"he'd've\": \"he would have\",\n",
    "\"he'll\": \"he will\",\n",
    "\"he'll've\": \"he will have\",\n",
    "\"he's\": \"he is\",\n",
    "\"how'd\": \"how did\",\n",
    "\"how'd'y\": \"how do you\",\n",
    "\"how'll\": \"how will\",\n",
    "\"how's\": \"how does\",\n",
    "\"i'd\": \"i would\",\n",
    "\"i'd've\": \"i would have\",\n",
    "\"i'll\": \"i will\",\n",
    "\"i'll've\": \"i will have\",\n",
    "\"i'm\": \"i am\",\n",
    "\"i've\": \"i have\",\n",
    "\"isn't\": \"is not\",\n",
    "\"it'd\": \"it would\",\n",
    "\"it'd've\": \"it would have\",\n",
    "\"it'll\": \"it will\",\n",
    "\"it'll've\": \"it will have\",\n",
    "\"it's\": \"it is\",\n",
    "\"let's\": \"let us\",\n",
    "\"ma'am\": \"madam\",\n",
    "\"mayn't\": \"may not\",\n",
    "\"might've\": \"might have\",\n",
    "\"mightn't\": \"might not\",\n",
    "\"mightn't've\": \"might not have\",\n",
    "\"must've\": \"must have\",\n",
    "\"mustn't\": \"must not\",\n",
    "\"mustn't've\": \"must not have\",\n",
    "\"needn't\": \"need not\",\n",
    "\"needn't've\": \"need not have\",\n",
    "\"o'clock\": \"of the clock\",\n",
    "\"oughtn't\": \"ought not\",\n",
    "\"oughtn't've\": \"ought not have\",\n",
    "\"shan't\": \"shall not\",\n",
    "\"sha'n't\": \"shall not\",\n",
    "\"shan't've\": \"shall not have\",\n",
    "\"she'd\": \"she would\",\n",
    "\"she'd've\": \"she would have\",\n",
    "\"she'll\": \"she will\",\n",
    "\"she'll've\": \"she will have\",\n",
    "\"she's\": \"she is\",\n",
    "\"should've\": \"should have\",\n",
    "\"shouldn't\": \"should not\",\n",
    "\"shouldn't've\": \"should not have\",\n",
    "\"so've\": \"so have\",\n",
    "\"so's\": \"so is\",\n",
    "\"that'd\": \"that would\",\n",
    "\"that'd've\": \"that would have\",\n",
    "\"that's\": \"that is\",\n",
    "\"there'd\": \"there would\",\n",
    "\"there'd've\": \"there would have\",\n",
    "\"there's\": \"there is\",\n",
    "\"they'd\": \"they would\",\n",
    "\"they'd've\": \"they would have\",\n",
    "\"they'll\": \"they will\",\n",
    "\"they'll've\": \"they will have\",\n",
    "\"they're\": \"they are\",\n",
    "\"they've\": \"they have\",\n",
    "\"to've\": \"to have\",\n",
    "\"wasn't\": \"was not\",\n",
    "\" u \": \" you \",\n",
    "\" ur \": \" your \",\n",
    "\" n \": \" and \"}"
   ]
  },
  {
   "cell_type": "code",
   "execution_count": 35,
   "id": "f1b64497",
   "metadata": {
    "execution": {
     "iopub.execute_input": "2023-05-15T06:47:49.270593Z",
     "iopub.status.busy": "2023-05-15T06:47:49.269857Z",
     "iopub.status.idle": "2023-05-15T06:47:49.274402Z",
     "shell.execute_reply": "2023-05-15T06:47:49.274920Z",
     "shell.execute_reply.started": "2021-12-14T04:32:34.001393Z"
    },
    "papermill": {
     "duration": 0.180099,
     "end_time": "2023-05-15T06:47:49.275109",
     "exception": false,
     "start_time": "2023-05-15T06:47:49.095010",
     "status": "completed"
    },
    "tags": []
   },
   "outputs": [
    {
     "data": {
      "text/plain": [
       "'hi, i would be happy'"
      ]
     },
     "execution_count": 35,
     "metadata": {},
     "output_type": "execute_result"
    }
   ],
   "source": [
    "def cont_to_exp(x):\n",
    "    if type(x) is str:\n",
    "        for key in contractions:\n",
    "            value = contractions[key]\n",
    "            x = x.replace(key, value)\n",
    "        return x\n",
    "    else:\n",
    "        return x\n",
    "x = \"hi, i'd be happy\"\n",
    "cont_to_exp(x)\n",
    "'hi, i would be happy'"
   ]
  },
  {
   "cell_type": "code",
   "execution_count": 36,
   "id": "ec30608f",
   "metadata": {
    "execution": {
     "iopub.execute_input": "2023-05-15T06:47:49.616944Z",
     "iopub.status.busy": "2023-05-15T06:47:49.616130Z",
     "iopub.status.idle": "2023-05-15T06:48:41.362644Z",
     "shell.execute_reply": "2023-05-15T06:48:41.363346Z",
     "shell.execute_reply.started": "2021-12-14T04:32:34.020032Z"
    },
    "papermill": {
     "duration": 51.921151,
     "end_time": "2023-05-15T06:48:41.363549",
     "exception": false,
     "start_time": "2023-05-15T06:47:49.442398",
     "status": "completed"
    },
    "tags": []
   },
   "outputs": [
    {
     "name": "stdout",
     "output_type": "stream",
     "text": [
      "CPU times: user 51.5 s, sys: 88.6 ms, total: 51.6 s\n",
      "Wall time: 51.6 s\n"
     ]
    }
   ],
   "source": [
    "%%time\n",
    "df['twitts'] = df['twitts'].apply(lambda x: cont_to_exp(x))\n"
   ]
  },
  {
   "cell_type": "code",
   "execution_count": 37,
   "id": "f6bceb0a",
   "metadata": {
    "execution": {
     "iopub.execute_input": "2023-05-15T06:48:41.709061Z",
     "iopub.status.busy": "2023-05-15T06:48:41.708246Z",
     "iopub.status.idle": "2023-05-15T06:48:41.724629Z",
     "shell.execute_reply": "2023-05-15T06:48:41.725205Z",
     "shell.execute_reply.started": "2021-12-14T04:33:17.259428Z"
    },
    "papermill": {
     "duration": 0.19092,
     "end_time": "2023-05-15T06:48:41.725439",
     "exception": false,
     "start_time": "2023-05-15T06:48:41.534519",
     "status": "completed"
    },
    "tags": []
   },
   "outputs": [
    {
     "data": {
      "text/html": [
       "<div>\n",
       "<style scoped>\n",
       "    .dataframe tbody tr th:only-of-type {\n",
       "        vertical-align: middle;\n",
       "    }\n",
       "\n",
       "    .dataframe tbody tr th {\n",
       "        vertical-align: top;\n",
       "    }\n",
       "\n",
       "    .dataframe thead th {\n",
       "        text-align: right;\n",
       "    }\n",
       "</style>\n",
       "<table border=\"1\" class=\"dataframe\">\n",
       "  <thead>\n",
       "    <tr style=\"text-align: right;\">\n",
       "      <th></th>\n",
       "      <th>twitts</th>\n",
       "      <th>sentiment</th>\n",
       "      <th>word_counts</th>\n",
       "      <th>char_counts</th>\n",
       "      <th>avg_word_len</th>\n",
       "      <th>stop_words_len</th>\n",
       "      <th>hashtags_count</th>\n",
       "      <th>mentions_count</th>\n",
       "      <th>numerics_count</th>\n",
       "      <th>upper_counts</th>\n",
       "    </tr>\n",
       "  </thead>\n",
       "  <tbody>\n",
       "    <tr>\n",
       "      <th>0</th>\n",
       "      <td>@switchfoot http://twitpic.com/2y1zl - awww, t...</td>\n",
       "      <td>0</td>\n",
       "      <td>19</td>\n",
       "      <td>115</td>\n",
       "      <td>5.052632</td>\n",
       "      <td>4</td>\n",
       "      <td>0</td>\n",
       "      <td>1</td>\n",
       "      <td>0</td>\n",
       "      <td>1</td>\n",
       "    </tr>\n",
       "    <tr>\n",
       "      <th>1</th>\n",
       "      <td>is upset that he cannot update his facebook by...</td>\n",
       "      <td>0</td>\n",
       "      <td>21</td>\n",
       "      <td>111</td>\n",
       "      <td>4.285714</td>\n",
       "      <td>9</td>\n",
       "      <td>0</td>\n",
       "      <td>0</td>\n",
       "      <td>0</td>\n",
       "      <td>0</td>\n",
       "    </tr>\n",
       "    <tr>\n",
       "      <th>2</th>\n",
       "      <td>@kenichan i dived many times for the ball. man...</td>\n",
       "      <td>0</td>\n",
       "      <td>18</td>\n",
       "      <td>89</td>\n",
       "      <td>3.944444</td>\n",
       "      <td>7</td>\n",
       "      <td>0</td>\n",
       "      <td>1</td>\n",
       "      <td>0</td>\n",
       "      <td>1</td>\n",
       "    </tr>\n",
       "    <tr>\n",
       "      <th>3</th>\n",
       "      <td>my whole body feels itchy and like its on fire</td>\n",
       "      <td>0</td>\n",
       "      <td>10</td>\n",
       "      <td>47</td>\n",
       "      <td>3.700000</td>\n",
       "      <td>5</td>\n",
       "      <td>0</td>\n",
       "      <td>0</td>\n",
       "      <td>0</td>\n",
       "      <td>0</td>\n",
       "    </tr>\n",
       "    <tr>\n",
       "      <th>4</th>\n",
       "      <td>@nationwideclass no, it is not behaving at all...</td>\n",
       "      <td>0</td>\n",
       "      <td>21</td>\n",
       "      <td>111</td>\n",
       "      <td>4.285714</td>\n",
       "      <td>10</td>\n",
       "      <td>0</td>\n",
       "      <td>1</td>\n",
       "      <td>0</td>\n",
       "      <td>1</td>\n",
       "    </tr>\n",
       "  </tbody>\n",
       "</table>\n",
       "</div>"
      ],
      "text/plain": [
       "                                              twitts  sentiment  word_counts  \\\n",
       "0  @switchfoot http://twitpic.com/2y1zl - awww, t...          0           19   \n",
       "1  is upset that he cannot update his facebook by...          0           21   \n",
       "2  @kenichan i dived many times for the ball. man...          0           18   \n",
       "3    my whole body feels itchy and like its on fire           0           10   \n",
       "4  @nationwideclass no, it is not behaving at all...          0           21   \n",
       "\n",
       "   char_counts  avg_word_len  stop_words_len  hashtags_count  mentions_count  \\\n",
       "0          115      5.052632               4               0               1   \n",
       "1          111      4.285714               9               0               0   \n",
       "2           89      3.944444               7               0               1   \n",
       "3           47      3.700000               5               0               0   \n",
       "4          111      4.285714              10               0               1   \n",
       "\n",
       "   numerics_count  upper_counts  \n",
       "0               0             1  \n",
       "1               0             0  \n",
       "2               0             1  \n",
       "3               0             0  \n",
       "4               0             1  "
      ]
     },
     "execution_count": 37,
     "metadata": {},
     "output_type": "execute_result"
    }
   ],
   "source": [
    "df.head()"
   ]
  },
  {
   "cell_type": "code",
   "execution_count": 38,
   "id": "bb23ae25",
   "metadata": {
    "execution": {
     "iopub.execute_input": "2023-05-15T06:48:42.065449Z",
     "iopub.status.busy": "2023-05-15T06:48:42.064731Z",
     "iopub.status.idle": "2023-05-15T06:48:42.067406Z",
     "shell.execute_reply": "2023-05-15T06:48:42.068103Z",
     "shell.execute_reply.started": "2021-12-14T04:33:17.275947Z"
    },
    "papermill": {
     "duration": 0.175254,
     "end_time": "2023-05-15T06:48:42.068286",
     "exception": false,
     "start_time": "2023-05-15T06:48:41.893032",
     "status": "completed"
    },
    "tags": []
   },
   "outputs": [],
   "source": [
    "#Count and Remove Emails"
   ]
  },
  {
   "cell_type": "code",
   "execution_count": 39,
   "id": "fcfe07b1",
   "metadata": {
    "execution": {
     "iopub.execute_input": "2023-05-15T06:48:42.408708Z",
     "iopub.status.busy": "2023-05-15T06:48:42.407772Z",
     "iopub.status.idle": "2023-05-15T06:48:58.356574Z",
     "shell.execute_reply": "2023-05-15T06:48:58.357671Z",
     "shell.execute_reply.started": "2021-12-14T04:33:17.286488Z"
    },
    "papermill": {
     "duration": 16.120669,
     "end_time": "2023-05-15T06:48:58.357991",
     "exception": false,
     "start_time": "2023-05-15T06:48:42.237322",
     "status": "completed"
    },
    "tags": []
   },
   "outputs": [
    {
     "data": {
      "text/html": [
       "<div>\n",
       "<style scoped>\n",
       "    .dataframe tbody tr th:only-of-type {\n",
       "        vertical-align: middle;\n",
       "    }\n",
       "\n",
       "    .dataframe tbody tr th {\n",
       "        vertical-align: top;\n",
       "    }\n",
       "\n",
       "    .dataframe thead th {\n",
       "        text-align: right;\n",
       "    }\n",
       "</style>\n",
       "<table border=\"1\" class=\"dataframe\">\n",
       "  <thead>\n",
       "    <tr style=\"text-align: right;\">\n",
       "      <th></th>\n",
       "      <th>twitts</th>\n",
       "      <th>sentiment</th>\n",
       "      <th>word_counts</th>\n",
       "      <th>char_counts</th>\n",
       "      <th>avg_word_len</th>\n",
       "      <th>stop_words_len</th>\n",
       "      <th>hashtags_count</th>\n",
       "      <th>mentions_count</th>\n",
       "      <th>numerics_count</th>\n",
       "      <th>upper_counts</th>\n",
       "      <th>emails</th>\n",
       "      <th>emails_count</th>\n",
       "    </tr>\n",
       "  </thead>\n",
       "  <tbody>\n",
       "    <tr>\n",
       "      <th>4054</th>\n",
       "      <td>i want a new laptop.  hp tx2000 is the bomb. :...</td>\n",
       "      <td>0</td>\n",
       "      <td>20</td>\n",
       "      <td>103</td>\n",
       "      <td>4.150000</td>\n",
       "      <td>6</td>\n",
       "      <td>0</td>\n",
       "      <td>0</td>\n",
       "      <td>0</td>\n",
       "      <td>4</td>\n",
       "      <td>[gabbehhramos@yahoo.com]</td>\n",
       "      <td>1</td>\n",
       "    </tr>\n",
       "    <tr>\n",
       "      <th>7917</th>\n",
       "      <td>who stole elledell@gmail.com?</td>\n",
       "      <td>0</td>\n",
       "      <td>3</td>\n",
       "      <td>31</td>\n",
       "      <td>9.000000</td>\n",
       "      <td>1</td>\n",
       "      <td>0</td>\n",
       "      <td>0</td>\n",
       "      <td>0</td>\n",
       "      <td>0</td>\n",
       "      <td>[elledell@gmail.com]</td>\n",
       "      <td>1</td>\n",
       "    </tr>\n",
       "    <tr>\n",
       "      <th>8496</th>\n",
       "      <td>@alexistehpom  really? did you send out all th...</td>\n",
       "      <td>0</td>\n",
       "      <td>20</td>\n",
       "      <td>130</td>\n",
       "      <td>5.500000</td>\n",
       "      <td>11</td>\n",
       "      <td>0</td>\n",
       "      <td>1</td>\n",
       "      <td>0</td>\n",
       "      <td>0</td>\n",
       "      <td>[missataari@gmail.com]</td>\n",
       "      <td>1</td>\n",
       "    </tr>\n",
       "    <tr>\n",
       "      <th>10290</th>\n",
       "      <td>@laureystack awh...that is kinda sad  lol add ...</td>\n",
       "      <td>0</td>\n",
       "      <td>8</td>\n",
       "      <td>76</td>\n",
       "      <td>8.500000</td>\n",
       "      <td>0</td>\n",
       "      <td>0</td>\n",
       "      <td>1</td>\n",
       "      <td>0</td>\n",
       "      <td>0</td>\n",
       "      <td>[hello.kitty.65@hotmail.com]</td>\n",
       "      <td>1</td>\n",
       "    </tr>\n",
       "    <tr>\n",
       "      <th>16413</th>\n",
       "      <td>@jilliancyork  got 2 bottom of it, human error...</td>\n",
       "      <td>0</td>\n",
       "      <td>21</td>\n",
       "      <td>137</td>\n",
       "      <td>5.428571</td>\n",
       "      <td>7</td>\n",
       "      <td>0</td>\n",
       "      <td>1</td>\n",
       "      <td>1</td>\n",
       "      <td>0</td>\n",
       "      <td>[press@linkedin.com]</td>\n",
       "      <td>1</td>\n",
       "    </tr>\n",
       "  </tbody>\n",
       "</table>\n",
       "</div>"
      ],
      "text/plain": [
       "                                                  twitts  sentiment  \\\n",
       "4054   i want a new laptop.  hp tx2000 is the bomb. :...          0   \n",
       "7917                     who stole elledell@gmail.com?            0   \n",
       "8496   @alexistehpom  really? did you send out all th...          0   \n",
       "10290  @laureystack awh...that is kinda sad  lol add ...          0   \n",
       "16413  @jilliancyork  got 2 bottom of it, human error...          0   \n",
       "\n",
       "       word_counts  char_counts  avg_word_len  stop_words_len  hashtags_count  \\\n",
       "4054            20          103      4.150000               6               0   \n",
       "7917             3           31      9.000000               1               0   \n",
       "8496            20          130      5.500000              11               0   \n",
       "10290            8           76      8.500000               0               0   \n",
       "16413           21          137      5.428571               7               0   \n",
       "\n",
       "       mentions_count  numerics_count  upper_counts  \\\n",
       "4054                0               0             4   \n",
       "7917                0               0             0   \n",
       "8496                1               0             0   \n",
       "10290               1               0             0   \n",
       "16413               1               1             0   \n",
       "\n",
       "                             emails  emails_count  \n",
       "4054       [gabbehhramos@yahoo.com]             1  \n",
       "7917           [elledell@gmail.com]             1  \n",
       "8496         [missataari@gmail.com]             1  \n",
       "10290  [hello.kitty.65@hotmail.com]             1  \n",
       "16413          [press@linkedin.com]             1  "
      ]
     },
     "execution_count": 39,
     "metadata": {},
     "output_type": "execute_result"
    }
   ],
   "source": [
    "import re\n",
    "x = 'hi my email me at email@email.com another@email.com'\n",
    "re.findall(r'([a-zA-Z0-9+._-]+@[a-zA-Z0-9._-]+\\.[a-zA-Z0-9_-]+)', x)\n",
    "['email@email.com', 'another@email.com']\n",
    "df['emails'] = df['twitts'].apply(lambda x: re.findall(r'([a-zA-Z0-9+._-]+@[a-zA-Z0-9._-]+\\.[a-zA-Z0-9_-]+)', x))\n",
    "df['emails_count'] = df['emails'].apply(lambda x: len(x))\n",
    "df[df['emails_count']>0].head()"
   ]
  },
  {
   "cell_type": "code",
   "execution_count": 40,
   "id": "f7bb9882",
   "metadata": {
    "execution": {
     "iopub.execute_input": "2023-05-15T06:48:58.720770Z",
     "iopub.status.busy": "2023-05-15T06:48:58.719967Z",
     "iopub.status.idle": "2023-05-15T06:49:12.209722Z",
     "shell.execute_reply": "2023-05-15T06:49:12.209070Z",
     "shell.execute_reply.started": "2021-12-14T04:33:32.423766Z"
    },
    "papermill": {
     "duration": 13.664388,
     "end_time": "2023-05-15T06:49:12.209915",
     "exception": false,
     "start_time": "2023-05-15T06:48:58.545527",
     "status": "completed"
    },
    "tags": []
   },
   "outputs": [
    {
     "data": {
      "text/html": [
       "<div>\n",
       "<style scoped>\n",
       "    .dataframe tbody tr th:only-of-type {\n",
       "        vertical-align: middle;\n",
       "    }\n",
       "\n",
       "    .dataframe tbody tr th {\n",
       "        vertical-align: top;\n",
       "    }\n",
       "\n",
       "    .dataframe thead th {\n",
       "        text-align: right;\n",
       "    }\n",
       "</style>\n",
       "<table border=\"1\" class=\"dataframe\">\n",
       "  <thead>\n",
       "    <tr style=\"text-align: right;\">\n",
       "      <th></th>\n",
       "      <th>twitts</th>\n",
       "      <th>sentiment</th>\n",
       "      <th>word_counts</th>\n",
       "      <th>char_counts</th>\n",
       "      <th>avg_word_len</th>\n",
       "      <th>stop_words_len</th>\n",
       "      <th>hashtags_count</th>\n",
       "      <th>mentions_count</th>\n",
       "      <th>numerics_count</th>\n",
       "      <th>upper_counts</th>\n",
       "      <th>emails</th>\n",
       "      <th>emails_count</th>\n",
       "    </tr>\n",
       "  </thead>\n",
       "  <tbody>\n",
       "    <tr>\n",
       "      <th>4054</th>\n",
       "      <td>i want a new laptop.  hp tx2000 is the bomb. :...</td>\n",
       "      <td>0</td>\n",
       "      <td>20</td>\n",
       "      <td>103</td>\n",
       "      <td>4.150000</td>\n",
       "      <td>6</td>\n",
       "      <td>0</td>\n",
       "      <td>0</td>\n",
       "      <td>0</td>\n",
       "      <td>4</td>\n",
       "      <td>[gabbehhramos@yahoo.com]</td>\n",
       "      <td>1</td>\n",
       "    </tr>\n",
       "    <tr>\n",
       "      <th>7917</th>\n",
       "      <td>who stole ?</td>\n",
       "      <td>0</td>\n",
       "      <td>3</td>\n",
       "      <td>31</td>\n",
       "      <td>9.000000</td>\n",
       "      <td>1</td>\n",
       "      <td>0</td>\n",
       "      <td>0</td>\n",
       "      <td>0</td>\n",
       "      <td>0</td>\n",
       "      <td>[elledell@gmail.com]</td>\n",
       "      <td>1</td>\n",
       "    </tr>\n",
       "    <tr>\n",
       "      <th>8496</th>\n",
       "      <td>@alexistehpom  really? did you send out all th...</td>\n",
       "      <td>0</td>\n",
       "      <td>20</td>\n",
       "      <td>130</td>\n",
       "      <td>5.500000</td>\n",
       "      <td>11</td>\n",
       "      <td>0</td>\n",
       "      <td>1</td>\n",
       "      <td>0</td>\n",
       "      <td>0</td>\n",
       "      <td>[missataari@gmail.com]</td>\n",
       "      <td>1</td>\n",
       "    </tr>\n",
       "    <tr>\n",
       "      <th>10290</th>\n",
       "      <td>@laureystack awh...that is kinda sad  lol add ...</td>\n",
       "      <td>0</td>\n",
       "      <td>8</td>\n",
       "      <td>76</td>\n",
       "      <td>8.500000</td>\n",
       "      <td>0</td>\n",
       "      <td>0</td>\n",
       "      <td>1</td>\n",
       "      <td>0</td>\n",
       "      <td>0</td>\n",
       "      <td>[hello.kitty.65@hotmail.com]</td>\n",
       "      <td>1</td>\n",
       "    </tr>\n",
       "    <tr>\n",
       "      <th>16413</th>\n",
       "      <td>@jilliancyork  got 2 bottom of it, human error...</td>\n",
       "      <td>0</td>\n",
       "      <td>21</td>\n",
       "      <td>137</td>\n",
       "      <td>5.428571</td>\n",
       "      <td>7</td>\n",
       "      <td>0</td>\n",
       "      <td>1</td>\n",
       "      <td>1</td>\n",
       "      <td>0</td>\n",
       "      <td>[press@linkedin.com]</td>\n",
       "      <td>1</td>\n",
       "    </tr>\n",
       "  </tbody>\n",
       "</table>\n",
       "</div>"
      ],
      "text/plain": [
       "                                                  twitts  sentiment  \\\n",
       "4054   i want a new laptop.  hp tx2000 is the bomb. :...          0   \n",
       "7917                                       who stole ?            0   \n",
       "8496   @alexistehpom  really? did you send out all th...          0   \n",
       "10290  @laureystack awh...that is kinda sad  lol add ...          0   \n",
       "16413  @jilliancyork  got 2 bottom of it, human error...          0   \n",
       "\n",
       "       word_counts  char_counts  avg_word_len  stop_words_len  hashtags_count  \\\n",
       "4054            20          103      4.150000               6               0   \n",
       "7917             3           31      9.000000               1               0   \n",
       "8496            20          130      5.500000              11               0   \n",
       "10290            8           76      8.500000               0               0   \n",
       "16413           21          137      5.428571               7               0   \n",
       "\n",
       "       mentions_count  numerics_count  upper_counts  \\\n",
       "4054                0               0             4   \n",
       "7917                0               0             0   \n",
       "8496                1               0             0   \n",
       "10290               1               0             0   \n",
       "16413               1               1             0   \n",
       "\n",
       "                             emails  emails_count  \n",
       "4054       [gabbehhramos@yahoo.com]             1  \n",
       "7917           [elledell@gmail.com]             1  \n",
       "8496         [missataari@gmail.com]             1  \n",
       "10290  [hello.kitty.65@hotmail.com]             1  \n",
       "16413          [press@linkedin.com]             1  "
      ]
     },
     "execution_count": 40,
     "metadata": {},
     "output_type": "execute_result"
    }
   ],
   "source": [
    "re.sub(r'([a-zA-Z0-9+._-]+@[a-zA-Z0-9._-]+\\.[a-zA-Z0-9_-]+)', '', x)\n",
    "'hi my email me at  '\n",
    "df['twitts'] = df['twitts'].apply(lambda x: re.sub(r'([a-zA-Z0-9+._-]+@[a-zA-Z0-9._-]+\\.[a-zA-Z0-9_-]+)', '', x))\n",
    "df[df['emails_count']>0].head()"
   ]
  },
  {
   "cell_type": "code",
   "execution_count": 41,
   "id": "b2cc425e",
   "metadata": {
    "execution": {
     "iopub.execute_input": "2023-05-15T06:49:12.555752Z",
     "iopub.status.busy": "2023-05-15T06:49:12.555001Z",
     "iopub.status.idle": "2023-05-15T06:49:12.558610Z",
     "shell.execute_reply": "2023-05-15T06:49:12.557968Z",
     "shell.execute_reply.started": "2021-12-14T04:33:45.338908Z"
    },
    "papermill": {
     "duration": 0.177257,
     "end_time": "2023-05-15T06:49:12.558780",
     "exception": false,
     "start_time": "2023-05-15T06:49:12.381523",
     "status": "completed"
    },
    "tags": []
   },
   "outputs": [],
   "source": [
    "#Count URLs and Remove it"
   ]
  },
  {
   "cell_type": "code",
   "execution_count": 42,
   "id": "71c2801a",
   "metadata": {
    "execution": {
     "iopub.execute_input": "2023-05-15T06:49:12.905381Z",
     "iopub.status.busy": "2023-05-15T06:49:12.904580Z",
     "iopub.status.idle": "2023-05-15T06:49:27.404131Z",
     "shell.execute_reply": "2023-05-15T06:49:27.404739Z",
     "shell.execute_reply.started": "2021-12-14T04:33:45.344485Z"
    },
    "papermill": {
     "duration": 14.677318,
     "end_time": "2023-05-15T06:49:27.404929",
     "exception": false,
     "start_time": "2023-05-15T06:49:12.727611",
     "status": "completed"
    },
    "tags": []
   },
   "outputs": [
    {
     "data": {
      "text/html": [
       "<div>\n",
       "<style scoped>\n",
       "    .dataframe tbody tr th:only-of-type {\n",
       "        vertical-align: middle;\n",
       "    }\n",
       "\n",
       "    .dataframe tbody tr th {\n",
       "        vertical-align: top;\n",
       "    }\n",
       "\n",
       "    .dataframe thead th {\n",
       "        text-align: right;\n",
       "    }\n",
       "</style>\n",
       "<table border=\"1\" class=\"dataframe\">\n",
       "  <thead>\n",
       "    <tr style=\"text-align: right;\">\n",
       "      <th></th>\n",
       "      <th>twitts</th>\n",
       "      <th>sentiment</th>\n",
       "      <th>word_counts</th>\n",
       "      <th>char_counts</th>\n",
       "      <th>avg_word_len</th>\n",
       "      <th>stop_words_len</th>\n",
       "      <th>hashtags_count</th>\n",
       "      <th>mentions_count</th>\n",
       "      <th>numerics_count</th>\n",
       "      <th>upper_counts</th>\n",
       "      <th>emails</th>\n",
       "      <th>emails_count</th>\n",
       "      <th>urls_flag</th>\n",
       "    </tr>\n",
       "  </thead>\n",
       "  <tbody>\n",
       "    <tr>\n",
       "      <th>0</th>\n",
       "      <td>@switchfoot  - awww, that is a bummer.  you sh...</td>\n",
       "      <td>0</td>\n",
       "      <td>19</td>\n",
       "      <td>115</td>\n",
       "      <td>5.052632</td>\n",
       "      <td>4</td>\n",
       "      <td>0</td>\n",
       "      <td>1</td>\n",
       "      <td>0</td>\n",
       "      <td>1</td>\n",
       "      <td>[]</td>\n",
       "      <td>0</td>\n",
       "      <td>1</td>\n",
       "    </tr>\n",
       "    <tr>\n",
       "      <th>1</th>\n",
       "      <td>is upset that he cannot update his facebook by...</td>\n",
       "      <td>0</td>\n",
       "      <td>21</td>\n",
       "      <td>111</td>\n",
       "      <td>4.285714</td>\n",
       "      <td>9</td>\n",
       "      <td>0</td>\n",
       "      <td>0</td>\n",
       "      <td>0</td>\n",
       "      <td>0</td>\n",
       "      <td>[]</td>\n",
       "      <td>0</td>\n",
       "      <td>0</td>\n",
       "    </tr>\n",
       "    <tr>\n",
       "      <th>2</th>\n",
       "      <td>@kenichan i dived many times for the ball. man...</td>\n",
       "      <td>0</td>\n",
       "      <td>18</td>\n",
       "      <td>89</td>\n",
       "      <td>3.944444</td>\n",
       "      <td>7</td>\n",
       "      <td>0</td>\n",
       "      <td>1</td>\n",
       "      <td>0</td>\n",
       "      <td>1</td>\n",
       "      <td>[]</td>\n",
       "      <td>0</td>\n",
       "      <td>0</td>\n",
       "    </tr>\n",
       "    <tr>\n",
       "      <th>3</th>\n",
       "      <td>my whole body feels itchy and like its on fire</td>\n",
       "      <td>0</td>\n",
       "      <td>10</td>\n",
       "      <td>47</td>\n",
       "      <td>3.700000</td>\n",
       "      <td>5</td>\n",
       "      <td>0</td>\n",
       "      <td>0</td>\n",
       "      <td>0</td>\n",
       "      <td>0</td>\n",
       "      <td>[]</td>\n",
       "      <td>0</td>\n",
       "      <td>0</td>\n",
       "    </tr>\n",
       "    <tr>\n",
       "      <th>4</th>\n",
       "      <td>@nationwideclass no, it is not behaving at all...</td>\n",
       "      <td>0</td>\n",
       "      <td>21</td>\n",
       "      <td>111</td>\n",
       "      <td>4.285714</td>\n",
       "      <td>10</td>\n",
       "      <td>0</td>\n",
       "      <td>1</td>\n",
       "      <td>0</td>\n",
       "      <td>1</td>\n",
       "      <td>[]</td>\n",
       "      <td>0</td>\n",
       "      <td>0</td>\n",
       "    </tr>\n",
       "  </tbody>\n",
       "</table>\n",
       "</div>"
      ],
      "text/plain": [
       "                                              twitts  sentiment  word_counts  \\\n",
       "0  @switchfoot  - awww, that is a bummer.  you sh...          0           19   \n",
       "1  is upset that he cannot update his facebook by...          0           21   \n",
       "2  @kenichan i dived many times for the ball. man...          0           18   \n",
       "3    my whole body feels itchy and like its on fire           0           10   \n",
       "4  @nationwideclass no, it is not behaving at all...          0           21   \n",
       "\n",
       "   char_counts  avg_word_len  stop_words_len  hashtags_count  mentions_count  \\\n",
       "0          115      5.052632               4               0               1   \n",
       "1          111      4.285714               9               0               0   \n",
       "2           89      3.944444               7               0               1   \n",
       "3           47      3.700000               5               0               0   \n",
       "4          111      4.285714              10               0               1   \n",
       "\n",
       "   numerics_count  upper_counts emails  emails_count  urls_flag  \n",
       "0               0             1     []             0          1  \n",
       "1               0             0     []             0          0  \n",
       "2               0             1     []             0          0  \n",
       "3               0             0     []             0          0  \n",
       "4               0             1     []             0          0  "
      ]
     },
     "execution_count": 42,
     "metadata": {},
     "output_type": "execute_result"
    }
   ],
   "source": [
    "x = 'hi, to watch more visit https://youtube.com/kgptalkie'\n",
    "re.findall(r'(http|ftp|https)://([\\w_-]+(?:(?:\\.[\\w_-]+)+))([\\w.,@?^=%&:/~+#-]*[\\w@?^=%&/~+#-])?', x)\n",
    "[('https', 'youtube.com', '/kgptalkie')]\n",
    "df['urls_flag'] = df['twitts'].apply(lambda x: len(re.findall(r'(http|ftp|https)://([\\w_-]+(?:(?:\\.[\\w_-]+)+))([\\w.,@?^=%&:/~+#-]*[\\w@?^=%&/~+#-])?', x)))\n",
    "re.sub(r'(http|ftp|https)://([\\w_-]+(?:(?:\\.[\\w_-]+)+))([\\w.,@?^=%&:/~+#-]*[\\w@?^=%&/~+#-])?', '', x)\n",
    "'hi, to watch more visit '\n",
    "df['twitts'] = df['twitts'].apply(lambda x: re.sub(r'(http|ftp|https)://([\\w_-]+(?:(?:\\.[\\w_-]+)+))([\\w.,@?^=%&:/~+#-]*[\\w@?^=%&/~+#-])?', '', x))\n",
    "df.head()"
   ]
  },
  {
   "cell_type": "code",
   "execution_count": 43,
   "id": "078987fc",
   "metadata": {
    "execution": {
     "iopub.execute_input": "2023-05-15T06:49:27.745591Z",
     "iopub.status.busy": "2023-05-15T06:49:27.744811Z",
     "iopub.status.idle": "2023-05-15T06:49:27.862480Z",
     "shell.execute_reply": "2023-05-15T06:49:27.861735Z",
     "shell.execute_reply.started": "2021-12-14T04:33:58.595625Z"
    },
    "papermill": {
     "duration": 0.290431,
     "end_time": "2023-05-15T06:49:27.862636",
     "exception": false,
     "start_time": "2023-05-15T06:49:27.572205",
     "status": "completed"
    },
    "tags": []
   },
   "outputs": [
    {
     "data": {
      "text/plain": [
       "'@switchfoot  - awww, that is a bummer.  you shoulda got david carr of third day to do it. ;d'"
      ]
     },
     "execution_count": 43,
     "metadata": {},
     "output_type": "execute_result"
    }
   ],
   "source": [
    "df.loc[0]['twitts']\n",
    "'@switchfoot  - awww, that is a bummer.  you shoulda got david carr of third day to do it. ;d'"
   ]
  },
  {
   "cell_type": "code",
   "execution_count": 44,
   "id": "40233e93",
   "metadata": {
    "execution": {
     "iopub.execute_input": "2023-05-15T06:49:28.209729Z",
     "iopub.status.busy": "2023-05-15T06:49:28.208977Z",
     "iopub.status.idle": "2023-05-15T06:49:31.331671Z",
     "shell.execute_reply": "2023-05-15T06:49:31.332639Z",
     "shell.execute_reply.started": "2021-12-14T04:33:58.710986Z"
    },
    "papermill": {
     "duration": 3.300771,
     "end_time": "2023-05-15T06:49:31.332988",
     "exception": false,
     "start_time": "2023-05-15T06:49:28.032217",
     "status": "completed"
    },
    "tags": []
   },
   "outputs": [],
   "source": [
    "df['twitts'] = df['twitts'].apply(lambda x: re.sub('RT', \"\", x))    # Remove RT"
   ]
  },
  {
   "cell_type": "code",
   "execution_count": 45,
   "id": "a01c88ce",
   "metadata": {
    "execution": {
     "iopub.execute_input": "2023-05-15T06:49:31.704395Z",
     "iopub.status.busy": "2023-05-15T06:49:31.703235Z",
     "iopub.status.idle": "2023-05-15T06:49:40.926934Z",
     "shell.execute_reply": "2023-05-15T06:49:40.926202Z",
     "shell.execute_reply.started": "2021-12-14T04:34:01.215020Z"
    },
    "papermill": {
     "duration": 9.399762,
     "end_time": "2023-05-15T06:49:40.927092",
     "exception": false,
     "start_time": "2023-05-15T06:49:31.527330",
     "status": "completed"
    },
    "tags": []
   },
   "outputs": [
    {
     "data": {
      "text/html": [
       "<div>\n",
       "<style scoped>\n",
       "    .dataframe tbody tr th:only-of-type {\n",
       "        vertical-align: middle;\n",
       "    }\n",
       "\n",
       "    .dataframe tbody tr th {\n",
       "        vertical-align: top;\n",
       "    }\n",
       "\n",
       "    .dataframe thead th {\n",
       "        text-align: right;\n",
       "    }\n",
       "</style>\n",
       "<table border=\"1\" class=\"dataframe\">\n",
       "  <thead>\n",
       "    <tr style=\"text-align: right;\">\n",
       "      <th></th>\n",
       "      <th>twitts</th>\n",
       "      <th>sentiment</th>\n",
       "      <th>word_counts</th>\n",
       "      <th>char_counts</th>\n",
       "      <th>avg_word_len</th>\n",
       "      <th>stop_words_len</th>\n",
       "      <th>hashtags_count</th>\n",
       "      <th>mentions_count</th>\n",
       "      <th>numerics_count</th>\n",
       "      <th>upper_counts</th>\n",
       "      <th>emails</th>\n",
       "      <th>emails_count</th>\n",
       "      <th>urls_flag</th>\n",
       "    </tr>\n",
       "  </thead>\n",
       "  <tbody>\n",
       "    <tr>\n",
       "      <th>0</th>\n",
       "      <td>switchfoot  - awww that is a bummer  you shoul...</td>\n",
       "      <td>0</td>\n",
       "      <td>19</td>\n",
       "      <td>115</td>\n",
       "      <td>5.052632</td>\n",
       "      <td>4</td>\n",
       "      <td>0</td>\n",
       "      <td>1</td>\n",
       "      <td>0</td>\n",
       "      <td>1</td>\n",
       "      <td>[]</td>\n",
       "      <td>0</td>\n",
       "      <td>1</td>\n",
       "    </tr>\n",
       "    <tr>\n",
       "      <th>1</th>\n",
       "      <td>is upset that he cannot update his facebook by...</td>\n",
       "      <td>0</td>\n",
       "      <td>21</td>\n",
       "      <td>111</td>\n",
       "      <td>4.285714</td>\n",
       "      <td>9</td>\n",
       "      <td>0</td>\n",
       "      <td>0</td>\n",
       "      <td>0</td>\n",
       "      <td>0</td>\n",
       "      <td>[]</td>\n",
       "      <td>0</td>\n",
       "      <td>0</td>\n",
       "    </tr>\n",
       "    <tr>\n",
       "      <th>2</th>\n",
       "      <td>kenichan i dived many times for the ball manag...</td>\n",
       "      <td>0</td>\n",
       "      <td>18</td>\n",
       "      <td>89</td>\n",
       "      <td>3.944444</td>\n",
       "      <td>7</td>\n",
       "      <td>0</td>\n",
       "      <td>1</td>\n",
       "      <td>0</td>\n",
       "      <td>1</td>\n",
       "      <td>[]</td>\n",
       "      <td>0</td>\n",
       "      <td>0</td>\n",
       "    </tr>\n",
       "    <tr>\n",
       "      <th>3</th>\n",
       "      <td>my whole body feels itchy and like its on fire</td>\n",
       "      <td>0</td>\n",
       "      <td>10</td>\n",
       "      <td>47</td>\n",
       "      <td>3.700000</td>\n",
       "      <td>5</td>\n",
       "      <td>0</td>\n",
       "      <td>0</td>\n",
       "      <td>0</td>\n",
       "      <td>0</td>\n",
       "      <td>[]</td>\n",
       "      <td>0</td>\n",
       "      <td>0</td>\n",
       "    </tr>\n",
       "    <tr>\n",
       "      <th>4</th>\n",
       "      <td>nationwideclass no it is not behaving at all i...</td>\n",
       "      <td>0</td>\n",
       "      <td>21</td>\n",
       "      <td>111</td>\n",
       "      <td>4.285714</td>\n",
       "      <td>10</td>\n",
       "      <td>0</td>\n",
       "      <td>1</td>\n",
       "      <td>0</td>\n",
       "      <td>1</td>\n",
       "      <td>[]</td>\n",
       "      <td>0</td>\n",
       "      <td>0</td>\n",
       "    </tr>\n",
       "  </tbody>\n",
       "</table>\n",
       "</div>"
      ],
      "text/plain": [
       "                                              twitts  sentiment  word_counts  \\\n",
       "0  switchfoot  - awww that is a bummer  you shoul...          0           19   \n",
       "1  is upset that he cannot update his facebook by...          0           21   \n",
       "2  kenichan i dived many times for the ball manag...          0           18   \n",
       "3    my whole body feels itchy and like its on fire           0           10   \n",
       "4  nationwideclass no it is not behaving at all i...          0           21   \n",
       "\n",
       "   char_counts  avg_word_len  stop_words_len  hashtags_count  mentions_count  \\\n",
       "0          115      5.052632               4               0               1   \n",
       "1          111      4.285714               9               0               0   \n",
       "2           89      3.944444               7               0               1   \n",
       "3           47      3.700000               5               0               0   \n",
       "4          111      4.285714              10               0               1   \n",
       "\n",
       "   numerics_count  upper_counts emails  emails_count  urls_flag  \n",
       "0               0             1     []             0          1  \n",
       "1               0             0     []             0          0  \n",
       "2               0             1     []             0          0  \n",
       "3               0             0     []             0          0  \n",
       "4               0             1     []             0          0  "
      ]
     },
     "execution_count": 45,
     "metadata": {},
     "output_type": "execute_result"
    }
   ],
   "source": [
    "df['twitts'] = df['twitts'].apply(lambda x: re.sub('[^A-Z a-z 0-9-]+', '', x))    #Special Chars removal or punctuation removal\n",
    "df.head()"
   ]
  },
  {
   "cell_type": "code",
   "execution_count": 46,
   "id": "ce1c61e2",
   "metadata": {
    "execution": {
     "iopub.execute_input": "2023-05-15T06:49:41.277259Z",
     "iopub.status.busy": "2023-05-15T06:49:41.276084Z",
     "iopub.status.idle": "2023-05-15T06:49:44.625055Z",
     "shell.execute_reply": "2023-05-15T06:49:44.624311Z",
     "shell.execute_reply.started": "2021-12-14T04:34:09.823744Z"
    },
    "papermill": {
     "duration": 3.527219,
     "end_time": "2023-05-15T06:49:44.625226",
     "exception": false,
     "start_time": "2023-05-15T06:49:41.098007",
     "status": "completed"
    },
    "tags": []
   },
   "outputs": [
    {
     "data": {
      "text/html": [
       "<div>\n",
       "<style scoped>\n",
       "    .dataframe tbody tr th:only-of-type {\n",
       "        vertical-align: middle;\n",
       "    }\n",
       "\n",
       "    .dataframe tbody tr th {\n",
       "        vertical-align: top;\n",
       "    }\n",
       "\n",
       "    .dataframe thead th {\n",
       "        text-align: right;\n",
       "    }\n",
       "</style>\n",
       "<table border=\"1\" class=\"dataframe\">\n",
       "  <thead>\n",
       "    <tr style=\"text-align: right;\">\n",
       "      <th></th>\n",
       "      <th>twitts</th>\n",
       "      <th>sentiment</th>\n",
       "      <th>word_counts</th>\n",
       "      <th>char_counts</th>\n",
       "      <th>avg_word_len</th>\n",
       "      <th>stop_words_len</th>\n",
       "      <th>hashtags_count</th>\n",
       "      <th>mentions_count</th>\n",
       "      <th>numerics_count</th>\n",
       "      <th>upper_counts</th>\n",
       "      <th>emails</th>\n",
       "      <th>emails_count</th>\n",
       "      <th>urls_flag</th>\n",
       "    </tr>\n",
       "  </thead>\n",
       "  <tbody>\n",
       "    <tr>\n",
       "      <th>0</th>\n",
       "      <td>switchfoot - awww that is a bummer you shoulda...</td>\n",
       "      <td>0</td>\n",
       "      <td>19</td>\n",
       "      <td>115</td>\n",
       "      <td>5.052632</td>\n",
       "      <td>4</td>\n",
       "      <td>0</td>\n",
       "      <td>1</td>\n",
       "      <td>0</td>\n",
       "      <td>1</td>\n",
       "      <td>[]</td>\n",
       "      <td>0</td>\n",
       "      <td>1</td>\n",
       "    </tr>\n",
       "    <tr>\n",
       "      <th>1</th>\n",
       "      <td>is upset that he cannot update his facebook by...</td>\n",
       "      <td>0</td>\n",
       "      <td>21</td>\n",
       "      <td>111</td>\n",
       "      <td>4.285714</td>\n",
       "      <td>9</td>\n",
       "      <td>0</td>\n",
       "      <td>0</td>\n",
       "      <td>0</td>\n",
       "      <td>0</td>\n",
       "      <td>[]</td>\n",
       "      <td>0</td>\n",
       "      <td>0</td>\n",
       "    </tr>\n",
       "  </tbody>\n",
       "</table>\n",
       "</div>"
      ],
      "text/plain": [
       "                                              twitts  sentiment  word_counts  \\\n",
       "0  switchfoot - awww that is a bummer you shoulda...          0           19   \n",
       "1  is upset that he cannot update his facebook by...          0           21   \n",
       "\n",
       "   char_counts  avg_word_len  stop_words_len  hashtags_count  mentions_count  \\\n",
       "0          115      5.052632               4               0               1   \n",
       "1          111      4.285714               9               0               0   \n",
       "\n",
       "   numerics_count  upper_counts emails  emails_count  urls_flag  \n",
       "0               0             1     []             0          1  \n",
       "1               0             0     []             0          0  "
      ]
     },
     "execution_count": 46,
     "metadata": {},
     "output_type": "execute_result"
    }
   ],
   "source": [
    "x = 'thanks    for    watching and    please    like this video'     #Remove multiple spaces \"hi hello \"\n",
    "\" \".join(x.split())\n",
    "'thanks for watching and please like this video'\n",
    "df['twitts'] = df['twitts'].apply(lambda x: \" \".join(x.split()))\n",
    "df.head(2)"
   ]
  },
  {
   "cell_type": "code",
   "execution_count": 47,
   "id": "3f308f9d",
   "metadata": {
    "execution": {
     "iopub.execute_input": "2023-05-15T06:49:44.975218Z",
     "iopub.status.busy": "2023-05-15T06:49:44.974440Z",
     "iopub.status.idle": "2023-05-15T06:49:45.171427Z",
     "shell.execute_reply": "2023-05-15T06:49:45.172065Z",
     "shell.execute_reply.started": "2021-12-14T04:34:12.972742Z"
    },
    "papermill": {
     "duration": 0.373416,
     "end_time": "2023-05-15T06:49:45.172356",
     "exception": false,
     "start_time": "2023-05-15T06:49:44.798940",
     "status": "completed"
    },
    "tags": []
   },
   "outputs": [
    {
     "data": {
      "text/plain": [
       "'Thanks for watching'"
      ]
     },
     "execution_count": 47,
     "metadata": {},
     "output_type": "execute_result"
    }
   ],
   "source": [
    "from bs4 import BeautifulSoup             #Remove HTML Tags\n",
    "x = '<html><h2>Thanks for watching</h2></html>'\n",
    "BeautifulSoup(x, 'lxml').get_text()"
   ]
  },
  {
   "cell_type": "code",
   "execution_count": 48,
   "id": "663ea88d",
   "metadata": {
    "execution": {
     "iopub.execute_input": "2023-05-15T06:49:45.528936Z",
     "iopub.status.busy": "2023-05-15T06:49:45.528160Z",
     "iopub.status.idle": "2023-05-15T06:56:37.782165Z",
     "shell.execute_reply": "2023-05-15T06:56:37.782932Z",
     "shell.execute_reply.started": "2021-12-14T04:34:13.161961Z"
    },
    "papermill": {
     "duration": 412.435948,
     "end_time": "2023-05-15T06:56:37.783190",
     "exception": false,
     "start_time": "2023-05-15T06:49:45.347242",
     "status": "completed"
    },
    "tags": []
   },
   "outputs": [
    {
     "name": "stdout",
     "output_type": "stream",
     "text": [
      "CPU times: user 6min 41s, sys: 10.5 s, total: 6min 51s\n",
      "Wall time: 6min 52s\n"
     ]
    }
   ],
   "source": [
    "%%time\n",
    "df['twitts'] = df['twitts'].apply(lambda x: BeautifulSoup(x, 'lxml').get_text())"
   ]
  },
  {
   "cell_type": "code",
   "execution_count": 49,
   "id": "e360bbf1",
   "metadata": {
    "execution": {
     "iopub.execute_input": "2023-05-15T06:56:38.148878Z",
     "iopub.status.busy": "2023-05-15T06:56:38.147804Z",
     "iopub.status.idle": "2023-05-15T06:56:38.153552Z",
     "shell.execute_reply": "2023-05-15T06:56:38.152852Z",
     "shell.execute_reply.started": "2021-12-14T04:40:03.887019Z"
    },
    "papermill": {
     "duration": 0.191272,
     "end_time": "2023-05-15T06:56:38.153731",
     "exception": false,
     "start_time": "2023-05-15T06:56:37.962459",
     "status": "completed"
    },
    "tags": []
   },
   "outputs": [
    {
     "data": {
      "text/plain": [
       "'Accented text'"
      ]
     },
     "execution_count": 49,
     "metadata": {},
     "output_type": "execute_result"
    }
   ],
   "source": [
    "import unicodedata      #Remove Accented Chars\n",
    "x = 'Áccěntěd těxt'\n",
    "def remove_accented_chars(x):\n",
    "    x = unicodedata.normalize('NFKD', x).encode('ascii', 'ignore').decode('utf-8', 'ignore')\n",
    "    return x\n",
    "remove_accented_chars(x)"
   ]
  },
  {
   "cell_type": "code",
   "execution_count": 50,
   "id": "01db5e64",
   "metadata": {
    "execution": {
     "iopub.execute_input": "2023-05-15T06:56:38.512414Z",
     "iopub.status.busy": "2023-05-15T06:56:38.511402Z",
     "iopub.status.idle": "2023-05-15T06:56:38.514835Z",
     "shell.execute_reply": "2023-05-15T06:56:38.514187Z",
     "shell.execute_reply.started": "2021-12-14T04:40:03.901084Z"
    },
    "papermill": {
     "duration": 0.185867,
     "end_time": "2023-05-15T06:56:38.514995",
     "exception": false,
     "start_time": "2023-05-15T06:56:38.329128",
     "status": "completed"
    },
    "tags": []
   },
   "outputs": [],
   "source": [
    "#SpaCy and NLP ,Remove Stop Words"
   ]
  },
  {
   "cell_type": "code",
   "execution_count": 51,
   "id": "45aaf532",
   "metadata": {
    "execution": {
     "iopub.execute_input": "2023-05-15T06:56:38.870536Z",
     "iopub.status.busy": "2023-05-15T06:56:38.869772Z",
     "iopub.status.idle": "2023-05-15T06:56:38.872705Z",
     "shell.execute_reply": "2023-05-15T06:56:38.873303Z",
     "shell.execute_reply.started": "2021-12-14T04:40:03.910620Z"
    },
    "papermill": {
     "duration": 0.1851,
     "end_time": "2023-05-15T06:56:38.873488",
     "exception": false,
     "start_time": "2023-05-15T06:56:38.688388",
     "status": "completed"
    },
    "tags": []
   },
   "outputs": [
    {
     "data": {
      "text/plain": [
       "'stop words removal code'"
      ]
     },
     "execution_count": 51,
     "metadata": {},
     "output_type": "execute_result"
    }
   ],
   "source": [
    "import spacy\n",
    "x = 'this is stop words removal code is a the an how what'\n",
    "\" \".join([t for t in x.split() if t not in STOP_WORDS])"
   ]
  },
  {
   "cell_type": "code",
   "execution_count": 52,
   "id": "e08146df",
   "metadata": {
    "execution": {
     "iopub.execute_input": "2023-05-15T06:56:39.228111Z",
     "iopub.status.busy": "2023-05-15T06:56:39.227330Z",
     "iopub.status.idle": "2023-05-15T06:56:45.570193Z",
     "shell.execute_reply": "2023-05-15T06:56:45.570836Z",
     "shell.execute_reply.started": "2021-12-14T04:40:03.922953Z"
    },
    "papermill": {
     "duration": 6.521251,
     "end_time": "2023-05-15T06:56:45.571060",
     "exception": false,
     "start_time": "2023-05-15T06:56:39.049809",
     "status": "completed"
    },
    "tags": []
   },
   "outputs": [
    {
     "data": {
      "text/html": [
       "<div>\n",
       "<style scoped>\n",
       "    .dataframe tbody tr th:only-of-type {\n",
       "        vertical-align: middle;\n",
       "    }\n",
       "\n",
       "    .dataframe tbody tr th {\n",
       "        vertical-align: top;\n",
       "    }\n",
       "\n",
       "    .dataframe thead th {\n",
       "        text-align: right;\n",
       "    }\n",
       "</style>\n",
       "<table border=\"1\" class=\"dataframe\">\n",
       "  <thead>\n",
       "    <tr style=\"text-align: right;\">\n",
       "      <th></th>\n",
       "      <th>twitts</th>\n",
       "      <th>sentiment</th>\n",
       "      <th>word_counts</th>\n",
       "      <th>char_counts</th>\n",
       "      <th>avg_word_len</th>\n",
       "      <th>stop_words_len</th>\n",
       "      <th>hashtags_count</th>\n",
       "      <th>mentions_count</th>\n",
       "      <th>numerics_count</th>\n",
       "      <th>upper_counts</th>\n",
       "      <th>emails</th>\n",
       "      <th>emails_count</th>\n",
       "      <th>urls_flag</th>\n",
       "    </tr>\n",
       "  </thead>\n",
       "  <tbody>\n",
       "    <tr>\n",
       "      <th>0</th>\n",
       "      <td>switchfoot - awww bummer shoulda got david car...</td>\n",
       "      <td>0</td>\n",
       "      <td>19</td>\n",
       "      <td>115</td>\n",
       "      <td>5.052632</td>\n",
       "      <td>4</td>\n",
       "      <td>0</td>\n",
       "      <td>1</td>\n",
       "      <td>0</td>\n",
       "      <td>1</td>\n",
       "      <td>[]</td>\n",
       "      <td>0</td>\n",
       "      <td>1</td>\n",
       "    </tr>\n",
       "    <tr>\n",
       "      <th>1</th>\n",
       "      <td>upset update facebook texting cry result schoo...</td>\n",
       "      <td>0</td>\n",
       "      <td>21</td>\n",
       "      <td>111</td>\n",
       "      <td>4.285714</td>\n",
       "      <td>9</td>\n",
       "      <td>0</td>\n",
       "      <td>0</td>\n",
       "      <td>0</td>\n",
       "      <td>0</td>\n",
       "      <td>[]</td>\n",
       "      <td>0</td>\n",
       "      <td>0</td>\n",
       "    </tr>\n",
       "    <tr>\n",
       "      <th>2</th>\n",
       "      <td>kenichan dived times ball managed save 50 rest...</td>\n",
       "      <td>0</td>\n",
       "      <td>18</td>\n",
       "      <td>89</td>\n",
       "      <td>3.944444</td>\n",
       "      <td>7</td>\n",
       "      <td>0</td>\n",
       "      <td>1</td>\n",
       "      <td>0</td>\n",
       "      <td>1</td>\n",
       "      <td>[]</td>\n",
       "      <td>0</td>\n",
       "      <td>0</td>\n",
       "    </tr>\n",
       "    <tr>\n",
       "      <th>3</th>\n",
       "      <td>body feels itchy like fire</td>\n",
       "      <td>0</td>\n",
       "      <td>10</td>\n",
       "      <td>47</td>\n",
       "      <td>3.700000</td>\n",
       "      <td>5</td>\n",
       "      <td>0</td>\n",
       "      <td>0</td>\n",
       "      <td>0</td>\n",
       "      <td>0</td>\n",
       "      <td>[]</td>\n",
       "      <td>0</td>\n",
       "      <td>0</td>\n",
       "    </tr>\n",
       "    <tr>\n",
       "      <th>4</th>\n",
       "      <td>nationwideclass behaving mad</td>\n",
       "      <td>0</td>\n",
       "      <td>21</td>\n",
       "      <td>111</td>\n",
       "      <td>4.285714</td>\n",
       "      <td>10</td>\n",
       "      <td>0</td>\n",
       "      <td>1</td>\n",
       "      <td>0</td>\n",
       "      <td>1</td>\n",
       "      <td>[]</td>\n",
       "      <td>0</td>\n",
       "      <td>0</td>\n",
       "    </tr>\n",
       "  </tbody>\n",
       "</table>\n",
       "</div>"
      ],
      "text/plain": [
       "                                              twitts  sentiment  word_counts  \\\n",
       "0  switchfoot - awww bummer shoulda got david car...          0           19   \n",
       "1  upset update facebook texting cry result schoo...          0           21   \n",
       "2  kenichan dived times ball managed save 50 rest...          0           18   \n",
       "3                         body feels itchy like fire          0           10   \n",
       "4                       nationwideclass behaving mad          0           21   \n",
       "\n",
       "   char_counts  avg_word_len  stop_words_len  hashtags_count  mentions_count  \\\n",
       "0          115      5.052632               4               0               1   \n",
       "1          111      4.285714               9               0               0   \n",
       "2           89      3.944444               7               0               1   \n",
       "3           47      3.700000               5               0               0   \n",
       "4          111      4.285714              10               0               1   \n",
       "\n",
       "   numerics_count  upper_counts emails  emails_count  urls_flag  \n",
       "0               0             1     []             0          1  \n",
       "1               0             0     []             0          0  \n",
       "2               0             1     []             0          0  \n",
       "3               0             0     []             0          0  \n",
       "4               0             1     []             0          0  "
      ]
     },
     "execution_count": 52,
     "metadata": {},
     "output_type": "execute_result"
    }
   ],
   "source": [
    "df['twitts'] = df['twitts'].apply(lambda x: \" \".join([t for t in x.split() if t not in STOP_WORDS]))\n",
    "df.head()"
   ]
  },
  {
   "cell_type": "code",
   "execution_count": 53,
   "id": "318b41c8",
   "metadata": {
    "execution": {
     "iopub.execute_input": "2023-05-15T06:56:45.923107Z",
     "iopub.status.busy": "2023-05-15T06:56:45.922403Z",
     "iopub.status.idle": "2023-05-15T06:56:47.810693Z",
     "shell.execute_reply": "2023-05-15T06:56:47.810026Z",
     "shell.execute_reply.started": "2021-12-14T04:40:09.602886Z"
    },
    "papermill": {
     "duration": 2.066193,
     "end_time": "2023-05-15T06:56:47.810855",
     "exception": false,
     "start_time": "2023-05-15T06:56:45.744662",
     "status": "completed"
    },
    "tags": []
   },
   "outputs": [],
   "source": [
    "#Convert into base or root form of word\n",
    "nlp = spacy.load('en_core_web_sm')\n",
    "x = 'kenichan dived times ball managed save 50 rest'\n",
    "# dive = dived, time = times, manage = managed\n",
    "# x = 'i you he she they is am are'"
   ]
  },
  {
   "cell_type": "code",
   "execution_count": 54,
   "id": "ac03cba5",
   "metadata": {
    "execution": {
     "iopub.execute_input": "2023-05-15T06:56:48.177803Z",
     "iopub.status.busy": "2023-05-15T06:56:48.177089Z",
     "iopub.status.idle": "2023-05-15T06:56:48.215736Z",
     "shell.execute_reply": "2023-05-15T06:56:48.216346Z",
     "shell.execute_reply.started": "2021-12-14T04:40:11.320790Z"
    },
    "papermill": {
     "duration": 0.223598,
     "end_time": "2023-05-15T06:56:48.216531",
     "exception": false,
     "start_time": "2023-05-15T06:56:47.992933",
     "status": "completed"
    },
    "tags": []
   },
   "outputs": [
    {
     "name": "stdout",
     "output_type": "stream",
     "text": [
      "kenichan dive times ball manage save 50 rest\n"
     ]
    }
   ],
   "source": [
    "def make_to_base(x):\n",
    "    x_list = []\n",
    "    doc = nlp(x)\n",
    "    \n",
    "    for token in doc:\n",
    "        lemma = str(token.lemma_)\n",
    "        if lemma == '-PRON-' or lemma == 'be':\n",
    "            lemma = token.text\n",
    "        x_list.append(lemma)\n",
    "    print(\" \".join(x_list))\n",
    "        \n",
    "make_to_base(x)"
   ]
  },
  {
   "cell_type": "code",
   "execution_count": 55,
   "id": "49a3c4c9",
   "metadata": {
    "execution": {
     "iopub.execute_input": "2023-05-15T06:56:48.567286Z",
     "iopub.status.busy": "2023-05-15T06:56:48.566590Z",
     "iopub.status.idle": "2023-05-15T06:56:48.572555Z",
     "shell.execute_reply": "2023-05-15T06:56:48.573228Z",
     "shell.execute_reply.started": "2021-12-14T04:40:11.360764Z"
    },
    "papermill": {
     "duration": 0.183298,
     "end_time": "2023-05-15T06:56:48.573418",
     "exception": false,
     "start_time": "2023-05-15T06:56:48.390120",
     "status": "completed"
    },
    "tags": []
   },
   "outputs": [
    {
     "data": {
      "text/plain": [
       "'switchfoot - awww bummer shoulda got david carr day d upset update facebook texting cry result school today blah kenichan dived times ball managed save 50 rest bounds body feels itchy like fire nationwideclass behaving mad'"
      ]
     },
     "execution_count": 55,
     "metadata": {},
     "output_type": "execute_result"
    }
   ],
   "source": [
    "' '.join(df.head()['twitts'])   #Common words removal"
   ]
  },
  {
   "cell_type": "code",
   "execution_count": 56,
   "id": "2214ce37",
   "metadata": {
    "execution": {
     "iopub.execute_input": "2023-05-15T06:56:48.924737Z",
     "iopub.status.busy": "2023-05-15T06:56:48.924002Z",
     "iopub.status.idle": "2023-05-15T06:56:56.324901Z",
     "shell.execute_reply": "2023-05-15T06:56:56.325548Z",
     "shell.execute_reply.started": "2021-12-14T04:40:11.369425Z"
    },
    "papermill": {
     "duration": 7.578024,
     "end_time": "2023-05-15T06:56:56.325765",
     "exception": false,
     "start_time": "2023-05-15T06:56:48.747741",
     "status": "completed"
    },
    "tags": []
   },
   "outputs": [],
   "source": [
    "text = ' '.join(df['twitts'])\n",
    "text = text.split()\n",
    "freq_comm = pd.Series(text).value_counts()\n",
    "f20 = freq_comm[:20]"
   ]
  },
  {
   "cell_type": "code",
   "execution_count": 57,
   "id": "f6c8aa3e",
   "metadata": {
    "execution": {
     "iopub.execute_input": "2023-05-15T06:56:56.677188Z",
     "iopub.status.busy": "2023-05-15T06:56:56.676450Z",
     "iopub.status.idle": "2023-05-15T06:56:56.683246Z",
     "shell.execute_reply": "2023-05-15T06:56:56.683829Z",
     "shell.execute_reply.started": "2021-12-14T04:40:18.629117Z"
    },
    "papermill": {
     "duration": 0.183653,
     "end_time": "2023-05-15T06:56:56.684015",
     "exception": false,
     "start_time": "2023-05-15T06:56:56.500362",
     "status": "completed"
    },
    "tags": []
   },
   "outputs": [
    {
     "data": {
      "text/plain": [
       "good      89366\n",
       "day       82299\n",
       "like      77735\n",
       "-         69662\n",
       "today     64512\n",
       "going     64078\n",
       "love      63421\n",
       "work      62804\n",
       "got       60749\n",
       "time      56081\n",
       "lol       55094\n",
       "know      51172\n",
       "im        50147\n",
       "want      42070\n",
       "new       41995\n",
       "think     41040\n",
       "night     41029\n",
       "amp       40616\n",
       "thanks    39311\n",
       "home      39168\n",
       "dtype: int64"
      ]
     },
     "execution_count": 57,
     "metadata": {},
     "output_type": "execute_result"
    }
   ],
   "source": [
    "f20"
   ]
  },
  {
   "cell_type": "code",
   "execution_count": 58,
   "id": "29af4477",
   "metadata": {
    "execution": {
     "iopub.execute_input": "2023-05-15T06:56:57.037179Z",
     "iopub.status.busy": "2023-05-15T06:56:57.036441Z",
     "iopub.status.idle": "2023-05-15T06:57:18.380555Z",
     "shell.execute_reply": "2023-05-15T06:57:18.379895Z",
     "shell.execute_reply.started": "2021-12-14T04:40:18.638707Z"
    },
    "papermill": {
     "duration": 21.522055,
     "end_time": "2023-05-15T06:57:18.380758",
     "exception": false,
     "start_time": "2023-05-15T06:56:56.858703",
     "status": "completed"
    },
    "tags": []
   },
   "outputs": [],
   "source": [
    "df['twitts'] = df['twitts'].apply(lambda x: \" \".join([t for t in x.split() if t not in f20]))"
   ]
  },
  {
   "cell_type": "code",
   "execution_count": 59,
   "id": "6132d60b",
   "metadata": {
    "execution": {
     "iopub.execute_input": "2023-05-15T06:57:18.742156Z",
     "iopub.status.busy": "2023-05-15T06:57:18.741217Z",
     "iopub.status.idle": "2023-05-15T06:57:18.744878Z",
     "shell.execute_reply": "2023-05-15T06:57:18.745438Z",
     "shell.execute_reply.started": "2021-12-14T04:40:37.035491Z"
    },
    "papermill": {
     "duration": 0.187222,
     "end_time": "2023-05-15T06:57:18.745624",
     "exception": false,
     "start_time": "2023-05-15T06:57:18.558402",
     "status": "completed"
    },
    "tags": []
   },
   "outputs": [
    {
     "data": {
      "text/plain": [
       "johnaferguson               1\n",
       "elbertc                     1\n",
       "grateful-about-our-lives    1\n",
       "adsi                        1\n",
       "denselol                    1\n",
       "universeoh                  1\n",
       "jreb                        1\n",
       "laundrygoing                1\n",
       "edgargoncalves              1\n",
       "meredithgoad                1\n",
       "abbyitalia                  1\n",
       "lalouline                   1\n",
       "cruncy                      1\n",
       "timbuckley                  1\n",
       "todayunlike                 1\n",
       "tweetytweeets               1\n",
       "anymoremigraines            1\n",
       "78quot                      1\n",
       "hapaxes                     1\n",
       "areshe                      1\n",
       "dtype: int64"
      ]
     },
     "execution_count": 59,
     "metadata": {},
     "output_type": "execute_result"
    }
   ],
   "source": [
    "#Rare words removal\n",
    "rare20 = freq_comm[-20:]\n",
    "rare20"
   ]
  },
  {
   "cell_type": "code",
   "execution_count": 60,
   "id": "bc94835c",
   "metadata": {
    "execution": {
     "iopub.execute_input": "2023-05-15T06:57:19.098015Z",
     "iopub.status.busy": "2023-05-15T06:57:19.096904Z",
     "iopub.status.idle": "2023-05-15T06:57:19.412876Z",
     "shell.execute_reply": "2023-05-15T06:57:19.412193Z",
     "shell.execute_reply.started": "2021-12-14T04:40:37.046072Z"
    },
    "papermill": {
     "duration": 0.49378,
     "end_time": "2023-05-15T06:57:19.413030",
     "exception": false,
     "start_time": "2023-05-15T06:57:18.919250",
     "status": "completed"
    },
    "tags": []
   },
   "outputs": [
    {
     "data": {
      "text/plain": [
       "vnext               1\n",
       "batsday             1\n",
       "burred              1\n",
       "jonascyrusswift     1\n",
       "skillsrmstatsica    1\n",
       "                   ..\n",
       "tweetytweeets       1\n",
       "anymoremigraines    1\n",
       "78quot              1\n",
       "hapaxes             1\n",
       "areshe              1\n",
       "Length: 536196, dtype: int64"
      ]
     },
     "execution_count": 60,
     "metadata": {},
     "output_type": "execute_result"
    }
   ],
   "source": [
    "rare = freq_comm[freq_comm.values == 1]\n",
    "rare"
   ]
  },
  {
   "cell_type": "code",
   "execution_count": 61,
   "id": "41154cf1",
   "metadata": {
    "execution": {
     "iopub.execute_input": "2023-05-15T06:57:19.774485Z",
     "iopub.status.busy": "2023-05-15T06:57:19.773741Z",
     "iopub.status.idle": "2023-05-15T06:57:39.310017Z",
     "shell.execute_reply": "2023-05-15T06:57:39.309261Z",
     "shell.execute_reply.started": "2021-12-14T04:40:37.250883Z"
    },
    "papermill": {
     "duration": 19.72196,
     "end_time": "2023-05-15T06:57:39.310169",
     "exception": false,
     "start_time": "2023-05-15T06:57:19.588209",
     "status": "completed"
    },
    "tags": []
   },
   "outputs": [
    {
     "data": {
      "text/html": [
       "<div>\n",
       "<style scoped>\n",
       "    .dataframe tbody tr th:only-of-type {\n",
       "        vertical-align: middle;\n",
       "    }\n",
       "\n",
       "    .dataframe tbody tr th {\n",
       "        vertical-align: top;\n",
       "    }\n",
       "\n",
       "    .dataframe thead th {\n",
       "        text-align: right;\n",
       "    }\n",
       "</style>\n",
       "<table border=\"1\" class=\"dataframe\">\n",
       "  <thead>\n",
       "    <tr style=\"text-align: right;\">\n",
       "      <th></th>\n",
       "      <th>twitts</th>\n",
       "      <th>sentiment</th>\n",
       "      <th>word_counts</th>\n",
       "      <th>char_counts</th>\n",
       "      <th>avg_word_len</th>\n",
       "      <th>stop_words_len</th>\n",
       "      <th>hashtags_count</th>\n",
       "      <th>mentions_count</th>\n",
       "      <th>numerics_count</th>\n",
       "      <th>upper_counts</th>\n",
       "      <th>emails</th>\n",
       "      <th>emails_count</th>\n",
       "      <th>urls_flag</th>\n",
       "    </tr>\n",
       "  </thead>\n",
       "  <tbody>\n",
       "    <tr>\n",
       "      <th>0</th>\n",
       "      <td>switchfoot awww bummer shoulda david carr d</td>\n",
       "      <td>0</td>\n",
       "      <td>19</td>\n",
       "      <td>115</td>\n",
       "      <td>5.052632</td>\n",
       "      <td>4</td>\n",
       "      <td>0</td>\n",
       "      <td>1</td>\n",
       "      <td>0</td>\n",
       "      <td>1</td>\n",
       "      <td>[]</td>\n",
       "      <td>0</td>\n",
       "      <td>1</td>\n",
       "    </tr>\n",
       "    <tr>\n",
       "      <th>1</th>\n",
       "      <td>upset update facebook texting cry result schoo...</td>\n",
       "      <td>0</td>\n",
       "      <td>21</td>\n",
       "      <td>111</td>\n",
       "      <td>4.285714</td>\n",
       "      <td>9</td>\n",
       "      <td>0</td>\n",
       "      <td>0</td>\n",
       "      <td>0</td>\n",
       "      <td>0</td>\n",
       "      <td>[]</td>\n",
       "      <td>0</td>\n",
       "      <td>0</td>\n",
       "    </tr>\n",
       "    <tr>\n",
       "      <th>2</th>\n",
       "      <td>kenichan dived times ball managed save 50 rest...</td>\n",
       "      <td>0</td>\n",
       "      <td>18</td>\n",
       "      <td>89</td>\n",
       "      <td>3.944444</td>\n",
       "      <td>7</td>\n",
       "      <td>0</td>\n",
       "      <td>1</td>\n",
       "      <td>0</td>\n",
       "      <td>1</td>\n",
       "      <td>[]</td>\n",
       "      <td>0</td>\n",
       "      <td>0</td>\n",
       "    </tr>\n",
       "    <tr>\n",
       "      <th>3</th>\n",
       "      <td>body feels itchy fire</td>\n",
       "      <td>0</td>\n",
       "      <td>10</td>\n",
       "      <td>47</td>\n",
       "      <td>3.700000</td>\n",
       "      <td>5</td>\n",
       "      <td>0</td>\n",
       "      <td>0</td>\n",
       "      <td>0</td>\n",
       "      <td>0</td>\n",
       "      <td>[]</td>\n",
       "      <td>0</td>\n",
       "      <td>0</td>\n",
       "    </tr>\n",
       "    <tr>\n",
       "      <th>4</th>\n",
       "      <td>nationwideclass behaving mad</td>\n",
       "      <td>0</td>\n",
       "      <td>21</td>\n",
       "      <td>111</td>\n",
       "      <td>4.285714</td>\n",
       "      <td>10</td>\n",
       "      <td>0</td>\n",
       "      <td>1</td>\n",
       "      <td>0</td>\n",
       "      <td>1</td>\n",
       "      <td>[]</td>\n",
       "      <td>0</td>\n",
       "      <td>0</td>\n",
       "    </tr>\n",
       "  </tbody>\n",
       "</table>\n",
       "</div>"
      ],
      "text/plain": [
       "                                              twitts  sentiment  word_counts  \\\n",
       "0        switchfoot awww bummer shoulda david carr d          0           19   \n",
       "1  upset update facebook texting cry result schoo...          0           21   \n",
       "2  kenichan dived times ball managed save 50 rest...          0           18   \n",
       "3                              body feels itchy fire          0           10   \n",
       "4                       nationwideclass behaving mad          0           21   \n",
       "\n",
       "   char_counts  avg_word_len  stop_words_len  hashtags_count  mentions_count  \\\n",
       "0          115      5.052632               4               0               1   \n",
       "1          111      4.285714               9               0               0   \n",
       "2           89      3.944444               7               0               1   \n",
       "3           47      3.700000               5               0               0   \n",
       "4          111      4.285714              10               0               1   \n",
       "\n",
       "   numerics_count  upper_counts emails  emails_count  urls_flag  \n",
       "0               0             1     []             0          1  \n",
       "1               0             0     []             0          0  \n",
       "2               0             1     []             0          0  \n",
       "3               0             0     []             0          0  \n",
       "4               0             1     []             0          0  "
      ]
     },
     "execution_count": 61,
     "metadata": {},
     "output_type": "execute_result"
    }
   ],
   "source": [
    "df['twitts'] = df['twitts'].apply(lambda x: ' '.join([t for t in x.split() if t not in rare20]))\n",
    "df.head()"
   ]
  },
  {
   "cell_type": "code",
   "execution_count": 62,
   "id": "c29cde6c",
   "metadata": {
    "execution": {
     "iopub.execute_input": "2023-05-15T06:57:39.673735Z",
     "iopub.status.busy": "2023-05-15T06:57:39.672784Z",
     "iopub.status.idle": "2023-05-15T06:57:49.687689Z",
     "shell.execute_reply": "2023-05-15T06:57:49.687068Z",
     "shell.execute_reply.started": "2021-12-14T04:40:53.594638Z"
    },
    "papermill": {
     "duration": 10.199207,
     "end_time": "2023-05-15T06:57:49.687863",
     "exception": false,
     "start_time": "2023-05-15T06:57:39.488656",
     "status": "completed"
    },
    "tags": []
   },
   "outputs": [
    {
     "name": "stdout",
     "output_type": "stream",
     "text": [
      "Requirement already satisfied: wordcloud in /opt/conda/lib/python3.7/site-packages (1.8.1)\r\n",
      "Requirement already satisfied: pillow in /opt/conda/lib/python3.7/site-packages (from wordcloud) (8.2.0)\r\n",
      "Requirement already satisfied: numpy>=1.6.1 in /opt/conda/lib/python3.7/site-packages (from wordcloud) (1.19.5)\r\n",
      "Requirement already satisfied: matplotlib in /opt/conda/lib/python3.7/site-packages (from wordcloud) (3.4.2)\r\n",
      "Requirement already satisfied: cycler>=0.10 in /opt/conda/lib/python3.7/site-packages (from matplotlib->wordcloud) (0.10.0)\r\n",
      "Requirement already satisfied: pyparsing>=2.2.1 in /opt/conda/lib/python3.7/site-packages (from matplotlib->wordcloud) (2.4.7)\r\n",
      "Requirement already satisfied: kiwisolver>=1.0.1 in /opt/conda/lib/python3.7/site-packages (from matplotlib->wordcloud) (1.3.1)\r\n",
      "Requirement already satisfied: python-dateutil>=2.7 in /opt/conda/lib/python3.7/site-packages (from matplotlib->wordcloud) (2.8.1)\r\n",
      "Requirement already satisfied: six in /opt/conda/lib/python3.7/site-packages (from cycler>=0.10->matplotlib->wordcloud) (1.15.0)\r\n",
      "\u001b[33mWARNING: Running pip as root will break packages and permissions. You should install packages reliably by using venv: https://pip.pypa.io/warnings/venv\u001b[0m\r\n"
     ]
    }
   ],
   "source": [
    "!pip install wordcloud"
   ]
  },
  {
   "cell_type": "code",
   "execution_count": 63,
   "id": "fac7ab2c",
   "metadata": {
    "execution": {
     "iopub.execute_input": "2023-05-15T06:57:50.050774Z",
     "iopub.status.busy": "2023-05-15T06:57:50.049613Z",
     "iopub.status.idle": "2023-05-15T06:57:50.250783Z",
     "shell.execute_reply": "2023-05-15T06:57:50.250104Z",
     "shell.execute_reply.started": "2021-12-14T04:41:02.278932Z"
    },
    "papermill": {
     "duration": 0.386025,
     "end_time": "2023-05-15T06:57:50.250974",
     "exception": false,
     "start_time": "2023-05-15T06:57:49.864949",
     "status": "completed"
    },
    "tags": []
   },
   "outputs": [
    {
     "data": {
      "text/plain": [
       "10837079"
      ]
     },
     "execution_count": 63,
     "metadata": {},
     "output_type": "execute_result"
    }
   ],
   "source": [
    "from wordcloud import WordCloud\n",
    "import matplotlib.pyplot as plt\n",
    "%matplotlib inline\n",
    "x = ' '.join(text[:20000])\n",
    "len(text)"
   ]
  },
  {
   "cell_type": "code",
   "execution_count": 64,
   "id": "fc3b3220",
   "metadata": {
    "execution": {
     "iopub.execute_input": "2023-05-15T06:57:50.647258Z",
     "iopub.status.busy": "2023-05-15T06:57:50.636826Z",
     "iopub.status.idle": "2023-05-15T06:57:51.824290Z",
     "shell.execute_reply": "2023-05-15T06:57:51.823654Z",
     "shell.execute_reply.started": "2021-12-14T04:41:02.486817Z"
    },
    "papermill": {
     "duration": 1.395833,
     "end_time": "2023-05-15T06:57:51.824456",
     "exception": false,
     "start_time": "2023-05-15T06:57:50.428623",
     "status": "completed"
    },
    "tags": []
   },
   "outputs": [
    {
     "data": {
      "image/png": "[encoded data removed]",
      "text/plain": [
       "<Figure size 432x288 with 1 Axes>"
      ]
     },
     "metadata": {
      "needs_background": "light"
     },
     "output_type": "display_data"
    }
   ],
   "source": [
    "wc = WordCloud(width = 800, height=400).generate(x)\n",
    "plt.imshow(wc)\n",
    "plt.axis('off')\n",
    "plt.show()"
   ]
  },
  {
   "cell_type": "code",
   "execution_count": 65,
   "id": "176570e1",
   "metadata": {
    "execution": {
     "iopub.execute_input": "2023-05-15T06:57:52.199114Z",
     "iopub.status.busy": "2023-05-15T06:57:52.198154Z",
     "iopub.status.idle": "2023-05-15T06:57:53.755830Z",
     "shell.execute_reply": "2023-05-15T06:57:53.755081Z",
     "shell.execute_reply.started": "2021-12-14T04:41:03.644087Z"
    },
    "papermill": {
     "duration": 1.745884,
     "end_time": "2023-05-15T06:57:53.755998",
     "exception": false,
     "start_time": "2023-05-15T06:57:52.010114",
     "status": "completed"
    },
    "tags": []
   },
   "outputs": [
    {
     "data": {
      "text/plain": [
       "TextBlob(\"tanks for watching this video carry\")"
      ]
     },
     "execution_count": 65,
     "metadata": {},
     "output_type": "execute_result"
    }
   ],
   "source": [
    "#Spelling Correction\n",
    "from textblob import TextBlob\n",
    "x = 'tanks forr waching this vidio carri'\n",
    "x = TextBlob(x).correct()\n",
    "x\n"
   ]
  },
  {
   "cell_type": "code",
   "execution_count": 66,
   "id": "0719279e",
   "metadata": {
    "execution": {
     "iopub.execute_input": "2023-05-15T06:57:54.129280Z",
     "iopub.status.busy": "2023-05-15T06:57:54.128125Z",
     "iopub.status.idle": "2023-05-15T06:57:54.130921Z",
     "shell.execute_reply": "2023-05-15T06:57:54.131485Z",
     "shell.execute_reply.started": "2021-12-14T04:41:05.211044Z"
    },
    "papermill": {
     "duration": 0.193955,
     "end_time": "2023-05-15T06:57:54.131708",
     "exception": false,
     "start_time": "2023-05-15T06:57:53.937753",
     "status": "completed"
    },
    "tags": []
   },
   "outputs": [],
   "source": [
    "#Tokenization"
   ]
  },
  {
   "cell_type": "code",
   "execution_count": 67,
   "id": "0d3b8ee8",
   "metadata": {
    "execution": {
     "iopub.execute_input": "2023-05-15T06:57:54.505945Z",
     "iopub.status.busy": "2023-05-15T06:57:54.505102Z",
     "iopub.status.idle": "2023-05-15T06:57:54.525514Z",
     "shell.execute_reply": "2023-05-15T06:57:54.526342Z",
     "shell.execute_reply.started": "2021-12-14T04:41:05.217154Z"
    },
    "papermill": {
     "duration": 0.20885,
     "end_time": "2023-05-15T06:57:54.526548",
     "exception": false,
     "start_time": "2023-05-15T06:57:54.317698",
     "status": "completed"
    },
    "tags": []
   },
   "outputs": [
    {
     "data": {
      "text/plain": [
       "WordList(['thanks', 'watching', 'this', 'video', 'please', 'like', 'it'])"
      ]
     },
     "execution_count": 67,
     "metadata": {},
     "output_type": "execute_result"
    }
   ],
   "source": [
    "x = 'thanks#watching this video. please like it'\n",
    "TextBlob(x).words\n"
   ]
  },
  {
   "cell_type": "code",
   "execution_count": 68,
   "id": "24f526d9",
   "metadata": {
    "execution": {
     "iopub.execute_input": "2023-05-15T06:57:54.894541Z",
     "iopub.status.busy": "2023-05-15T06:57:54.893708Z",
     "iopub.status.idle": "2023-05-15T06:57:54.911881Z",
     "shell.execute_reply": "2023-05-15T06:57:54.912481Z",
     "shell.execute_reply.started": "2021-12-14T04:41:05.256192Z"
    },
    "papermill": {
     "duration": 0.203186,
     "end_time": "2023-05-15T06:57:54.912666",
     "exception": false,
     "start_time": "2023-05-15T06:57:54.709480",
     "status": "completed"
    },
    "tags": []
   },
   "outputs": [
    {
     "name": "stdout",
     "output_type": "stream",
     "text": [
      "thanks#watching\n",
      "this\n",
      "video\n",
      ".\n",
      "please\n",
      "like\n",
      "it\n"
     ]
    }
   ],
   "source": [
    "doc = nlp(x)\n",
    "for token in doc:\n",
    "    print(token)"
   ]
  },
  {
   "cell_type": "code",
   "execution_count": 69,
   "id": "78694ba9",
   "metadata": {
    "execution": {
     "iopub.execute_input": "2023-05-15T06:57:55.284106Z",
     "iopub.status.busy": "2023-05-15T06:57:55.283379Z",
     "iopub.status.idle": "2023-05-15T06:57:55.286533Z",
     "shell.execute_reply": "2023-05-15T06:57:55.287199Z",
     "shell.execute_reply.started": "2021-12-14T04:41:05.282101Z"
    },
    "papermill": {
     "duration": 0.191632,
     "end_time": "2023-05-15T06:57:55.287390",
     "exception": false,
     "start_time": "2023-05-15T06:57:55.095758",
     "status": "completed"
    },
    "tags": []
   },
   "outputs": [],
   "source": [
    "#Lemmatization"
   ]
  },
  {
   "cell_type": "code",
   "execution_count": 70,
   "id": "178c4258",
   "metadata": {
    "execution": {
     "iopub.execute_input": "2023-05-15T06:57:55.699818Z",
     "iopub.status.busy": "2023-05-15T06:57:55.699105Z",
     "iopub.status.idle": "2023-05-15T06:57:57.796566Z",
     "shell.execute_reply": "2023-05-15T06:57:57.797206Z",
     "shell.execute_reply.started": "2021-12-14T04:41:05.289039Z"
    },
    "papermill": {
     "duration": 2.282673,
     "end_time": "2023-05-15T06:57:57.797402",
     "exception": false,
     "start_time": "2023-05-15T06:57:55.514729",
     "status": "completed"
    },
    "tags": []
   },
   "outputs": [
    {
     "name": "stdout",
     "output_type": "stream",
     "text": [
      "run\n",
      "run\n",
      "running\n",
      "ran\n"
     ]
    }
   ],
   "source": [
    "x = 'runs run running ran'\n",
    "from textblob import Word\n",
    "for token in x.split():\n",
    "    print(Word(token).lemmatize())"
   ]
  },
  {
   "cell_type": "code",
   "execution_count": 71,
   "id": "2c88090b",
   "metadata": {
    "execution": {
     "iopub.execute_input": "2023-05-15T06:57:58.170242Z",
     "iopub.status.busy": "2023-05-15T06:57:58.169184Z",
     "iopub.status.idle": "2023-05-15T06:57:58.188469Z",
     "shell.execute_reply": "2023-05-15T06:57:58.187896Z",
     "shell.execute_reply.started": "2021-12-14T04:41:07.032003Z"
    },
    "papermill": {
     "duration": 0.207567,
     "end_time": "2023-05-15T06:57:58.188626",
     "exception": false,
     "start_time": "2023-05-15T06:57:57.981059",
     "status": "completed"
    },
    "tags": []
   },
   "outputs": [
    {
     "name": "stdout",
     "output_type": "stream",
     "text": [
      "run\n",
      "run\n",
      "run\n",
      "run\n"
     ]
    }
   ],
   "source": [
    "doc = nlp(x)\n",
    "for token in doc:\n",
    "    print(token.lemma_)"
   ]
  },
  {
   "cell_type": "code",
   "execution_count": 72,
   "id": "f07e8abf",
   "metadata": {
    "execution": {
     "iopub.execute_input": "2023-05-15T06:57:58.564409Z",
     "iopub.status.busy": "2023-05-15T06:57:58.563340Z",
     "iopub.status.idle": "2023-05-15T06:57:58.566496Z",
     "shell.execute_reply": "2023-05-15T06:57:58.565898Z",
     "shell.execute_reply.started": "2021-12-14T04:41:07.053950Z"
    },
    "papermill": {
     "duration": 0.19262,
     "end_time": "2023-05-15T06:57:58.566648",
     "exception": false,
     "start_time": "2023-05-15T06:57:58.374028",
     "status": "completed"
    },
    "tags": []
   },
   "outputs": [],
   "source": [
    "#Detect Entities using NER of SpaCy\n",
    "#Named Entity Recognition (NER) is a standard NLP problem which involves spotting named entities (people, places, organizations etc.) from a chunk of text, and classifying them into a predefined set of categories. Some of the practical applications of NER include:\n",
    "#Scanning news articles for the people, organizations and locations reported.\n",
    "#Providing concise features for search optimization: instead of searching the entire content, one may simply search for the major entities involved.\n",
    "#Quickly retrieving geographical locations talked about in Twitter posts."
   ]
  },
  {
   "cell_type": "code",
   "execution_count": 73,
   "id": "758c04a0",
   "metadata": {
    "execution": {
     "iopub.execute_input": "2023-05-15T06:57:58.939296Z",
     "iopub.status.busy": "2023-05-15T06:57:58.938582Z",
     "iopub.status.idle": "2023-05-15T06:57:58.958028Z",
     "shell.execute_reply": "2023-05-15T06:57:58.958637Z",
     "shell.execute_reply.started": "2021-12-14T04:41:07.059620Z"
    },
    "papermill": {
     "duration": 0.207175,
     "end_time": "2023-05-15T06:57:58.958841",
     "exception": false,
     "start_time": "2023-05-15T06:57:58.751666",
     "status": "completed"
    },
    "tags": []
   },
   "outputs": [
    {
     "name": "stdout",
     "output_type": "stream",
     "text": [
      "Donald Trump - PERSON - People, including fictional\n",
      "USA - GPE - Countries, cities, states\n"
     ]
    }
   ],
   "source": [
    "x = \"Breaking News: Donald Trump, the president of the USA is looking to sign a deal to mine the moon\"\n",
    "doc = nlp(x)\n",
    "for ent in doc.ents:\n",
    "    print(ent.text + ' - ' + ent.label_ + ' - ' + str(spacy.explain(ent.label_)))"
   ]
  },
  {
   "cell_type": "code",
   "execution_count": 74,
   "id": "d4ebe93d",
   "metadata": {
    "execution": {
     "iopub.execute_input": "2023-05-15T06:57:59.332457Z",
     "iopub.status.busy": "2023-05-15T06:57:59.331744Z",
     "iopub.status.idle": "2023-05-15T06:57:59.337726Z",
     "shell.execute_reply": "2023-05-15T06:57:59.338436Z",
     "shell.execute_reply.started": "2021-12-14T04:41:07.085683Z"
    },
    "papermill": {
     "duration": 0.194174,
     "end_time": "2023-05-15T06:57:59.338621",
     "exception": false,
     "start_time": "2023-05-15T06:57:59.144447",
     "status": "completed"
    },
    "tags": []
   },
   "outputs": [
    {
     "data": {
      "text/html": [
       "<span class=\"tex2jax_ignore\"><div class=\"entities\" style=\"line-height: 2.5; direction: ltr\">Breaking News: \n",
       "<mark class=\"entity\" style=\"background: #aa9cfc; padding: 0.45em 0.6em; margin: 0 0.25em; line-height: 1; border-radius: 0.35em;\">\n",
       "    Donald Trump\n",
       "    <span style=\"font-size: 0.8em; font-weight: bold; line-height: 1; border-radius: 0.35em; text-transform: uppercase; vertical-align: middle; margin-left: 0.5rem\">PERSON</span>\n",
       "</mark>\n",
       ", the president of the \n",
       "<mark class=\"entity\" style=\"background: #feca74; padding: 0.45em 0.6em; margin: 0 0.25em; line-height: 1; border-radius: 0.35em;\">\n",
       "    USA\n",
       "    <span style=\"font-size: 0.8em; font-weight: bold; line-height: 1; border-radius: 0.35em; text-transform: uppercase; vertical-align: middle; margin-left: 0.5rem\">GPE</span>\n",
       "</mark>\n",
       " is looking to sign a deal to mine the moon</div></span>"
      ],
      "text/plain": [
       "<IPython.core.display.HTML object>"
      ]
     },
     "metadata": {},
     "output_type": "display_data"
    }
   ],
   "source": [
    "from spacy import displacy\n",
    "displacy.render(doc, style = 'ent')"
   ]
  },
  {
   "cell_type": "code",
   "execution_count": 75,
   "id": "518f8399",
   "metadata": {
    "execution": {
     "iopub.execute_input": "2023-05-15T06:57:59.712100Z",
     "iopub.status.busy": "2023-05-15T06:57:59.711025Z",
     "iopub.status.idle": "2023-05-15T06:57:59.716847Z",
     "shell.execute_reply": "2023-05-15T06:57:59.717520Z",
     "shell.execute_reply.started": "2021-12-14T04:41:07.093440Z"
    },
    "papermill": {
     "duration": 0.194306,
     "end_time": "2023-05-15T06:57:59.717755",
     "exception": false,
     "start_time": "2023-05-15T06:57:59.523449",
     "status": "completed"
    },
    "tags": []
   },
   "outputs": [
    {
     "data": {
      "text/plain": [
       "'Breaking News: Donald Trump, the president of the USA is looking to sign a deal to mine the moon'"
      ]
     },
     "execution_count": 75,
     "metadata": {},
     "output_type": "execute_result"
    }
   ],
   "source": [
    "#Detecting Nouns\n",
    "x"
   ]
  },
  {
   "cell_type": "code",
   "execution_count": 76,
   "id": "df269e6e",
   "metadata": {
    "execution": {
     "iopub.execute_input": "2023-05-15T06:58:00.101949Z",
     "iopub.status.busy": "2023-05-15T06:58:00.100744Z",
     "iopub.status.idle": "2023-05-15T06:58:00.105589Z",
     "shell.execute_reply": "2023-05-15T06:58:00.104946Z",
     "shell.execute_reply.started": "2021-12-14T04:41:07.104922Z"
    },
    "papermill": {
     "duration": 0.199693,
     "end_time": "2023-05-15T06:58:00.105789",
     "exception": false,
     "start_time": "2023-05-15T06:57:59.906096",
     "status": "completed"
    },
    "tags": []
   },
   "outputs": [
    {
     "name": "stdout",
     "output_type": "stream",
     "text": [
      "Breaking\n",
      "News\n",
      "Donald Trump\n",
      "the president\n",
      "the USA\n",
      "a deal\n",
      "the moon\n"
     ]
    }
   ],
   "source": [
    "for noun in doc.noun_chunks:\n",
    "    print(noun)"
   ]
  },
  {
   "cell_type": "code",
   "execution_count": 77,
   "id": "ae88d2f7",
   "metadata": {
    "execution": {
     "iopub.execute_input": "2023-05-15T06:58:00.496546Z",
     "iopub.status.busy": "2023-05-15T06:58:00.495483Z",
     "iopub.status.idle": "2023-05-15T06:58:00.499864Z",
     "shell.execute_reply": "2023-05-15T06:58:00.499251Z",
     "shell.execute_reply.started": "2021-12-14T04:41:07.118609Z"
    },
    "papermill": {
     "duration": 0.202462,
     "end_time": "2023-05-15T06:58:00.500021",
     "exception": false,
     "start_time": "2023-05-15T06:58:00.297559",
     "status": "completed"
    },
    "tags": []
   },
   "outputs": [
    {
     "data": {
      "text/plain": [
       "'Breaking News: Donald Trump, the president of the USA is looking to sign a deal to mine the moon'"
      ]
     },
     "execution_count": 77,
     "metadata": {},
     "output_type": "execute_result"
    }
   ],
   "source": [
    "#Translation and Language Detection\n",
    "x"
   ]
  },
  {
   "cell_type": "code",
   "execution_count": 78,
   "id": "dada61ad",
   "metadata": {
    "execution": {
     "iopub.execute_input": "2023-05-15T06:58:00.886219Z",
     "iopub.status.busy": "2023-05-15T06:58:00.885469Z",
     "iopub.status.idle": "2023-05-15T06:58:00.889713Z",
     "shell.execute_reply": "2023-05-15T06:58:00.890426Z",
     "shell.execute_reply.started": "2021-12-14T04:41:07.129245Z"
    },
    "papermill": {
     "duration": 0.19999,
     "end_time": "2023-05-15T06:58:00.890626",
     "exception": false,
     "start_time": "2023-05-15T06:58:00.690636",
     "status": "completed"
    },
    "tags": []
   },
   "outputs": [],
   "source": [
    "tb = TextBlob(x)\n",
    "#tb.detect_language()"
   ]
  },
  {
   "cell_type": "code",
   "execution_count": 79,
   "id": "018c8c99",
   "metadata": {
    "execution": {
     "iopub.execute_input": "2023-05-15T06:58:01.275595Z",
     "iopub.status.busy": "2023-05-15T06:58:01.274468Z",
     "iopub.status.idle": "2023-05-15T06:58:01.278233Z",
     "shell.execute_reply": "2023-05-15T06:58:01.277581Z",
     "shell.execute_reply.started": "2021-12-14T04:41:07.138677Z"
    },
    "papermill": {
     "duration": 0.199641,
     "end_time": "2023-05-15T06:58:01.278403",
     "exception": false,
     "start_time": "2023-05-15T06:58:01.078762",
     "status": "completed"
    },
    "tags": []
   },
   "outputs": [],
   "source": [
    "#Use inbuilt sentiment classifier"
   ]
  },
  {
   "cell_type": "code",
   "execution_count": 80,
   "id": "1290eb00",
   "metadata": {
    "execution": {
     "iopub.execute_input": "2023-05-15T06:58:01.660934Z",
     "iopub.status.busy": "2023-05-15T06:58:01.660198Z",
     "iopub.status.idle": "2023-05-15T06:58:09.407356Z",
     "shell.execute_reply": "2023-05-15T06:58:09.406471Z",
     "shell.execute_reply.started": "2021-12-14T04:41:07.148795Z"
    },
    "papermill": {
     "duration": 7.939309,
     "end_time": "2023-05-15T06:58:09.407528",
     "exception": false,
     "start_time": "2023-05-15T06:58:01.468219",
     "status": "completed"
    },
    "tags": []
   },
   "outputs": [
    {
     "data": {
      "text/plain": [
       "Sentiment(classification='pos', p_pos=0.8259779151942094, p_neg=0.17402208480578962)"
      ]
     },
     "execution_count": 80,
     "metadata": {},
     "output_type": "execute_result"
    }
   ],
   "source": [
    "from textblob.sentiments import NaiveBayesAnalyzer\n",
    "x = 'we all stands together to fight with corona virus. we will win together'\n",
    "tb = TextBlob(x, analyzer=NaiveBayesAnalyzer())\n",
    "tb.sentiment\n",
    "# classification of sentiment into positive and negative"
   ]
  },
  {
   "cell_type": "code",
   "execution_count": 81,
   "id": "8c801b8a",
   "metadata": {
    "execution": {
     "iopub.execute_input": "2023-05-15T06:58:09.838755Z",
     "iopub.status.busy": "2023-05-15T06:58:09.838003Z",
     "iopub.status.idle": "2023-05-15T06:58:15.544726Z",
     "shell.execute_reply": "2023-05-15T06:58:15.544130Z",
     "shell.execute_reply.started": "2021-12-14T04:41:13.307937Z"
    },
    "papermill": {
     "duration": 5.949018,
     "end_time": "2023-05-15T06:58:15.544896",
     "exception": false,
     "start_time": "2023-05-15T06:58:09.595878",
     "status": "completed"
    },
    "tags": []
   },
   "outputs": [
    {
     "data": {
      "text/plain": [
       "Sentiment(classification='pos', p_pos=0.75616044472398, p_neg=0.2438395552760203)"
      ]
     },
     "execution_count": 81,
     "metadata": {},
     "output_type": "execute_result"
    }
   ],
   "source": [
    "x = 'we all are sufering from corona'\n",
    "tb = TextBlob(x, analyzer=NaiveBayesAnalyzer())\n",
    "tb.sentiment"
   ]
  },
  {
   "cell_type": "code",
   "execution_count": 82,
   "id": "c929d33a",
   "metadata": {
    "execution": {
     "iopub.execute_input": "2023-05-15T06:58:15.925820Z",
     "iopub.status.busy": "2023-05-15T06:58:15.924785Z",
     "iopub.status.idle": "2023-05-15T06:58:15.928575Z",
     "shell.execute_reply": "2023-05-15T06:58:15.929176Z",
     "shell.execute_reply.started": "2021-12-14T04:41:18.357944Z"
    },
    "papermill": {
     "duration": 0.195955,
     "end_time": "2023-05-15T06:58:15.929357",
     "exception": false,
     "start_time": "2023-05-15T06:58:15.733402",
     "status": "completed"
    },
    "tags": []
   },
   "outputs": [],
   "source": [
    "#Advanced text processing"
   ]
  },
  {
   "cell_type": "code",
   "execution_count": 83,
   "id": "b105c90f",
   "metadata": {
    "execution": {
     "iopub.execute_input": "2023-05-15T06:58:16.312938Z",
     "iopub.status.busy": "2023-05-15T06:58:16.311902Z",
     "iopub.status.idle": "2023-05-15T06:58:16.372982Z",
     "shell.execute_reply": "2023-05-15T06:58:16.372333Z",
     "shell.execute_reply.started": "2021-12-14T04:41:18.364129Z"
    },
    "papermill": {
     "duration": 0.253956,
     "end_time": "2023-05-15T06:58:16.373137",
     "exception": false,
     "start_time": "2023-05-15T06:58:16.119181",
     "status": "completed"
    },
    "tags": []
   },
   "outputs": [
    {
     "data": {
      "text/plain": [
       "[WordList(['thanks', 'for']), WordList(['for', 'watching'])]"
      ]
     },
     "execution_count": 83,
     "metadata": {},
     "output_type": "execute_result"
    }
   ],
   "source": [
    "x = 'thanks for watching'\n",
    "tb = TextBlob(x)\n",
    "tb.ngrams(2)"
   ]
  },
  {
   "cell_type": "code",
   "execution_count": 84,
   "id": "4b9e07ce",
   "metadata": {
    "execution": {
     "iopub.execute_input": "2023-05-15T06:58:16.755721Z",
     "iopub.status.busy": "2023-05-15T06:58:16.754962Z",
     "iopub.status.idle": "2023-05-15T06:58:16.758349Z",
     "shell.execute_reply": "2023-05-15T06:58:16.757734Z",
     "shell.execute_reply.started": "2021-12-14T04:41:18.426882Z"
    },
    "papermill": {
     "duration": 0.196917,
     "end_time": "2023-05-15T06:58:16.758511",
     "exception": false,
     "start_time": "2023-05-15T06:58:16.561594",
     "status": "completed"
    },
    "tags": []
   },
   "outputs": [],
   "source": [
    "#Bag of Words (feature extraction, dictionary  )\n",
    "x = ['This is first sentence this is','This is second','This is last']\n",
    "from sklearn.feature_extraction.text import CountVectorizer"
   ]
  },
  {
   "cell_type": "code",
   "execution_count": 85,
   "id": "056ce1b2",
   "metadata": {
    "execution": {
     "iopub.execute_input": "2023-05-15T06:58:17.150129Z",
     "iopub.status.busy": "2023-05-15T06:58:17.148963Z",
     "iopub.status.idle": "2023-05-15T06:58:17.151552Z",
     "shell.execute_reply": "2023-05-15T06:58:17.152104Z",
     "shell.execute_reply.started": "2021-12-14T04:41:18.435005Z"
    },
    "papermill": {
     "duration": 0.205687,
     "end_time": "2023-05-15T06:58:17.152314",
     "exception": false,
     "start_time": "2023-05-15T06:58:16.946627",
     "status": "completed"
    },
    "tags": []
   },
   "outputs": [],
   "source": [
    "cv = CountVectorizer(ngram_range=(1,1))\n",
    "text_counts = cv.fit_transform(x)\n",
    "text_counts.toarray()\n",
    "cv.get_feature_names()\n",
    "bow = pd.DataFrame(text_counts.toarray(), columns = cv.get_feature_names())"
   ]
  },
  {
   "cell_type": "markdown",
   "id": "a0d9533d",
   "metadata": {
    "papermill": {
     "duration": 0.192014,
     "end_time": "2023-05-15T06:58:17.533251",
     "exception": false,
     "start_time": "2023-05-15T06:58:17.341237",
     "status": "completed"
    },
    "tags": []
   },
   "source": []
  },
  {
   "cell_type": "code",
   "execution_count": 86,
   "id": "7732b202",
   "metadata": {
    "execution": {
     "iopub.execute_input": "2023-05-15T06:58:17.927369Z",
     "iopub.status.busy": "2023-05-15T06:58:17.926635Z",
     "iopub.status.idle": "2023-05-15T06:58:17.929520Z",
     "shell.execute_reply": "2023-05-15T06:58:17.930196Z",
     "shell.execute_reply.started": "2021-12-14T04:41:18.448624Z"
    },
    "papermill": {
     "duration": 0.200075,
     "end_time": "2023-05-15T06:58:17.930391",
     "exception": false,
     "start_time": "2023-05-15T06:58:17.730316",
     "status": "completed"
    },
    "tags": []
   },
   "outputs": [
    {
     "data": {
      "text/plain": [
       "array([[1, 2, 0, 0, 1, 2],\n",
       "       [0, 1, 0, 1, 0, 1],\n",
       "       [0, 1, 1, 0, 0, 1]])"
      ]
     },
     "execution_count": 86,
     "metadata": {},
     "output_type": "execute_result"
    }
   ],
   "source": [
    "text_counts.toarray()"
   ]
  },
  {
   "cell_type": "code",
   "execution_count": 87,
   "id": "981f7b33",
   "metadata": {
    "execution": {
     "iopub.execute_input": "2023-05-15T06:58:18.319129Z",
     "iopub.status.busy": "2023-05-15T06:58:18.318344Z",
     "iopub.status.idle": "2023-05-15T06:58:18.321171Z",
     "shell.execute_reply": "2023-05-15T06:58:18.321787Z",
     "shell.execute_reply.started": "2021-12-14T04:41:18.462275Z"
    },
    "papermill": {
     "duration": 0.201936,
     "end_time": "2023-05-15T06:58:18.321975",
     "exception": false,
     "start_time": "2023-05-15T06:58:18.120039",
     "status": "completed"
    },
    "tags": []
   },
   "outputs": [
    {
     "data": {
      "text/plain": [
       "['first', 'is', 'last', 'second', 'sentence', 'this']"
      ]
     },
     "execution_count": 87,
     "metadata": {},
     "output_type": "execute_result"
    }
   ],
   "source": [
    "cv.get_feature_names()"
   ]
  },
  {
   "cell_type": "code",
   "execution_count": 88,
   "id": "56af0917",
   "metadata": {
    "execution": {
     "iopub.execute_input": "2023-05-15T06:58:18.700349Z",
     "iopub.status.busy": "2023-05-15T06:58:18.699464Z",
     "iopub.status.idle": "2023-05-15T06:58:18.705566Z",
     "shell.execute_reply": "2023-05-15T06:58:18.704863Z",
     "shell.execute_reply.started": "2021-12-14T04:41:18.472705Z"
    },
    "papermill": {
     "duration": 0.196313,
     "end_time": "2023-05-15T06:58:18.705755",
     "exception": false,
     "start_time": "2023-05-15T06:58:18.509442",
     "status": "completed"
    },
    "tags": []
   },
   "outputs": [],
   "source": [
    "bow = pd.DataFrame(text_counts.toarray(), columns = cv.get_feature_names())"
   ]
  },
  {
   "cell_type": "code",
   "execution_count": 89,
   "id": "813b9001",
   "metadata": {
    "execution": {
     "iopub.execute_input": "2023-05-15T06:58:19.093316Z",
     "iopub.status.busy": "2023-05-15T06:58:19.092326Z",
     "iopub.status.idle": "2023-05-15T06:58:19.097183Z",
     "shell.execute_reply": "2023-05-15T06:58:19.096567Z",
     "shell.execute_reply.started": "2021-12-14T04:41:18.485066Z"
    },
    "papermill": {
     "duration": 0.204164,
     "end_time": "2023-05-15T06:58:19.097357",
     "exception": false,
     "start_time": "2023-05-15T06:58:18.893193",
     "status": "completed"
    },
    "tags": []
   },
   "outputs": [
    {
     "data": {
      "text/html": [
       "<div>\n",
       "<style scoped>\n",
       "    .dataframe tbody tr th:only-of-type {\n",
       "        vertical-align: middle;\n",
       "    }\n",
       "\n",
       "    .dataframe tbody tr th {\n",
       "        vertical-align: top;\n",
       "    }\n",
       "\n",
       "    .dataframe thead th {\n",
       "        text-align: right;\n",
       "    }\n",
       "</style>\n",
       "<table border=\"1\" class=\"dataframe\">\n",
       "  <thead>\n",
       "    <tr style=\"text-align: right;\">\n",
       "      <th></th>\n",
       "      <th>first</th>\n",
       "      <th>is</th>\n",
       "      <th>last</th>\n",
       "      <th>second</th>\n",
       "      <th>sentence</th>\n",
       "      <th>this</th>\n",
       "    </tr>\n",
       "  </thead>\n",
       "  <tbody>\n",
       "    <tr>\n",
       "      <th>0</th>\n",
       "      <td>1</td>\n",
       "      <td>2</td>\n",
       "      <td>0</td>\n",
       "      <td>0</td>\n",
       "      <td>1</td>\n",
       "      <td>2</td>\n",
       "    </tr>\n",
       "    <tr>\n",
       "      <th>1</th>\n",
       "      <td>0</td>\n",
       "      <td>1</td>\n",
       "      <td>0</td>\n",
       "      <td>1</td>\n",
       "      <td>0</td>\n",
       "      <td>1</td>\n",
       "    </tr>\n",
       "    <tr>\n",
       "      <th>2</th>\n",
       "      <td>0</td>\n",
       "      <td>1</td>\n",
       "      <td>1</td>\n",
       "      <td>0</td>\n",
       "      <td>0</td>\n",
       "      <td>1</td>\n",
       "    </tr>\n",
       "  </tbody>\n",
       "</table>\n",
       "</div>"
      ],
      "text/plain": [
       "   first  is  last  second  sentence  this\n",
       "0      1   2     0       0         1     2\n",
       "1      0   1     0       1         0     1\n",
       "2      0   1     1       0         0     1"
      ]
     },
     "execution_count": 89,
     "metadata": {},
     "output_type": "execute_result"
    }
   ],
   "source": [
    "bow #used to extract feature and classify text"
   ]
  },
  {
   "cell_type": "code",
   "execution_count": 90,
   "id": "952e3c25",
   "metadata": {
    "execution": {
     "iopub.execute_input": "2023-05-15T06:58:19.508603Z",
     "iopub.status.busy": "2023-05-15T06:58:19.507815Z",
     "iopub.status.idle": "2023-05-15T06:58:19.511007Z",
     "shell.execute_reply": "2023-05-15T06:58:19.511558Z",
     "shell.execute_reply.started": "2021-12-14T04:41:18.504482Z"
    },
    "papermill": {
     "duration": 0.221825,
     "end_time": "2023-05-15T06:58:19.511784",
     "exception": false,
     "start_time": "2023-05-15T06:58:19.289959",
     "status": "completed"
    },
    "tags": []
   },
   "outputs": [
    {
     "data": {
      "text/plain": [
       "['This is first sentence this is', 'This is second', 'This is last']"
      ]
     },
     "execution_count": 90,
     "metadata": {},
     "output_type": "execute_result"
    }
   ],
   "source": [
    "x"
   ]
  },
  {
   "cell_type": "code",
   "execution_count": 91,
   "id": "1d9ceb85",
   "metadata": {
    "execution": {
     "iopub.execute_input": "2023-05-15T06:58:19.895463Z",
     "iopub.status.busy": "2023-05-15T06:58:19.894355Z",
     "iopub.status.idle": "2023-05-15T06:58:19.897697Z",
     "shell.execute_reply": "2023-05-15T06:58:19.897030Z",
     "shell.execute_reply.started": "2021-12-14T04:41:18.516915Z"
    },
    "papermill": {
     "duration": 0.197078,
     "end_time": "2023-05-15T06:58:19.897870",
     "exception": false,
     "start_time": "2023-05-15T06:58:19.700792",
     "status": "completed"
    },
    "tags": []
   },
   "outputs": [],
   "source": [
    "#Term Frequency (is normalized)\n",
    "# is simply the ratio of the count of a word present in a sentence,to the length of the sentence."
   ]
  },
  {
   "cell_type": "code",
   "execution_count": 92,
   "id": "1dcf8cdb",
   "metadata": {
    "execution": {
     "iopub.execute_input": "2023-05-15T06:58:20.280564Z",
     "iopub.status.busy": "2023-05-15T06:58:20.279801Z",
     "iopub.status.idle": "2023-05-15T06:58:20.286166Z",
     "shell.execute_reply": "2023-05-15T06:58:20.285557Z",
     "shell.execute_reply.started": "2021-12-14T04:41:18.526657Z"
    },
    "papermill": {
     "duration": 0.197605,
     "end_time": "2023-05-15T06:58:20.286337",
     "exception": false,
     "start_time": "2023-05-15T06:58:20.088732",
     "status": "completed"
    },
    "tags": []
   },
   "outputs": [
    {
     "data": {
      "text/plain": [
       "(3, 6)"
      ]
     },
     "execution_count": 92,
     "metadata": {},
     "output_type": "execute_result"
    }
   ],
   "source": [
    "bow.shape"
   ]
  },
  {
   "cell_type": "code",
   "execution_count": 93,
   "id": "85a5f90f",
   "metadata": {
    "execution": {
     "iopub.execute_input": "2023-05-15T06:58:20.675224Z",
     "iopub.status.busy": "2023-05-15T06:58:20.674527Z",
     "iopub.status.idle": "2023-05-15T06:58:20.677392Z",
     "shell.execute_reply": "2023-05-15T06:58:20.678222Z",
     "shell.execute_reply.started": "2021-12-14T04:41:18.540353Z"
    },
    "papermill": {
     "duration": 0.199827,
     "end_time": "2023-05-15T06:58:20.678432",
     "exception": false,
     "start_time": "2023-05-15T06:58:20.478605",
     "status": "completed"
    },
    "tags": []
   },
   "outputs": [],
   "source": [
    "tf = bow.copy()"
   ]
  },
  {
   "cell_type": "code",
   "execution_count": 94,
   "id": "e6a7f682",
   "metadata": {
    "execution": {
     "iopub.execute_input": "2023-05-15T06:58:21.066067Z",
     "iopub.status.busy": "2023-05-15T06:58:21.065327Z",
     "iopub.status.idle": "2023-05-15T06:58:21.069738Z",
     "shell.execute_reply": "2023-05-15T06:58:21.069110Z",
     "shell.execute_reply.started": "2021-12-14T04:41:18.553366Z"
    },
    "papermill": {
     "duration": 0.197932,
     "end_time": "2023-05-15T06:58:21.069896",
     "exception": false,
     "start_time": "2023-05-15T06:58:20.871964",
     "status": "completed"
    },
    "tags": []
   },
   "outputs": [],
   "source": [
    "#for row in bow.iterrows():\n",
    " #   print(row[1]/sum(row))"
   ]
  },
  {
   "cell_type": "code",
   "execution_count": 95,
   "id": "f42579bd",
   "metadata": {
    "execution": {
     "iopub.execute_input": "2023-05-15T06:58:21.462320Z",
     "iopub.status.busy": "2023-05-15T06:58:21.461592Z",
     "iopub.status.idle": "2023-05-15T06:58:21.476938Z",
     "shell.execute_reply": "2023-05-15T06:58:21.477526Z",
     "shell.execute_reply.started": "2021-12-14T04:41:18.564099Z"
    },
    "papermill": {
     "duration": 0.21298,
     "end_time": "2023-05-15T06:58:21.477739",
     "exception": false,
     "start_time": "2023-05-15T06:58:21.264759",
     "status": "completed"
    },
    "tags": []
   },
   "outputs": [],
   "source": [
    "for index, row in enumerate(tf.iterrows()):\n",
    "    for col in row[1].index:\n",
    "        tf.loc[index, col] = tf.loc[index, col]/sum(row[1].values)"
   ]
  },
  {
   "cell_type": "code",
   "execution_count": 96,
   "id": "38c7614e",
   "metadata": {
    "execution": {
     "iopub.execute_input": "2023-05-15T06:58:21.859462Z",
     "iopub.status.busy": "2023-05-15T06:58:21.858404Z",
     "iopub.status.idle": "2023-05-15T06:58:21.872382Z",
     "shell.execute_reply": "2023-05-15T06:58:21.873065Z",
     "shell.execute_reply.started": "2021-12-14T04:41:18.587561Z"
    },
    "papermill": {
     "duration": 0.206358,
     "end_time": "2023-05-15T06:58:21.873250",
     "exception": false,
     "start_time": "2023-05-15T06:58:21.666892",
     "status": "completed"
    },
    "tags": []
   },
   "outputs": [
    {
     "data": {
      "text/html": [
       "<div>\n",
       "<style scoped>\n",
       "    .dataframe tbody tr th:only-of-type {\n",
       "        vertical-align: middle;\n",
       "    }\n",
       "\n",
       "    .dataframe tbody tr th {\n",
       "        vertical-align: top;\n",
       "    }\n",
       "\n",
       "    .dataframe thead th {\n",
       "        text-align: right;\n",
       "    }\n",
       "</style>\n",
       "<table border=\"1\" class=\"dataframe\">\n",
       "  <thead>\n",
       "    <tr style=\"text-align: right;\">\n",
       "      <th></th>\n",
       "      <th>first</th>\n",
       "      <th>is</th>\n",
       "      <th>last</th>\n",
       "      <th>second</th>\n",
       "      <th>sentence</th>\n",
       "      <th>this</th>\n",
       "    </tr>\n",
       "  </thead>\n",
       "  <tbody>\n",
       "    <tr>\n",
       "      <th>0</th>\n",
       "      <td>0.166667</td>\n",
       "      <td>0.333333</td>\n",
       "      <td>0.000000</td>\n",
       "      <td>0.000000</td>\n",
       "      <td>0.166667</td>\n",
       "      <td>0.333333</td>\n",
       "    </tr>\n",
       "    <tr>\n",
       "      <th>1</th>\n",
       "      <td>0.000000</td>\n",
       "      <td>0.333333</td>\n",
       "      <td>0.000000</td>\n",
       "      <td>0.333333</td>\n",
       "      <td>0.000000</td>\n",
       "      <td>0.333333</td>\n",
       "    </tr>\n",
       "    <tr>\n",
       "      <th>2</th>\n",
       "      <td>0.000000</td>\n",
       "      <td>0.333333</td>\n",
       "      <td>0.333333</td>\n",
       "      <td>0.000000</td>\n",
       "      <td>0.000000</td>\n",
       "      <td>0.333333</td>\n",
       "    </tr>\n",
       "  </tbody>\n",
       "</table>\n",
       "</div>"
      ],
      "text/plain": [
       "      first        is      last    second  sentence      this\n",
       "0  0.166667  0.333333  0.000000  0.000000  0.166667  0.333333\n",
       "1  0.000000  0.333333  0.000000  0.333333  0.000000  0.333333\n",
       "2  0.000000  0.333333  0.333333  0.000000  0.000000  0.333333"
      ]
     },
     "execution_count": 96,
     "metadata": {},
     "output_type": "execute_result"
    }
   ],
   "source": [
    "tf #normalized form of bag of words, Problrm: gives emphasis to word which occurs more hence stop words may get more emphasis,use idf"
   ]
  },
  {
   "cell_type": "code",
   "execution_count": 97,
   "id": "48486a32",
   "metadata": {
    "execution": {
     "iopub.execute_input": "2023-05-15T06:58:22.261800Z",
     "iopub.status.busy": "2023-05-15T06:58:22.260756Z",
     "iopub.status.idle": "2023-05-15T06:58:22.264725Z",
     "shell.execute_reply": "2023-05-15T06:58:22.265648Z",
     "shell.execute_reply.started": "2021-12-14T04:41:18.601301Z"
    },
    "papermill": {
     "duration": 0.201241,
     "end_time": "2023-05-15T06:58:22.265903",
     "exception": false,
     "start_time": "2023-05-15T06:58:22.064662",
     "status": "completed"
    },
    "tags": []
   },
   "outputs": [],
   "source": [
    "##Inverse Document Frequency"
   ]
  },
  {
   "cell_type": "code",
   "execution_count": 98,
   "id": "b87bb41c",
   "metadata": {
    "execution": {
     "iopub.execute_input": "2023-05-15T06:58:22.653158Z",
     "iopub.status.busy": "2023-05-15T06:58:22.652103Z",
     "iopub.status.idle": "2023-05-15T06:58:22.655701Z",
     "shell.execute_reply": "2023-05-15T06:58:22.656282Z",
     "shell.execute_reply.started": "2021-12-14T04:41:18.612558Z"
    },
    "papermill": {
     "duration": 0.196766,
     "end_time": "2023-05-15T06:58:22.656459",
     "exception": false,
     "start_time": "2023-05-15T06:58:22.459693",
     "status": "completed"
    },
    "tags": []
   },
   "outputs": [],
   "source": [
    "#idf = log((1+N)/(n+1)) + 1 used in sklearn when smooth_idf = True\n",
    "#where, N is the total number of rows and n is the number of rows in which the word was present."
   ]
  },
  {
   "cell_type": "code",
   "execution_count": 99,
   "id": "ef401a02",
   "metadata": {
    "execution": {
     "iopub.execute_input": "2023-05-15T06:58:23.038947Z",
     "iopub.status.busy": "2023-05-15T06:58:23.037836Z",
     "iopub.status.idle": "2023-05-15T06:58:23.042181Z",
     "shell.execute_reply": "2023-05-15T06:58:23.042722Z",
     "shell.execute_reply.started": "2021-12-14T04:41:18.623440Z"
    },
    "papermill": {
     "duration": 0.197559,
     "end_time": "2023-05-15T06:58:23.042926",
     "exception": false,
     "start_time": "2023-05-15T06:58:22.845367",
     "status": "completed"
    },
    "tags": []
   },
   "outputs": [],
   "source": [
    "import numpy as np"
   ]
  },
  {
   "cell_type": "code",
   "execution_count": 100,
   "id": "d551d503",
   "metadata": {
    "execution": {
     "iopub.execute_input": "2023-05-15T06:58:23.434076Z",
     "iopub.status.busy": "2023-05-15T06:58:23.433026Z",
     "iopub.status.idle": "2023-05-15T06:58:23.438207Z",
     "shell.execute_reply": "2023-05-15T06:58:23.438810Z",
     "shell.execute_reply.started": "2021-12-14T04:41:18.633897Z"
    },
    "papermill": {
     "duration": 0.203238,
     "end_time": "2023-05-15T06:58:23.438999",
     "exception": false,
     "start_time": "2023-05-15T06:58:23.235761",
     "status": "completed"
    },
    "tags": []
   },
   "outputs": [],
   "source": [
    "x_df = pd.DataFrame(x, columns=['words'])"
   ]
  },
  {
   "cell_type": "code",
   "execution_count": 101,
   "id": "a6b5873d",
   "metadata": {
    "execution": {
     "iopub.execute_input": "2023-05-15T06:58:23.823180Z",
     "iopub.status.busy": "2023-05-15T06:58:23.822150Z",
     "iopub.status.idle": "2023-05-15T06:58:23.831341Z",
     "shell.execute_reply": "2023-05-15T06:58:23.831874Z",
     "shell.execute_reply.started": "2021-12-14T04:41:18.647266Z"
    },
    "papermill": {
     "duration": 0.202648,
     "end_time": "2023-05-15T06:58:23.832062",
     "exception": false,
     "start_time": "2023-05-15T06:58:23.629414",
     "status": "completed"
    },
    "tags": []
   },
   "outputs": [
    {
     "data": {
      "text/html": [
       "<div>\n",
       "<style scoped>\n",
       "    .dataframe tbody tr th:only-of-type {\n",
       "        vertical-align: middle;\n",
       "    }\n",
       "\n",
       "    .dataframe tbody tr th {\n",
       "        vertical-align: top;\n",
       "    }\n",
       "\n",
       "    .dataframe thead th {\n",
       "        text-align: right;\n",
       "    }\n",
       "</style>\n",
       "<table border=\"1\" class=\"dataframe\">\n",
       "  <thead>\n",
       "    <tr style=\"text-align: right;\">\n",
       "      <th></th>\n",
       "      <th>words</th>\n",
       "    </tr>\n",
       "  </thead>\n",
       "  <tbody>\n",
       "    <tr>\n",
       "      <th>0</th>\n",
       "      <td>This is first sentence this is</td>\n",
       "    </tr>\n",
       "    <tr>\n",
       "      <th>1</th>\n",
       "      <td>This is second</td>\n",
       "    </tr>\n",
       "    <tr>\n",
       "      <th>2</th>\n",
       "      <td>This is last</td>\n",
       "    </tr>\n",
       "  </tbody>\n",
       "</table>\n",
       "</div>"
      ],
      "text/plain": [
       "                            words\n",
       "0  This is first sentence this is\n",
       "1                  This is second\n",
       "2                    This is last"
      ]
     },
     "execution_count": 101,
     "metadata": {},
     "output_type": "execute_result"
    }
   ],
   "source": [
    "x_df"
   ]
  },
  {
   "cell_type": "code",
   "execution_count": 102,
   "id": "360ff154",
   "metadata": {
    "execution": {
     "iopub.execute_input": "2023-05-15T06:58:24.218215Z",
     "iopub.status.busy": "2023-05-15T06:58:24.217136Z",
     "iopub.status.idle": "2023-05-15T06:58:24.228462Z",
     "shell.execute_reply": "2023-05-15T06:58:24.229052Z",
     "shell.execute_reply.started": "2021-12-14T04:41:18.662080Z"
    },
    "papermill": {
     "duration": 0.207316,
     "end_time": "2023-05-15T06:58:24.229242",
     "exception": false,
     "start_time": "2023-05-15T06:58:24.021926",
     "status": "completed"
    },
    "tags": []
   },
   "outputs": [
    {
     "data": {
      "text/html": [
       "<div>\n",
       "<style scoped>\n",
       "    .dataframe tbody tr th:only-of-type {\n",
       "        vertical-align: middle;\n",
       "    }\n",
       "\n",
       "    .dataframe tbody tr th {\n",
       "        vertical-align: top;\n",
       "    }\n",
       "\n",
       "    .dataframe thead th {\n",
       "        text-align: right;\n",
       "    }\n",
       "</style>\n",
       "<table border=\"1\" class=\"dataframe\">\n",
       "  <thead>\n",
       "    <tr style=\"text-align: right;\">\n",
       "      <th></th>\n",
       "      <th>first</th>\n",
       "      <th>is</th>\n",
       "      <th>last</th>\n",
       "      <th>second</th>\n",
       "      <th>sentence</th>\n",
       "      <th>this</th>\n",
       "    </tr>\n",
       "  </thead>\n",
       "  <tbody>\n",
       "    <tr>\n",
       "      <th>0</th>\n",
       "      <td>1</td>\n",
       "      <td>2</td>\n",
       "      <td>0</td>\n",
       "      <td>0</td>\n",
       "      <td>1</td>\n",
       "      <td>2</td>\n",
       "    </tr>\n",
       "    <tr>\n",
       "      <th>1</th>\n",
       "      <td>0</td>\n",
       "      <td>1</td>\n",
       "      <td>0</td>\n",
       "      <td>1</td>\n",
       "      <td>0</td>\n",
       "      <td>1</td>\n",
       "    </tr>\n",
       "    <tr>\n",
       "      <th>2</th>\n",
       "      <td>0</td>\n",
       "      <td>1</td>\n",
       "      <td>1</td>\n",
       "      <td>0</td>\n",
       "      <td>0</td>\n",
       "      <td>1</td>\n",
       "    </tr>\n",
       "  </tbody>\n",
       "</table>\n",
       "</div>"
      ],
      "text/plain": [
       "   first  is  last  second  sentence  this\n",
       "0      1   2     0       0         1     2\n",
       "1      0   1     0       1         0     1\n",
       "2      0   1     1       0         0     1"
      ]
     },
     "execution_count": 102,
     "metadata": {},
     "output_type": "execute_result"
    }
   ],
   "source": [
    "bow"
   ]
  },
  {
   "cell_type": "code",
   "execution_count": 103,
   "id": "baf87cc7",
   "metadata": {
    "execution": {
     "iopub.execute_input": "2023-05-15T06:58:24.618031Z",
     "iopub.status.busy": "2023-05-15T06:58:24.616968Z",
     "iopub.status.idle": "2023-05-15T06:58:24.623269Z",
     "shell.execute_reply": "2023-05-15T06:58:24.623945Z",
     "shell.execute_reply.started": "2021-12-14T04:41:18.674680Z"
    },
    "papermill": {
     "duration": 0.200446,
     "end_time": "2023-05-15T06:58:24.624132",
     "exception": false,
     "start_time": "2023-05-15T06:58:24.423686",
     "status": "completed"
    },
    "tags": []
   },
   "outputs": [
    {
     "data": {
      "text/plain": [
       "3"
      ]
     },
     "execution_count": 103,
     "metadata": {},
     "output_type": "execute_result"
    }
   ],
   "source": [
    "N=bow.shape[0]\n",
    "N"
   ]
  },
  {
   "cell_type": "code",
   "execution_count": 104,
   "id": "fb49182b",
   "metadata": {
    "execution": {
     "iopub.execute_input": "2023-05-15T06:58:25.008894Z",
     "iopub.status.busy": "2023-05-15T06:58:25.008057Z",
     "iopub.status.idle": "2023-05-15T06:58:25.022564Z",
     "shell.execute_reply": "2023-05-15T06:58:25.021706Z",
     "shell.execute_reply.started": "2021-12-14T04:41:18.687668Z"
    },
    "papermill": {
     "duration": 0.207984,
     "end_time": "2023-05-15T06:58:25.022761",
     "exception": false,
     "start_time": "2023-05-15T06:58:24.814777",
     "status": "completed"
    },
    "tags": []
   },
   "outputs": [
    {
     "data": {
      "text/html": [
       "<div>\n",
       "<style scoped>\n",
       "    .dataframe tbody tr th:only-of-type {\n",
       "        vertical-align: middle;\n",
       "    }\n",
       "\n",
       "    .dataframe tbody tr th {\n",
       "        vertical-align: top;\n",
       "    }\n",
       "\n",
       "    .dataframe thead th {\n",
       "        text-align: right;\n",
       "    }\n",
       "</style>\n",
       "<table border=\"1\" class=\"dataframe\">\n",
       "  <thead>\n",
       "    <tr style=\"text-align: right;\">\n",
       "      <th></th>\n",
       "      <th>first</th>\n",
       "      <th>is</th>\n",
       "      <th>last</th>\n",
       "      <th>second</th>\n",
       "      <th>sentence</th>\n",
       "      <th>this</th>\n",
       "    </tr>\n",
       "  </thead>\n",
       "  <tbody>\n",
       "    <tr>\n",
       "      <th>0</th>\n",
       "      <td>True</td>\n",
       "      <td>True</td>\n",
       "      <td>False</td>\n",
       "      <td>False</td>\n",
       "      <td>True</td>\n",
       "      <td>True</td>\n",
       "    </tr>\n",
       "    <tr>\n",
       "      <th>1</th>\n",
       "      <td>False</td>\n",
       "      <td>True</td>\n",
       "      <td>False</td>\n",
       "      <td>True</td>\n",
       "      <td>False</td>\n",
       "      <td>True</td>\n",
       "    </tr>\n",
       "    <tr>\n",
       "      <th>2</th>\n",
       "      <td>False</td>\n",
       "      <td>True</td>\n",
       "      <td>True</td>\n",
       "      <td>False</td>\n",
       "      <td>False</td>\n",
       "      <td>True</td>\n",
       "    </tr>\n",
       "  </tbody>\n",
       "</table>\n",
       "</div>"
      ],
      "text/plain": [
       "   first    is   last  second  sentence  this\n",
       "0   True  True  False   False      True  True\n",
       "1  False  True  False    True     False  True\n",
       "2  False  True   True   False     False  True"
      ]
     },
     "execution_count": 104,
     "metadata": {},
     "output_type": "execute_result"
    }
   ],
   "source": [
    "bb = bow.astype('bool')\n",
    "bb     #true for words present in the sentence"
   ]
  },
  {
   "cell_type": "code",
   "execution_count": 105,
   "id": "d672cae0",
   "metadata": {
    "execution": {
     "iopub.execute_input": "2023-05-15T06:58:25.417331Z",
     "iopub.status.busy": "2023-05-15T06:58:25.416603Z",
     "iopub.status.idle": "2023-05-15T06:58:25.419860Z",
     "shell.execute_reply": "2023-05-15T06:58:25.420502Z",
     "shell.execute_reply.started": "2021-12-14T04:41:18.706016Z"
    },
    "papermill": {
     "duration": 0.201594,
     "end_time": "2023-05-15T06:58:25.420693",
     "exception": false,
     "start_time": "2023-05-15T06:58:25.219099",
     "status": "completed"
    },
    "tags": []
   },
   "outputs": [
    {
     "data": {
      "text/plain": [
       "3"
      ]
     },
     "execution_count": 105,
     "metadata": {},
     "output_type": "execute_result"
    }
   ],
   "source": [
    "bb['is'].sum()"
   ]
  },
  {
   "cell_type": "markdown",
   "id": "6c91b0cc",
   "metadata": {
    "papermill": {
     "duration": 0.191266,
     "end_time": "2023-05-15T06:58:25.803165",
     "exception": false,
     "start_time": "2023-05-15T06:58:25.611899",
     "status": "completed"
    },
    "tags": []
   },
   "source": []
  },
  {
   "cell_type": "code",
   "execution_count": 106,
   "id": "2ddbe609",
   "metadata": {
    "execution": {
     "iopub.execute_input": "2023-05-15T06:58:26.190346Z",
     "iopub.status.busy": "2023-05-15T06:58:26.189597Z",
     "iopub.status.idle": "2023-05-15T06:58:26.195751Z",
     "shell.execute_reply": "2023-05-15T06:58:26.196436Z",
     "shell.execute_reply.started": "2021-12-14T04:41:18.714496Z"
    },
    "papermill": {
     "duration": 0.20161,
     "end_time": "2023-05-15T06:58:26.196640",
     "exception": false,
     "start_time": "2023-05-15T06:58:25.995030",
     "status": "completed"
    },
    "tags": []
   },
   "outputs": [
    {
     "data": {
      "text/plain": [
       "Index(['first', 'is', 'last', 'second', 'sentence', 'this'], dtype='object')"
      ]
     },
     "execution_count": 106,
     "metadata": {},
     "output_type": "execute_result"
    }
   ],
   "source": [
    "cols = bb.columns\n",
    "cols"
   ]
  },
  {
   "cell_type": "code",
   "execution_count": 107,
   "id": "bfc14bd8",
   "metadata": {
    "execution": {
     "iopub.execute_input": "2023-05-15T06:58:26.590348Z",
     "iopub.status.busy": "2023-05-15T06:58:26.589547Z",
     "iopub.status.idle": "2023-05-15T06:58:26.594903Z",
     "shell.execute_reply": "2023-05-15T06:58:26.595458Z",
     "shell.execute_reply.started": "2021-12-14T04:41:18.727910Z"
    },
    "papermill": {
     "duration": 0.202131,
     "end_time": "2023-05-15T06:58:26.595640",
     "exception": false,
     "start_time": "2023-05-15T06:58:26.393509",
     "status": "completed"
    },
    "tags": []
   },
   "outputs": [],
   "source": [
    "nz=[]\n",
    "for col in cols:\n",
    "    nz.append(bb[col].sum())"
   ]
  },
  {
   "cell_type": "code",
   "execution_count": 108,
   "id": "61c922bc",
   "metadata": {
    "execution": {
     "iopub.execute_input": "2023-05-15T06:58:26.985392Z",
     "iopub.status.busy": "2023-05-15T06:58:26.984646Z",
     "iopub.status.idle": "2023-05-15T06:58:26.990048Z",
     "shell.execute_reply": "2023-05-15T06:58:26.990651Z",
     "shell.execute_reply.started": "2021-12-14T04:41:18.738485Z"
    },
    "papermill": {
     "duration": 0.203059,
     "end_time": "2023-05-15T06:58:26.990851",
     "exception": false,
     "start_time": "2023-05-15T06:58:26.787792",
     "status": "completed"
    },
    "tags": []
   },
   "outputs": [
    {
     "data": {
      "text/plain": [
       "[1, 3, 1, 1, 1, 3]"
      ]
     },
     "execution_count": 108,
     "metadata": {},
     "output_type": "execute_result"
    }
   ],
   "source": [
    "nz"
   ]
  },
  {
   "cell_type": "code",
   "execution_count": 109,
   "id": "8bd57710",
   "metadata": {
    "execution": {
     "iopub.execute_input": "2023-05-15T06:58:27.384587Z",
     "iopub.status.busy": "2023-05-15T06:58:27.383862Z",
     "iopub.status.idle": "2023-05-15T06:58:27.388505Z",
     "shell.execute_reply": "2023-05-15T06:58:27.389084Z",
     "shell.execute_reply.started": "2021-12-14T04:41:18.751621Z"
    },
    "papermill": {
     "duration": 0.201192,
     "end_time": "2023-05-15T06:58:27.389267",
     "exception": false,
     "start_time": "2023-05-15T06:58:27.188075",
     "status": "completed"
    },
    "tags": []
   },
   "outputs": [],
   "source": [
    "idf = []\n",
    "for index, col in enumerate(cols):\n",
    "    idf.append(np.log((N+1)/(nz[index] + 1)) + 1)"
   ]
  },
  {
   "cell_type": "code",
   "execution_count": 110,
   "id": "0dfefbc0",
   "metadata": {
    "execution": {
     "iopub.execute_input": "2023-05-15T06:58:27.779508Z",
     "iopub.status.busy": "2023-05-15T06:58:27.778767Z",
     "iopub.status.idle": "2023-05-15T06:58:27.783885Z",
     "shell.execute_reply": "2023-05-15T06:58:27.784532Z",
     "shell.execute_reply.started": "2021-12-14T04:41:18.763705Z"
    },
    "papermill": {
     "duration": 0.201656,
     "end_time": "2023-05-15T06:58:27.784745",
     "exception": false,
     "start_time": "2023-05-15T06:58:27.583089",
     "status": "completed"
    },
    "tags": []
   },
   "outputs": [
    {
     "data": {
      "text/plain": [
       "[1.6931471805599454,\n",
       " 1.0,\n",
       " 1.6931471805599454,\n",
       " 1.6931471805599454,\n",
       " 1.6931471805599454,\n",
       " 1.0]"
      ]
     },
     "execution_count": 110,
     "metadata": {},
     "output_type": "execute_result"
    }
   ],
   "source": [
    "idf"
   ]
  },
  {
   "cell_type": "code",
   "execution_count": 111,
   "id": "4741af28",
   "metadata": {
    "execution": {
     "iopub.execute_input": "2023-05-15T06:58:28.179298Z",
     "iopub.status.busy": "2023-05-15T06:58:28.178516Z",
     "iopub.status.idle": "2023-05-15T06:58:28.189073Z",
     "shell.execute_reply": "2023-05-15T06:58:28.189671Z",
     "shell.execute_reply.started": "2021-12-14T04:41:18.777945Z"
    },
    "papermill": {
     "duration": 0.211098,
     "end_time": "2023-05-15T06:58:28.189884",
     "exception": false,
     "start_time": "2023-05-15T06:58:27.978786",
     "status": "completed"
    },
    "tags": []
   },
   "outputs": [
    {
     "data": {
      "text/html": [
       "<div>\n",
       "<style scoped>\n",
       "    .dataframe tbody tr th:only-of-type {\n",
       "        vertical-align: middle;\n",
       "    }\n",
       "\n",
       "    .dataframe tbody tr th {\n",
       "        vertical-align: top;\n",
       "    }\n",
       "\n",
       "    .dataframe thead th {\n",
       "        text-align: right;\n",
       "    }\n",
       "</style>\n",
       "<table border=\"1\" class=\"dataframe\">\n",
       "  <thead>\n",
       "    <tr style=\"text-align: right;\">\n",
       "      <th></th>\n",
       "      <th>first</th>\n",
       "      <th>is</th>\n",
       "      <th>last</th>\n",
       "      <th>second</th>\n",
       "      <th>sentence</th>\n",
       "      <th>this</th>\n",
       "    </tr>\n",
       "  </thead>\n",
       "  <tbody>\n",
       "    <tr>\n",
       "      <th>0</th>\n",
       "      <td>1</td>\n",
       "      <td>2</td>\n",
       "      <td>0</td>\n",
       "      <td>0</td>\n",
       "      <td>1</td>\n",
       "      <td>2</td>\n",
       "    </tr>\n",
       "    <tr>\n",
       "      <th>1</th>\n",
       "      <td>0</td>\n",
       "      <td>1</td>\n",
       "      <td>0</td>\n",
       "      <td>1</td>\n",
       "      <td>0</td>\n",
       "      <td>1</td>\n",
       "    </tr>\n",
       "    <tr>\n",
       "      <th>2</th>\n",
       "      <td>0</td>\n",
       "      <td>1</td>\n",
       "      <td>1</td>\n",
       "      <td>0</td>\n",
       "      <td>0</td>\n",
       "      <td>1</td>\n",
       "    </tr>\n",
       "  </tbody>\n",
       "</table>\n",
       "</div>"
      ],
      "text/plain": [
       "   first  is  last  second  sentence  this\n",
       "0      1   2     0       0         1     2\n",
       "1      0   1     0       1         0     1\n",
       "2      0   1     1       0         0     1"
      ]
     },
     "execution_count": 111,
     "metadata": {},
     "output_type": "execute_result"
    }
   ],
   "source": [
    "bow"
   ]
  },
  {
   "cell_type": "code",
   "execution_count": 112,
   "id": "afe0c161",
   "metadata": {
    "execution": {
     "iopub.execute_input": "2023-05-15T06:58:28.585025Z",
     "iopub.status.busy": "2023-05-15T06:58:28.584298Z",
     "iopub.status.idle": "2023-05-15T06:58:28.587775Z",
     "shell.execute_reply": "2023-05-15T06:58:28.588462Z",
     "shell.execute_reply.started": "2021-12-14T04:41:18.797363Z"
    },
    "papermill": {
     "duration": 0.202509,
     "end_time": "2023-05-15T06:58:28.588657",
     "exception": false,
     "start_time": "2023-05-15T06:58:28.386148",
     "status": "completed"
    },
    "tags": []
   },
   "outputs": [],
   "source": [
    "## TF-IDf"
   ]
  },
  {
   "cell_type": "code",
   "execution_count": 113,
   "id": "e271fafb",
   "metadata": {
    "execution": {
     "iopub.execute_input": "2023-05-15T06:58:28.984640Z",
     "iopub.status.busy": "2023-05-15T06:58:28.982283Z",
     "iopub.status.idle": "2023-05-15T06:58:28.987597Z",
     "shell.execute_reply": "2023-05-15T06:58:28.986952Z",
     "shell.execute_reply.started": "2021-12-14T04:41:18.803343Z"
    },
    "papermill": {
     "duration": 0.203357,
     "end_time": "2023-05-15T06:58:28.987766",
     "exception": false,
     "start_time": "2023-05-15T06:58:28.784409",
     "status": "completed"
    },
    "tags": []
   },
   "outputs": [],
   "source": [
    "from sklearn.feature_extraction.text import TfidfVectorizer"
   ]
  },
  {
   "cell_type": "code",
   "execution_count": 114,
   "id": "9a2d100f",
   "metadata": {
    "execution": {
     "iopub.execute_input": "2023-05-15T06:58:29.393697Z",
     "iopub.status.busy": "2023-05-15T06:58:29.392536Z",
     "iopub.status.idle": "2023-05-15T06:58:29.395903Z",
     "shell.execute_reply": "2023-05-15T06:58:29.395299Z",
     "shell.execute_reply.started": "2021-12-14T04:41:18.814839Z"
    },
    "papermill": {
     "duration": 0.211136,
     "end_time": "2023-05-15T06:58:29.396082",
     "exception": false,
     "start_time": "2023-05-15T06:58:29.184946",
     "status": "completed"
    },
    "tags": []
   },
   "outputs": [],
   "source": [
    "tfidf = TfidfVectorizer()\n",
    "x_tfidf = tfidf.fit_transform(x_df['words'])"
   ]
  },
  {
   "cell_type": "code",
   "execution_count": 115,
   "id": "5d6bca93",
   "metadata": {
    "execution": {
     "iopub.execute_input": "2023-05-15T06:58:29.796530Z",
     "iopub.status.busy": "2023-05-15T06:58:29.795618Z",
     "iopub.status.idle": "2023-05-15T06:58:29.799159Z",
     "shell.execute_reply": "2023-05-15T06:58:29.799755Z",
     "shell.execute_reply.started": "2021-12-14T04:41:18.834713Z"
    },
    "papermill": {
     "duration": 0.205502,
     "end_time": "2023-05-15T06:58:29.799949",
     "exception": false,
     "start_time": "2023-05-15T06:58:29.594447",
     "status": "completed"
    },
    "tags": []
   },
   "outputs": [
    {
     "data": {
      "text/plain": [
       "array([[0.45688214, 0.5396839 , 0.        , 0.        , 0.45688214,\n",
       "        0.5396839 ],\n",
       "       [0.        , 0.45329466, 0.        , 0.76749457, 0.        ,\n",
       "        0.45329466],\n",
       "       [0.        , 0.45329466, 0.76749457, 0.        , 0.        ,\n",
       "        0.45329466]])"
      ]
     },
     "execution_count": 115,
     "metadata": {},
     "output_type": "execute_result"
    }
   ],
   "source": [
    "x_tfidf.toarray()"
   ]
  },
  {
   "cell_type": "code",
   "execution_count": 116,
   "id": "efcf22bd",
   "metadata": {
    "execution": {
     "iopub.execute_input": "2023-05-15T06:58:30.190825Z",
     "iopub.status.busy": "2023-05-15T06:58:30.189958Z",
     "iopub.status.idle": "2023-05-15T06:58:30.196184Z",
     "shell.execute_reply": "2023-05-15T06:58:30.196731Z",
     "shell.execute_reply.started": "2021-12-14T04:41:18.844409Z"
    },
    "papermill": {
     "duration": 0.203647,
     "end_time": "2023-05-15T06:58:30.196931",
     "exception": false,
     "start_time": "2023-05-15T06:58:29.993284",
     "status": "completed"
    },
    "tags": []
   },
   "outputs": [
    {
     "data": {
      "text/plain": [
       "array([1.69314718, 1.        , 1.69314718, 1.69314718, 1.69314718,\n",
       "       1.        ])"
      ]
     },
     "execution_count": 116,
     "metadata": {},
     "output_type": "execute_result"
    }
   ],
   "source": [
    "tfidf.idf_"
   ]
  },
  {
   "cell_type": "code",
   "execution_count": 117,
   "id": "3ccd59ee",
   "metadata": {
    "execution": {
     "iopub.execute_input": "2023-05-15T06:58:30.615980Z",
     "iopub.status.busy": "2023-05-15T06:58:30.615133Z",
     "iopub.status.idle": "2023-05-15T06:58:30.621856Z",
     "shell.execute_reply": "2023-05-15T06:58:30.622532Z",
     "shell.execute_reply.started": "2021-12-14T04:41:18.855008Z"
    },
    "papermill": {
     "duration": 0.211234,
     "end_time": "2023-05-15T06:58:30.622746",
     "exception": false,
     "start_time": "2023-05-15T06:58:30.411512",
     "status": "completed"
    },
    "tags": []
   },
   "outputs": [
    {
     "data": {
      "text/plain": [
       "[1.6931471805599454,\n",
       " 1.0,\n",
       " 1.6931471805599454,\n",
       " 1.6931471805599454,\n",
       " 1.6931471805599454,\n",
       " 1.0]"
      ]
     },
     "execution_count": 117,
     "metadata": {},
     "output_type": "execute_result"
    }
   ],
   "source": [
    "idf"
   ]
  },
  {
   "cell_type": "code",
   "execution_count": 118,
   "id": "7a4ff4d0",
   "metadata": {
    "execution": {
     "iopub.execute_input": "2023-05-15T06:58:31.024909Z",
     "iopub.status.busy": "2023-05-15T06:58:31.023779Z",
     "iopub.status.idle": "2023-05-15T06:58:31.029291Z",
     "shell.execute_reply": "2023-05-15T06:58:31.030111Z",
     "shell.execute_reply.started": "2021-12-14T04:41:18.867690Z"
    },
    "papermill": {
     "duration": 0.208439,
     "end_time": "2023-05-15T06:58:31.030307",
     "exception": false,
     "start_time": "2023-05-15T06:58:30.821868",
     "status": "completed"
    },
    "tags": []
   },
   "outputs": [],
   "source": [
    "##Word Embeddings"
   ]
  },
  {
   "cell_type": "markdown",
   "id": "8f10d9e4",
   "metadata": {
    "papermill": {
     "duration": 0.196024,
     "end_time": "2023-05-15T06:58:31.423971",
     "exception": false,
     "start_time": "2023-05-15T06:58:31.227947",
     "status": "completed"
    },
    "tags": []
   },
   "source": [
    "SpaCy Word2Vec"
   ]
  },
  {
   "cell_type": "code",
   "execution_count": 119,
   "id": "6fdafa35",
   "metadata": {
    "execution": {
     "iopub.execute_input": "2023-05-15T06:58:31.824997Z",
     "iopub.status.busy": "2023-05-15T06:58:31.823788Z",
     "iopub.status.idle": "2023-05-15T06:59:20.205520Z",
     "shell.execute_reply": "2023-05-15T06:59:20.204749Z",
     "shell.execute_reply.started": "2021-12-14T04:41:18.877224Z"
    },
    "papermill": {
     "duration": 48.585322,
     "end_time": "2023-05-15T06:59:20.205709",
     "exception": false,
     "start_time": "2023-05-15T06:58:31.620387",
     "status": "completed"
    },
    "tags": []
   },
   "outputs": [
    {
     "name": "stdout",
     "output_type": "stream",
     "text": [
      "Collecting en_core_web_lg==2.3.1\r\n",
      "  Downloading https://github.com/explosion/spacy-models/releases/download/en_core_web_lg-2.3.1/en_core_web_lg-2.3.1.tar.gz (782.7 MB)\r\n",
      "\u001b[K     |████████████████████████████████| 782.7 MB 5.3 kB/s \r\n",
      "\u001b[?25hRequirement already satisfied: spacy<2.4.0,>=2.3.0 in /opt/conda/lib/python3.7/site-packages (from en_core_web_lg==2.3.1) (2.3.7)\r\n",
      "Requirement already satisfied: requests<3.0.0,>=2.13.0 in /opt/conda/lib/python3.7/site-packages (from spacy<2.4.0,>=2.3.0->en_core_web_lg==2.3.1) (2.25.1)\r\n",
      "Requirement already satisfied: numpy>=1.15.0 in /opt/conda/lib/python3.7/site-packages (from spacy<2.4.0,>=2.3.0->en_core_web_lg==2.3.1) (1.19.5)\r\n",
      "Requirement already satisfied: preshed<3.1.0,>=3.0.2 in /opt/conda/lib/python3.7/site-packages (from spacy<2.4.0,>=2.3.0->en_core_web_lg==2.3.1) (3.0.5)\r\n",
      "Requirement already satisfied: tqdm<5.0.0,>=4.38.0 in /opt/conda/lib/python3.7/site-packages (from spacy<2.4.0,>=2.3.0->en_core_web_lg==2.3.1) (4.61.1)\r\n",
      "Requirement already satisfied: catalogue<1.1.0,>=0.0.7 in /opt/conda/lib/python3.7/site-packages (from spacy<2.4.0,>=2.3.0->en_core_web_lg==2.3.1) (1.0.0)\r\n",
      "Requirement already satisfied: setuptools in /opt/conda/lib/python3.7/site-packages (from spacy<2.4.0,>=2.3.0->en_core_web_lg==2.3.1) (49.6.0.post20210108)\r\n",
      "Requirement already satisfied: plac<1.2.0,>=0.9.6 in /opt/conda/lib/python3.7/site-packages (from spacy<2.4.0,>=2.3.0->en_core_web_lg==2.3.1) (1.1.3)\r\n",
      "Requirement already satisfied: wasabi<1.1.0,>=0.4.0 in /opt/conda/lib/python3.7/site-packages (from spacy<2.4.0,>=2.3.0->en_core_web_lg==2.3.1) (0.8.2)\r\n",
      "Requirement already satisfied: srsly<1.1.0,>=1.0.2 in /opt/conda/lib/python3.7/site-packages (from spacy<2.4.0,>=2.3.0->en_core_web_lg==2.3.1) (1.0.5)\r\n",
      "Requirement already satisfied: blis<0.8.0,>=0.4.0 in /opt/conda/lib/python3.7/site-packages (from spacy<2.4.0,>=2.3.0->en_core_web_lg==2.3.1) (0.7.4)\r\n",
      "Requirement already satisfied: murmurhash<1.1.0,>=0.28.0 in /opt/conda/lib/python3.7/site-packages (from spacy<2.4.0,>=2.3.0->en_core_web_lg==2.3.1) (1.0.5)\r\n",
      "Requirement already satisfied: thinc<7.5.0,>=7.4.1 in /opt/conda/lib/python3.7/site-packages (from spacy<2.4.0,>=2.3.0->en_core_web_lg==2.3.1) (7.4.5)\r\n",
      "Requirement already satisfied: cymem<2.1.0,>=2.0.2 in /opt/conda/lib/python3.7/site-packages (from spacy<2.4.0,>=2.3.0->en_core_web_lg==2.3.1) (2.0.5)\r\n",
      "Requirement already satisfied: importlib-metadata>=0.20 in /opt/conda/lib/python3.7/site-packages (from catalogue<1.1.0,>=0.0.7->spacy<2.4.0,>=2.3.0->en_core_web_lg==2.3.1) (3.4.0)\r\n",
      "Requirement already satisfied: typing-extensions>=3.6.4 in /opt/conda/lib/python3.7/site-packages (from importlib-metadata>=0.20->catalogue<1.1.0,>=0.0.7->spacy<2.4.0,>=2.3.0->en_core_web_lg==2.3.1) (3.7.4.3)\r\n",
      "Requirement already satisfied: zipp>=0.5 in /opt/conda/lib/python3.7/site-packages (from importlib-metadata>=0.20->catalogue<1.1.0,>=0.0.7->spacy<2.4.0,>=2.3.0->en_core_web_lg==2.3.1) (3.4.1)\r\n",
      "Requirement already satisfied: certifi>=2017.4.17 in /opt/conda/lib/python3.7/site-packages (from requests<3.0.0,>=2.13.0->spacy<2.4.0,>=2.3.0->en_core_web_lg==2.3.1) (2021.5.30)\r\n",
      "Requirement already satisfied: chardet<5,>=3.0.2 in /opt/conda/lib/python3.7/site-packages (from requests<3.0.0,>=2.13.0->spacy<2.4.0,>=2.3.0->en_core_web_lg==2.3.1) (4.0.0)\r\n",
      "Requirement already satisfied: urllib3<1.27,>=1.21.1 in /opt/conda/lib/python3.7/site-packages (from requests<3.0.0,>=2.13.0->spacy<2.4.0,>=2.3.0->en_core_web_lg==2.3.1) (1.26.5)\r\n",
      "Requirement already satisfied: idna<3,>=2.5 in /opt/conda/lib/python3.7/site-packages (from requests<3.0.0,>=2.13.0->spacy<2.4.0,>=2.3.0->en_core_web_lg==2.3.1) (2.10)\r\n",
      "\u001b[33mWARNING: Running pip as root will break packages and permissions. You should install packages reliably by using venv: https://pip.pypa.io/warnings/venv\u001b[0m\r\n",
      "\u001b[38;5;2m✔ Download and installation successful\u001b[0m\r\n",
      "You can now load the model via spacy.load('en_core_web_lg')\r\n"
     ]
    }
   ],
   "source": [
    "!python -m spacy download en_core_web_lg"
   ]
  },
  {
   "cell_type": "code",
   "execution_count": 120,
   "id": "9aa14d0e",
   "metadata": {
    "execution": {
     "iopub.execute_input": "2023-05-15T06:59:21.257260Z",
     "iopub.status.busy": "2023-05-15T06:59:21.256462Z",
     "iopub.status.idle": "2023-05-15T06:59:30.747559Z",
     "shell.execute_reply": "2023-05-15T06:59:30.746934Z",
     "shell.execute_reply.started": "2021-12-14T04:42:07.975004Z"
    },
    "papermill": {
     "duration": 10.015157,
     "end_time": "2023-05-15T06:59:30.747756",
     "exception": false,
     "start_time": "2023-05-15T06:59:20.732599",
     "status": "completed"
    },
    "tags": []
   },
   "outputs": [],
   "source": [
    "nlp = spacy.load('en_core_web_lg')"
   ]
  },
  {
   "cell_type": "code",
   "execution_count": 121,
   "id": "b136f185",
   "metadata": {
    "execution": {
     "iopub.execute_input": "2023-05-15T06:59:31.787244Z",
     "iopub.status.busy": "2023-05-15T06:59:31.783006Z",
     "iopub.status.idle": "2023-05-15T06:59:31.800923Z",
     "shell.execute_reply": "2023-05-15T06:59:31.801651Z",
     "shell.execute_reply.started": "2021-12-14T04:42:17.469724Z"
    },
    "papermill": {
     "duration": 0.539658,
     "end_time": "2023-05-15T06:59:31.801878",
     "exception": false,
     "start_time": "2023-05-15T06:59:31.262220",
     "status": "completed"
    },
    "tags": []
   },
   "outputs": [],
   "source": [
    "doc = nlp('thank you! welcome. dog cat lion')"
   ]
  },
  {
   "cell_type": "code",
   "execution_count": 122,
   "id": "263dc1d3",
   "metadata": {
    "execution": {
     "iopub.execute_input": "2023-05-15T06:59:32.827667Z",
     "iopub.status.busy": "2023-05-15T06:59:32.824840Z",
     "iopub.status.idle": "2023-05-15T06:59:32.832976Z",
     "shell.execute_reply": "2023-05-15T06:59:32.833602Z",
     "shell.execute_reply.started": "2021-12-14T04:42:17.491931Z"
    },
    "papermill": {
     "duration": 0.517924,
     "end_time": "2023-05-15T06:59:32.833817",
     "exception": false,
     "start_time": "2023-05-15T06:59:32.315893",
     "status": "completed"
    },
    "tags": []
   },
   "outputs": [
    {
     "name": "stdout",
     "output_type": "stream",
     "text": [
      "thank True\n",
      "you True\n",
      "! True\n",
      "welcome True\n",
      ". True\n",
      "dog True\n",
      "cat True\n",
      "lion True\n"
     ]
    }
   ],
   "source": [
    "for token in doc:\n",
    "    print(token.text, token.has_vector)"
   ]
  },
  {
   "cell_type": "code",
   "execution_count": 123,
   "id": "0086d6b1",
   "metadata": {
    "execution": {
     "iopub.execute_input": "2023-05-15T06:59:33.862763Z",
     "iopub.status.busy": "2023-05-15T06:59:33.861421Z",
     "iopub.status.idle": "2023-05-15T06:59:33.866582Z",
     "shell.execute_reply": "2023-05-15T06:59:33.867225Z",
     "shell.execute_reply.started": "2021-12-14T04:42:17.501217Z"
    },
    "papermill": {
     "duration": 0.522619,
     "end_time": "2023-05-15T06:59:33.867411",
     "exception": false,
     "start_time": "2023-05-15T06:59:33.344792",
     "status": "completed"
    },
    "tags": []
   },
   "outputs": [
    {
     "data": {
      "text/plain": [
       "(300,)"
      ]
     },
     "execution_count": 123,
     "metadata": {},
     "output_type": "execute_result"
    }
   ],
   "source": [
    "token.vector.shape"
   ]
  },
  {
   "cell_type": "code",
   "execution_count": 124,
   "id": "3296f15c",
   "metadata": {
    "execution": {
     "iopub.execute_input": "2023-05-15T06:59:34.883155Z",
     "iopub.status.busy": "2023-05-15T06:59:34.882381Z",
     "iopub.status.idle": "2023-05-15T06:59:34.903616Z",
     "shell.execute_reply": "2023-05-15T06:59:34.904318Z",
     "shell.execute_reply.started": "2021-12-14T04:42:17.518120Z"
    },
    "papermill": {
     "duration": 0.529608,
     "end_time": "2023-05-15T06:59:34.904504",
     "exception": false,
     "start_time": "2023-05-15T06:59:34.374896",
     "status": "completed"
    },
    "tags": []
   },
   "outputs": [
    {
     "data": {
      "text/plain": [
       "array([-0.15067  , -0.024468 , -0.23368  , -0.23378  , -0.18382  ,\n",
       "        0.32711  , -0.22084  , -0.28777  ,  0.12759  ,  1.1656   ,\n",
       "       -0.64163  , -0.098455 , -0.62397  ,  0.010431 , -0.25653  ,\n",
       "        0.31799  ,  0.037779 ,  1.1904   , -0.17714  , -0.2595   ,\n",
       "       -0.31461  ,  0.038825 , -0.15713  , -0.13484  ,  0.36936  ,\n",
       "       -0.30562  , -0.40619  , -0.38965  ,  0.3686   ,  0.013963 ,\n",
       "       -0.6895   ,  0.004066 , -0.1367   ,  0.32564  ,  0.24688  ,\n",
       "       -0.14011  ,  0.53889  , -0.80441  , -0.1777   , -0.12922  ,\n",
       "        0.16303  ,  0.14917  , -0.068429 , -0.33922  ,  0.18495  ,\n",
       "       -0.082544 , -0.46892  ,  0.39581  , -0.13742  , -0.35132  ,\n",
       "        0.22223  , -0.144    , -0.048287 ,  0.3379   , -0.31916  ,\n",
       "        0.20526  ,  0.098624 , -0.23877  ,  0.045338 ,  0.43941  ,\n",
       "        0.030385 , -0.013821 , -0.093273 , -0.18178  ,  0.19438  ,\n",
       "       -0.3782   ,  0.70144  ,  0.16236  ,  0.0059111,  0.024898 ,\n",
       "       -0.13613  , -0.11425  , -0.31598  , -0.14209  ,  0.028194 ,\n",
       "        0.5419   , -0.42413  , -0.599    ,  0.24976  , -0.27003  ,\n",
       "        0.14964  ,  0.29287  , -0.31281  ,  0.16543  , -0.21045  ,\n",
       "       -0.4408   ,  1.2174   ,  0.51236  ,  0.56209  ,  0.14131  ,\n",
       "        0.092514 ,  0.71396  , -0.021051 , -0.33704  , -0.20275  ,\n",
       "       -0.36181  ,  0.22055  , -0.25665  ,  0.28425  , -0.16968  ,\n",
       "        0.058029 ,  0.61182  ,  0.31576  , -0.079185 ,  0.35538  ,\n",
       "       -0.51236  ,  0.4235   , -0.30033  , -0.22376  ,  0.15223  ,\n",
       "       -0.048292 ,  0.23532  ,  0.46507  , -0.67579  , -0.32905  ,\n",
       "        0.08446  , -0.22123  , -0.045333 ,  0.34463  , -0.1455   ,\n",
       "       -0.18047  , -0.17887  ,  0.96879  , -1.0028   , -0.47343  ,\n",
       "        0.28542  ,  0.56382  , -0.33211  , -0.38275  , -0.2749   ,\n",
       "       -0.22955  , -0.24265  , -0.37689  ,  0.24822  ,  0.36941  ,\n",
       "        0.14651  , -0.37864  ,  0.31134  , -0.28449  ,  0.36948  ,\n",
       "       -2.8174   , -0.38319  , -0.022373 ,  0.56376  ,  0.40131  ,\n",
       "       -0.42131  , -0.11311  , -0.17317  ,  0.1411   , -0.13194  ,\n",
       "        0.18494  ,  0.097692 , -0.097341 , -0.23987  ,  0.16631  ,\n",
       "       -0.28556  ,  0.0038654,  0.53292  , -0.32367  , -0.38744  ,\n",
       "        0.27011  , -0.34181  , -0.27702  , -0.67279  , -0.10771  ,\n",
       "       -0.062189 , -0.24783  , -0.070884 , -0.20898  ,  0.062404 ,\n",
       "        0.022372 ,  0.13408  ,  0.1305   , -0.19546  , -0.46849  ,\n",
       "        0.77731  , -0.043978 ,  0.3827   , -0.23376  ,  1.0457   ,\n",
       "       -0.14371  , -0.3565   , -0.080713 , -0.31047  , -0.57822  ,\n",
       "       -0.28067  , -0.069678 ,  0.068929 , -0.16227  , -0.63934  ,\n",
       "       -0.62149  ,  0.11222  , -0.16969  , -0.54637  ,  0.49661  ,\n",
       "        0.46565  ,  0.088294 , -0.48496  ,  0.69263  , -0.068977 ,\n",
       "       -0.53709  ,  0.20802  , -0.42987  , -0.11921  ,  0.1174   ,\n",
       "       -0.18443  ,  0.43797  , -0.1236   ,  0.3607   , -0.19608  ,\n",
       "       -0.35366  ,  0.18808  , -0.5061   ,  0.14455  , -0.024368 ,\n",
       "       -0.10772  , -0.0115   ,  0.58634  , -0.054461 ,  0.0076487,\n",
       "       -0.056297 ,  0.27193  ,  0.23096  , -0.29296  , -0.24325  ,\n",
       "        0.10317  , -0.10014  ,  0.7089   ,  0.17402  , -0.0037509,\n",
       "       -0.46304  ,  0.11806  , -0.16457  , -0.38609  ,  0.14524  ,\n",
       "        0.098122 , -0.12352  , -0.1047   ,  0.39047  , -0.3063   ,\n",
       "       -0.65375  , -0.0044248, -0.033876 ,  0.037114 , -0.27472  ,\n",
       "        0.0053147,  0.30737  ,  0.12528  , -0.19527  , -0.16461  ,\n",
       "        0.087518 , -0.051107 , -0.16323  ,  0.521    ,  0.10822  ,\n",
       "       -0.060379 , -0.71735  , -0.064327 ,  0.37043  , -0.41054  ,\n",
       "       -0.2728   , -0.30217  ,  0.015771 , -0.43056  ,  0.35647  ,\n",
       "        0.17188  , -0.54598  , -0.21541  , -0.044889 , -0.10597  ,\n",
       "       -0.54391  ,  0.53908  ,  0.070938 ,  0.097839 ,  0.097908 ,\n",
       "        0.17805  ,  0.18995  ,  0.49962  , -0.18529  ,  0.051234 ,\n",
       "        0.019574 ,  0.24805  ,  0.3144   , -0.29304  ,  0.54235  ,\n",
       "        0.46672  ,  0.26017  , -0.44705  ,  0.28287  , -0.033345 ,\n",
       "       -0.33181  , -0.10902  , -0.023324 ,  0.2106   , -0.29633  ,\n",
       "        0.81506  ,  0.038524 ,  0.46004  ,  0.17187  , -0.29804  ],\n",
       "      dtype=float32)"
      ]
     },
     "execution_count": 124,
     "metadata": {},
     "output_type": "execute_result"
    }
   ],
   "source": [
    "nlp('cat').vector"
   ]
  },
  {
   "cell_type": "code",
   "execution_count": 125,
   "id": "992d3f4d",
   "metadata": {
    "execution": {
     "iopub.execute_input": "2023-05-15T06:59:35.923873Z",
     "iopub.status.busy": "2023-05-15T06:59:35.923060Z",
     "iopub.status.idle": "2023-05-15T06:59:35.925544Z",
     "shell.execute_reply": "2023-05-15T06:59:35.926164Z",
     "shell.execute_reply.started": "2021-12-14T04:42:17.546139Z"
    },
    "papermill": {
     "duration": 0.515605,
     "end_time": "2023-05-15T06:59:35.926366",
     "exception": false,
     "start_time": "2023-05-15T06:59:35.410761",
     "status": "completed"
    },
    "tags": []
   },
   "outputs": [],
   "source": [
    "#calculating similarity between words using vectors"
   ]
  },
  {
   "cell_type": "code",
   "execution_count": 126,
   "id": "4d928f46",
   "metadata": {
    "execution": {
     "iopub.execute_input": "2023-05-15T06:59:36.963958Z",
     "iopub.status.busy": "2023-05-15T06:59:36.963187Z",
     "iopub.status.idle": "2023-05-15T06:59:37.004904Z",
     "shell.execute_reply": "2023-05-15T06:59:37.004283Z",
     "shell.execute_reply.started": "2021-12-14T04:42:17.552170Z"
    },
    "papermill": {
     "duration": 0.547456,
     "end_time": "2023-05-15T06:59:37.005072",
     "exception": false,
     "start_time": "2023-05-15T06:59:36.457616",
     "status": "completed"
    },
    "tags": []
   },
   "outputs": [
    {
     "name": "stdout",
     "output_type": "stream",
     "text": [
      "thank thank 0.13629763\n",
      "thank you 0.20392053\n",
      "thank ! 0.19601384\n",
      "thank welcome 0.13807522\n",
      "thank . 0.1754697\n",
      "thank dog 0.47424486\n",
      "thank cat 0.5265438\n",
      "thank lion 1.0\n",
      "\n",
      "you thank 0.13629763\n",
      "you you 0.20392053\n",
      "you ! 0.19601384\n",
      "you welcome 0.13807522\n",
      "you . 0.1754697\n",
      "you dog 0.47424486\n",
      "you cat 0.5265438\n",
      "you lion 1.0\n",
      "\n",
      "! thank 0.13629763\n",
      "! you 0.20392053\n",
      "! ! 0.19601384\n",
      "! welcome 0.13807522\n",
      "! . 0.1754697\n",
      "! dog 0.47424486\n",
      "! cat 0.5265438\n",
      "! lion 1.0\n",
      "\n",
      "welcome thank 0.13629763\n",
      "welcome you 0.20392053\n",
      "welcome ! 0.19601384\n",
      "welcome welcome 0.13807522\n",
      "welcome . 0.1754697\n",
      "welcome dog 0.47424486\n",
      "welcome cat 0.5265438\n",
      "welcome lion 1.0\n",
      "\n",
      ". thank 0.13629763\n",
      ". you 0.20392053\n",
      ". ! 0.19601384\n",
      ". welcome 0.13807522\n",
      ". . 0.1754697\n",
      ". dog 0.47424486\n",
      ". cat 0.5265438\n",
      ". lion 1.0\n",
      "\n",
      "dog thank 0.13629763\n",
      "dog you 0.20392053\n",
      "dog ! 0.19601384\n",
      "dog welcome 0.13807522\n",
      "dog . 0.1754697\n",
      "dog dog 0.47424486\n",
      "dog cat 0.5265438\n",
      "dog lion 1.0\n",
      "\n",
      "cat thank 0.13629763\n",
      "cat you 0.20392053\n",
      "cat ! 0.19601384\n",
      "cat welcome 0.13807522\n",
      "cat . 0.1754697\n",
      "cat dog 0.47424486\n",
      "cat cat 0.5265438\n",
      "cat lion 1.0\n",
      "\n",
      "lion thank 0.13629763\n",
      "lion you 0.20392053\n",
      "lion ! 0.19601384\n",
      "lion welcome 0.13807522\n",
      "lion . 0.1754697\n",
      "lion dog 0.47424486\n",
      "lion cat 0.5265438\n",
      "lion lion 1.0\n",
      "\n"
     ]
    }
   ],
   "source": [
    "for token1 in doc:\n",
    "    for token2 in doc:\n",
    "        print(token1.text, token2.text, token.similarity(token2))\n",
    "    print()"
   ]
  },
  {
   "cell_type": "code",
   "execution_count": 127,
   "id": "14c6179e",
   "metadata": {
    "execution": {
     "iopub.execute_input": "2023-05-15T06:59:38.019240Z",
     "iopub.status.busy": "2023-05-15T06:59:38.018497Z",
     "iopub.status.idle": "2023-05-15T06:59:38.022333Z",
     "shell.execute_reply": "2023-05-15T06:59:38.021636Z",
     "shell.execute_reply.started": "2021-12-14T04:42:17.597597Z"
    },
    "papermill": {
     "duration": 0.509233,
     "end_time": "2023-05-15T06:59:38.022483",
     "exception": false,
     "start_time": "2023-05-15T06:59:37.513250",
     "status": "completed"
    },
    "tags": []
   },
   "outputs": [],
   "source": [
    "## ML model for Text Classification  "
   ]
  },
  {
   "cell_type": "code",
   "execution_count": null,
   "id": "8dc98a2a",
   "metadata": {
    "papermill": {
     "duration": 0.512493,
     "end_time": "2023-05-15T06:59:39.033527",
     "exception": false,
     "start_time": "2023-05-15T06:59:38.521034",
     "status": "completed"
    },
    "tags": []
   },
   "outputs": [],
   "source": []
  },
  {
   "cell_type": "code",
   "execution_count": 128,
   "id": "6c70e723",
   "metadata": {
    "execution": {
     "iopub.execute_input": "2023-05-15T06:59:40.064165Z",
     "iopub.status.busy": "2023-05-15T06:59:40.062814Z",
     "iopub.status.idle": "2023-05-15T06:59:40.065734Z",
     "shell.execute_reply": "2023-05-15T06:59:40.066249Z",
     "shell.execute_reply.started": "2021-12-14T04:42:17.603348Z"
    },
    "papermill": {
     "duration": 0.517415,
     "end_time": "2023-05-15T06:59:40.066441",
     "exception": false,
     "start_time": "2023-05-15T06:59:39.549026",
     "status": "completed"
    },
    "tags": []
   },
   "outputs": [],
   "source": [
    "# classifying on this huge dataset is very time taking, therefore train on samples."
   ]
  },
  {
   "cell_type": "code",
   "execution_count": 129,
   "id": "22f6d858",
   "metadata": {
    "execution": {
     "iopub.execute_input": "2023-05-15T06:59:41.084074Z",
     "iopub.status.busy": "2023-05-15T06:59:41.083297Z",
     "iopub.status.idle": "2023-05-15T06:59:41.566016Z",
     "shell.execute_reply": "2023-05-15T06:59:41.566622Z",
     "shell.execute_reply.started": "2021-12-14T04:42:17.615048Z"
    },
    "papermill": {
     "duration": 0.996633,
     "end_time": "2023-05-15T06:59:41.566839",
     "exception": false,
     "start_time": "2023-05-15T06:59:40.570206",
     "status": "completed"
    },
    "tags": []
   },
   "outputs": [],
   "source": [
    "df0 = df[df['sentiment']==0].sample(2000)\n",
    "df4 = df[df['sentiment']==4].sample(2000)"
   ]
  },
  {
   "cell_type": "code",
   "execution_count": 130,
   "id": "2422a13e",
   "metadata": {
    "execution": {
     "iopub.execute_input": "2023-05-15T06:59:42.588191Z",
     "iopub.status.busy": "2023-05-15T06:59:42.587105Z",
     "iopub.status.idle": "2023-05-15T06:59:42.596654Z",
     "shell.execute_reply": "2023-05-15T06:59:42.597298Z",
     "shell.execute_reply.started": "2021-12-14T04:42:18.087830Z"
    },
    "papermill": {
     "duration": 0.525948,
     "end_time": "2023-05-15T06:59:42.597487",
     "exception": false,
     "start_time": "2023-05-15T06:59:42.071539",
     "status": "completed"
    },
    "tags": []
   },
   "outputs": [],
   "source": [
    "dfr = df0.append(df4)"
   ]
  },
  {
   "cell_type": "code",
   "execution_count": 131,
   "id": "51de98f6",
   "metadata": {
    "execution": {
     "iopub.execute_input": "2023-05-15T06:59:43.607607Z",
     "iopub.status.busy": "2023-05-15T06:59:43.606553Z",
     "iopub.status.idle": "2023-05-15T06:59:43.612754Z",
     "shell.execute_reply": "2023-05-15T06:59:43.613439Z",
     "shell.execute_reply.started": "2021-12-14T04:42:18.100978Z"
    },
    "papermill": {
     "duration": 0.516934,
     "end_time": "2023-05-15T06:59:43.613625",
     "exception": false,
     "start_time": "2023-05-15T06:59:43.096691",
     "status": "completed"
    },
    "tags": []
   },
   "outputs": [
    {
     "data": {
      "text/plain": [
       "(4000, 13)"
      ]
     },
     "execution_count": 131,
     "metadata": {},
     "output_type": "execute_result"
    }
   ],
   "source": [
    "dfr.shape"
   ]
  },
  {
   "cell_type": "code",
   "execution_count": 132,
   "id": "2232c8b2",
   "metadata": {
    "execution": {
     "iopub.execute_input": "2023-05-15T06:59:44.632606Z",
     "iopub.status.busy": "2023-05-15T06:59:44.631554Z",
     "iopub.status.idle": "2023-05-15T06:59:44.663071Z",
     "shell.execute_reply": "2023-05-15T06:59:44.663692Z",
     "shell.execute_reply.started": "2021-12-14T04:42:18.111594Z"
    },
    "papermill": {
     "duration": 0.552365,
     "end_time": "2023-05-15T06:59:44.663874",
     "exception": false,
     "start_time": "2023-05-15T06:59:44.111509",
     "status": "completed"
    },
    "tags": []
   },
   "outputs": [
    {
     "data": {
      "text/html": [
       "<div>\n",
       "<style scoped>\n",
       "    .dataframe tbody tr th:only-of-type {\n",
       "        vertical-align: middle;\n",
       "    }\n",
       "\n",
       "    .dataframe tbody tr th {\n",
       "        vertical-align: top;\n",
       "    }\n",
       "\n",
       "    .dataframe thead th {\n",
       "        text-align: right;\n",
       "    }\n",
       "</style>\n",
       "<table border=\"1\" class=\"dataframe\">\n",
       "  <thead>\n",
       "    <tr style=\"text-align: right;\">\n",
       "      <th></th>\n",
       "      <th>twitts</th>\n",
       "      <th>sentiment</th>\n",
       "      <th>word_counts</th>\n",
       "      <th>char_counts</th>\n",
       "      <th>avg_word_len</th>\n",
       "      <th>stop_words_len</th>\n",
       "      <th>hashtags_count</th>\n",
       "      <th>mentions_count</th>\n",
       "      <th>numerics_count</th>\n",
       "      <th>upper_counts</th>\n",
       "      <th>emails</th>\n",
       "      <th>emails_count</th>\n",
       "      <th>urls_flag</th>\n",
       "    </tr>\n",
       "  </thead>\n",
       "  <tbody>\n",
       "    <tr>\n",
       "      <th>303130</th>\n",
       "      <td>selena gomez taylor lautner ruined</td>\n",
       "      <td>0</td>\n",
       "      <td>13</td>\n",
       "      <td>73</td>\n",
       "      <td>4.615385</td>\n",
       "      <td>4</td>\n",
       "      <td>0</td>\n",
       "      <td>0</td>\n",
       "      <td>0</td>\n",
       "      <td>0</td>\n",
       "      <td>[]</td>\n",
       "      <td>0</td>\n",
       "      <td>0</td>\n",
       "    </tr>\n",
       "    <tr>\n",
       "      <th>234715</th>\n",
       "      <td>nice fried breakfast yum crack</td>\n",
       "      <td>0</td>\n",
       "      <td>12</td>\n",
       "      <td>63</td>\n",
       "      <td>4.250000</td>\n",
       "      <td>4</td>\n",
       "      <td>0</td>\n",
       "      <td>0</td>\n",
       "      <td>0</td>\n",
       "      <td>0</td>\n",
       "      <td>[]</td>\n",
       "      <td>0</td>\n",
       "      <td>0</td>\n",
       "    </tr>\n",
       "    <tr>\n",
       "      <th>346731</th>\n",
       "      <td>dannymcfly ok goodbye fine hope face face</td>\n",
       "      <td>0</td>\n",
       "      <td>25</td>\n",
       "      <td>121</td>\n",
       "      <td>3.840000</td>\n",
       "      <td>12</td>\n",
       "      <td>0</td>\n",
       "      <td>1</td>\n",
       "      <td>0</td>\n",
       "      <td>1</td>\n",
       "      <td>[]</td>\n",
       "      <td>0</td>\n",
       "      <td>0</td>\n",
       "    </tr>\n",
       "    <tr>\n",
       "      <th>756186</th>\n",
       "      <td>neda longer trending topic iranelection</td>\n",
       "      <td>0</td>\n",
       "      <td>7</td>\n",
       "      <td>48</td>\n",
       "      <td>5.714286</td>\n",
       "      <td>2</td>\n",
       "      <td>2</td>\n",
       "      <td>0</td>\n",
       "      <td>0</td>\n",
       "      <td>1</td>\n",
       "      <td>[]</td>\n",
       "      <td>0</td>\n",
       "      <td>0</td>\n",
       "    </tr>\n",
       "    <tr>\n",
       "      <th>332950</th>\n",
       "      <td>tired butt load homework</td>\n",
       "      <td>0</td>\n",
       "      <td>13</td>\n",
       "      <td>60</td>\n",
       "      <td>3.615385</td>\n",
       "      <td>7</td>\n",
       "      <td>0</td>\n",
       "      <td>0</td>\n",
       "      <td>0</td>\n",
       "      <td>0</td>\n",
       "      <td>[]</td>\n",
       "      <td>0</td>\n",
       "      <td>0</td>\n",
       "    </tr>\n",
       "    <tr>\n",
       "      <th>...</th>\n",
       "      <td>...</td>\n",
       "      <td>...</td>\n",
       "      <td>...</td>\n",
       "      <td>...</td>\n",
       "      <td>...</td>\n",
       "      <td>...</td>\n",
       "      <td>...</td>\n",
       "      <td>...</td>\n",
       "      <td>...</td>\n",
       "      <td>...</td>\n",
       "      <td>...</td>\n",
       "      <td>...</td>\n",
       "      <td>...</td>\n",
       "    </tr>\n",
       "    <tr>\n",
       "      <th>1338788</th>\n",
       "      <td>mllandry christinemv thank working farah hair</td>\n",
       "      <td>4</td>\n",
       "      <td>14</td>\n",
       "      <td>86</td>\n",
       "      <td>5.071429</td>\n",
       "      <td>4</td>\n",
       "      <td>0</td>\n",
       "      <td>2</td>\n",
       "      <td>0</td>\n",
       "      <td>1</td>\n",
       "      <td>[]</td>\n",
       "      <td>0</td>\n",
       "      <td>0</td>\n",
       "    </tr>\n",
       "    <tr>\n",
       "      <th>1206489</th>\n",
       "      <td>listening quotsunshinequot blazelvegarmidoneol...</td>\n",
       "      <td>4</td>\n",
       "      <td>13</td>\n",
       "      <td>90</td>\n",
       "      <td>5.923077</td>\n",
       "      <td>3</td>\n",
       "      <td>0</td>\n",
       "      <td>0</td>\n",
       "      <td>0</td>\n",
       "      <td>0</td>\n",
       "      <td>[]</td>\n",
       "      <td>0</td>\n",
       "      <td>0</td>\n",
       "    </tr>\n",
       "    <tr>\n",
       "      <th>1309503</th>\n",
       "      <td>getting warm fuzzies inside studios kuam kuam ...</td>\n",
       "      <td>4</td>\n",
       "      <td>26</td>\n",
       "      <td>140</td>\n",
       "      <td>4.384615</td>\n",
       "      <td>9</td>\n",
       "      <td>0</td>\n",
       "      <td>0</td>\n",
       "      <td>0</td>\n",
       "      <td>2</td>\n",
       "      <td>[]</td>\n",
       "      <td>0</td>\n",
       "      <td>0</td>\n",
       "    </tr>\n",
       "    <tr>\n",
       "      <th>902763</th>\n",
       "      <td>beverleyknight hiyaaaaaa scan wow amazing crie...</td>\n",
       "      <td>4</td>\n",
       "      <td>15</td>\n",
       "      <td>90</td>\n",
       "      <td>5.000000</td>\n",
       "      <td>6</td>\n",
       "      <td>0</td>\n",
       "      <td>1</td>\n",
       "      <td>0</td>\n",
       "      <td>0</td>\n",
       "      <td>[]</td>\n",
       "      <td>0</td>\n",
       "      <td>0</td>\n",
       "    </tr>\n",
       "    <tr>\n",
       "      <th>938754</th>\n",
       "      <td>rustycharm true dads usually cook mums</td>\n",
       "      <td>4</td>\n",
       "      <td>12</td>\n",
       "      <td>72</td>\n",
       "      <td>5.000000</td>\n",
       "      <td>2</td>\n",
       "      <td>0</td>\n",
       "      <td>1</td>\n",
       "      <td>0</td>\n",
       "      <td>0</td>\n",
       "      <td>[]</td>\n",
       "      <td>0</td>\n",
       "      <td>0</td>\n",
       "    </tr>\n",
       "  </tbody>\n",
       "</table>\n",
       "<p>4000 rows × 13 columns</p>\n",
       "</div>"
      ],
      "text/plain": [
       "                                                    twitts  sentiment  \\\n",
       "303130                  selena gomez taylor lautner ruined          0   \n",
       "234715                      nice fried breakfast yum crack          0   \n",
       "346731           dannymcfly ok goodbye fine hope face face          0   \n",
       "756186             neda longer trending topic iranelection          0   \n",
       "332950                            tired butt load homework          0   \n",
       "...                                                    ...        ...   \n",
       "1338788      mllandry christinemv thank working farah hair          4   \n",
       "1206489  listening quotsunshinequot blazelvegarmidoneol...          4   \n",
       "1309503  getting warm fuzzies inside studios kuam kuam ...          4   \n",
       "902763   beverleyknight hiyaaaaaa scan wow amazing crie...          4   \n",
       "938754              rustycharm true dads usually cook mums          4   \n",
       "\n",
       "         word_counts  char_counts  avg_word_len  stop_words_len  \\\n",
       "303130            13           73      4.615385               4   \n",
       "234715            12           63      4.250000               4   \n",
       "346731            25          121      3.840000              12   \n",
       "756186             7           48      5.714286               2   \n",
       "332950            13           60      3.615385               7   \n",
       "...              ...          ...           ...             ...   \n",
       "1338788           14           86      5.071429               4   \n",
       "1206489           13           90      5.923077               3   \n",
       "1309503           26          140      4.384615               9   \n",
       "902763            15           90      5.000000               6   \n",
       "938754            12           72      5.000000               2   \n",
       "\n",
       "         hashtags_count  mentions_count  numerics_count  upper_counts emails  \\\n",
       "303130                0               0               0             0     []   \n",
       "234715                0               0               0             0     []   \n",
       "346731                0               1               0             1     []   \n",
       "756186                2               0               0             1     []   \n",
       "332950                0               0               0             0     []   \n",
       "...                 ...             ...             ...           ...    ...   \n",
       "1338788               0               2               0             1     []   \n",
       "1206489               0               0               0             0     []   \n",
       "1309503               0               0               0             2     []   \n",
       "902763                0               1               0             0     []   \n",
       "938754                0               1               0             0     []   \n",
       "\n",
       "         emails_count  urls_flag  \n",
       "303130              0          0  \n",
       "234715              0          0  \n",
       "346731              0          0  \n",
       "756186              0          0  \n",
       "332950              0          0  \n",
       "...               ...        ...  \n",
       "1338788             0          0  \n",
       "1206489             0          0  \n",
       "1309503             0          0  \n",
       "902763              0          0  \n",
       "938754              0          0  \n",
       "\n",
       "[4000 rows x 13 columns]"
      ]
     },
     "execution_count": 132,
     "metadata": {},
     "output_type": "execute_result"
    }
   ],
   "source": [
    "dfr"
   ]
  },
  {
   "cell_type": "code",
   "execution_count": 133,
   "id": "523fd357",
   "metadata": {
    "execution": {
     "iopub.execute_input": "2023-05-15T06:59:45.718732Z",
     "iopub.status.busy": "2023-05-15T06:59:45.717605Z",
     "iopub.status.idle": "2023-05-15T06:59:45.725128Z",
     "shell.execute_reply": "2023-05-15T06:59:45.725861Z",
     "shell.execute_reply.started": "2021-12-14T04:42:18.148946Z"
    },
    "papermill": {
     "duration": 0.557956,
     "end_time": "2023-05-15T06:59:45.726057",
     "exception": false,
     "start_time": "2023-05-15T06:59:45.168101",
     "status": "completed"
    },
    "tags": []
   },
   "outputs": [],
   "source": [
    "# Manual features\n",
    "dfr_feat = dfr.drop(labels=['twitts','sentiment', 'emails'], axis =1)"
   ]
  },
  {
   "cell_type": "code",
   "execution_count": 134,
   "id": "9e130db7",
   "metadata": {
    "execution": {
     "iopub.execute_input": "2023-05-15T06:59:46.751957Z",
     "iopub.status.busy": "2023-05-15T06:59:46.750870Z",
     "iopub.status.idle": "2023-05-15T06:59:46.772167Z",
     "shell.execute_reply": "2023-05-15T06:59:46.772800Z",
     "shell.execute_reply.started": "2021-12-14T04:42:18.163136Z"
    },
    "papermill": {
     "duration": 0.532249,
     "end_time": "2023-05-15T06:59:46.773002",
     "exception": false,
     "start_time": "2023-05-15T06:59:46.240753",
     "status": "completed"
    },
    "tags": []
   },
   "outputs": [
    {
     "data": {
      "text/html": [
       "<div>\n",
       "<style scoped>\n",
       "    .dataframe tbody tr th:only-of-type {\n",
       "        vertical-align: middle;\n",
       "    }\n",
       "\n",
       "    .dataframe tbody tr th {\n",
       "        vertical-align: top;\n",
       "    }\n",
       "\n",
       "    .dataframe thead th {\n",
       "        text-align: right;\n",
       "    }\n",
       "</style>\n",
       "<table border=\"1\" class=\"dataframe\">\n",
       "  <thead>\n",
       "    <tr style=\"text-align: right;\">\n",
       "      <th></th>\n",
       "      <th>word_counts</th>\n",
       "      <th>char_counts</th>\n",
       "      <th>avg_word_len</th>\n",
       "      <th>stop_words_len</th>\n",
       "      <th>hashtags_count</th>\n",
       "      <th>mentions_count</th>\n",
       "      <th>numerics_count</th>\n",
       "      <th>upper_counts</th>\n",
       "      <th>emails_count</th>\n",
       "      <th>urls_flag</th>\n",
       "    </tr>\n",
       "  </thead>\n",
       "  <tbody>\n",
       "    <tr>\n",
       "      <th>303130</th>\n",
       "      <td>13</td>\n",
       "      <td>73</td>\n",
       "      <td>4.615385</td>\n",
       "      <td>4</td>\n",
       "      <td>0</td>\n",
       "      <td>0</td>\n",
       "      <td>0</td>\n",
       "      <td>0</td>\n",
       "      <td>0</td>\n",
       "      <td>0</td>\n",
       "    </tr>\n",
       "    <tr>\n",
       "      <th>234715</th>\n",
       "      <td>12</td>\n",
       "      <td>63</td>\n",
       "      <td>4.250000</td>\n",
       "      <td>4</td>\n",
       "      <td>0</td>\n",
       "      <td>0</td>\n",
       "      <td>0</td>\n",
       "      <td>0</td>\n",
       "      <td>0</td>\n",
       "      <td>0</td>\n",
       "    </tr>\n",
       "    <tr>\n",
       "      <th>346731</th>\n",
       "      <td>25</td>\n",
       "      <td>121</td>\n",
       "      <td>3.840000</td>\n",
       "      <td>12</td>\n",
       "      <td>0</td>\n",
       "      <td>1</td>\n",
       "      <td>0</td>\n",
       "      <td>1</td>\n",
       "      <td>0</td>\n",
       "      <td>0</td>\n",
       "    </tr>\n",
       "    <tr>\n",
       "      <th>756186</th>\n",
       "      <td>7</td>\n",
       "      <td>48</td>\n",
       "      <td>5.714286</td>\n",
       "      <td>2</td>\n",
       "      <td>2</td>\n",
       "      <td>0</td>\n",
       "      <td>0</td>\n",
       "      <td>1</td>\n",
       "      <td>0</td>\n",
       "      <td>0</td>\n",
       "    </tr>\n",
       "    <tr>\n",
       "      <th>332950</th>\n",
       "      <td>13</td>\n",
       "      <td>60</td>\n",
       "      <td>3.615385</td>\n",
       "      <td>7</td>\n",
       "      <td>0</td>\n",
       "      <td>0</td>\n",
       "      <td>0</td>\n",
       "      <td>0</td>\n",
       "      <td>0</td>\n",
       "      <td>0</td>\n",
       "    </tr>\n",
       "    <tr>\n",
       "      <th>...</th>\n",
       "      <td>...</td>\n",
       "      <td>...</td>\n",
       "      <td>...</td>\n",
       "      <td>...</td>\n",
       "      <td>...</td>\n",
       "      <td>...</td>\n",
       "      <td>...</td>\n",
       "      <td>...</td>\n",
       "      <td>...</td>\n",
       "      <td>...</td>\n",
       "    </tr>\n",
       "    <tr>\n",
       "      <th>1338788</th>\n",
       "      <td>14</td>\n",
       "      <td>86</td>\n",
       "      <td>5.071429</td>\n",
       "      <td>4</td>\n",
       "      <td>0</td>\n",
       "      <td>2</td>\n",
       "      <td>0</td>\n",
       "      <td>1</td>\n",
       "      <td>0</td>\n",
       "      <td>0</td>\n",
       "    </tr>\n",
       "    <tr>\n",
       "      <th>1206489</th>\n",
       "      <td>13</td>\n",
       "      <td>90</td>\n",
       "      <td>5.923077</td>\n",
       "      <td>3</td>\n",
       "      <td>0</td>\n",
       "      <td>0</td>\n",
       "      <td>0</td>\n",
       "      <td>0</td>\n",
       "      <td>0</td>\n",
       "      <td>0</td>\n",
       "    </tr>\n",
       "    <tr>\n",
       "      <th>1309503</th>\n",
       "      <td>26</td>\n",
       "      <td>140</td>\n",
       "      <td>4.384615</td>\n",
       "      <td>9</td>\n",
       "      <td>0</td>\n",
       "      <td>0</td>\n",
       "      <td>0</td>\n",
       "      <td>2</td>\n",
       "      <td>0</td>\n",
       "      <td>0</td>\n",
       "    </tr>\n",
       "    <tr>\n",
       "      <th>902763</th>\n",
       "      <td>15</td>\n",
       "      <td>90</td>\n",
       "      <td>5.000000</td>\n",
       "      <td>6</td>\n",
       "      <td>0</td>\n",
       "      <td>1</td>\n",
       "      <td>0</td>\n",
       "      <td>0</td>\n",
       "      <td>0</td>\n",
       "      <td>0</td>\n",
       "    </tr>\n",
       "    <tr>\n",
       "      <th>938754</th>\n",
       "      <td>12</td>\n",
       "      <td>72</td>\n",
       "      <td>5.000000</td>\n",
       "      <td>2</td>\n",
       "      <td>0</td>\n",
       "      <td>1</td>\n",
       "      <td>0</td>\n",
       "      <td>0</td>\n",
       "      <td>0</td>\n",
       "      <td>0</td>\n",
       "    </tr>\n",
       "  </tbody>\n",
       "</table>\n",
       "<p>4000 rows × 10 columns</p>\n",
       "</div>"
      ],
      "text/plain": [
       "         word_counts  char_counts  avg_word_len  stop_words_len  \\\n",
       "303130            13           73      4.615385               4   \n",
       "234715            12           63      4.250000               4   \n",
       "346731            25          121      3.840000              12   \n",
       "756186             7           48      5.714286               2   \n",
       "332950            13           60      3.615385               7   \n",
       "...              ...          ...           ...             ...   \n",
       "1338788           14           86      5.071429               4   \n",
       "1206489           13           90      5.923077               3   \n",
       "1309503           26          140      4.384615               9   \n",
       "902763            15           90      5.000000               6   \n",
       "938754            12           72      5.000000               2   \n",
       "\n",
       "         hashtags_count  mentions_count  numerics_count  upper_counts  \\\n",
       "303130                0               0               0             0   \n",
       "234715                0               0               0             0   \n",
       "346731                0               1               0             1   \n",
       "756186                2               0               0             1   \n",
       "332950                0               0               0             0   \n",
       "...                 ...             ...             ...           ...   \n",
       "1338788               0               2               0             1   \n",
       "1206489               0               0               0             0   \n",
       "1309503               0               0               0             2   \n",
       "902763                0               1               0             0   \n",
       "938754                0               1               0             0   \n",
       "\n",
       "         emails_count  urls_flag  \n",
       "303130              0          0  \n",
       "234715              0          0  \n",
       "346731              0          0  \n",
       "756186              0          0  \n",
       "332950              0          0  \n",
       "...               ...        ...  \n",
       "1338788             0          0  \n",
       "1206489             0          0  \n",
       "1309503             0          0  \n",
       "902763              0          0  \n",
       "938754              0          0  \n",
       "\n",
       "[4000 rows x 10 columns]"
      ]
     },
     "execution_count": 134,
     "metadata": {},
     "output_type": "execute_result"
    }
   ],
   "source": [
    "dfr_feat"
   ]
  },
  {
   "cell_type": "code",
   "execution_count": 135,
   "id": "51f38b61",
   "metadata": {
    "execution": {
     "iopub.execute_input": "2023-05-15T06:59:47.862974Z",
     "iopub.status.busy": "2023-05-15T06:59:47.861901Z",
     "iopub.status.idle": "2023-05-15T06:59:47.866470Z",
     "shell.execute_reply": "2023-05-15T06:59:47.867097Z",
     "shell.execute_reply.started": "2021-12-14T04:42:18.187458Z"
    },
    "papermill": {
     "duration": 0.587488,
     "end_time": "2023-05-15T06:59:47.867294",
     "exception": false,
     "start_time": "2023-05-15T06:59:47.279806",
     "status": "completed"
    },
    "tags": []
   },
   "outputs": [],
   "source": [
    "y = dfr['sentiment']"
   ]
  },
  {
   "cell_type": "code",
   "execution_count": 136,
   "id": "21df6416",
   "metadata": {
    "execution": {
     "iopub.execute_input": "2023-05-15T06:59:48.878735Z",
     "iopub.status.busy": "2023-05-15T06:59:48.877644Z",
     "iopub.status.idle": "2023-05-15T06:59:48.882278Z",
     "shell.execute_reply": "2023-05-15T06:59:48.882999Z",
     "shell.execute_reply.started": "2021-12-14T04:42:18.199065Z"
    },
    "papermill": {
     "duration": 0.511405,
     "end_time": "2023-05-15T06:59:48.883181",
     "exception": false,
     "start_time": "2023-05-15T06:59:48.371776",
     "status": "completed"
    },
    "tags": []
   },
   "outputs": [],
   "source": [
    "from sklearn.feature_extraction.text import CountVectorizer"
   ]
  },
  {
   "cell_type": "code",
   "execution_count": 137,
   "id": "05b5b2d5",
   "metadata": {
    "execution": {
     "iopub.execute_input": "2023-05-15T06:59:49.901354Z",
     "iopub.status.busy": "2023-05-15T06:59:49.900269Z",
     "iopub.status.idle": "2023-05-15T06:59:49.987976Z",
     "shell.execute_reply": "2023-05-15T06:59:49.987209Z",
     "shell.execute_reply.started": "2021-12-14T04:42:18.210060Z"
    },
    "papermill": {
     "duration": 0.594352,
     "end_time": "2023-05-15T06:59:49.988134",
     "exception": false,
     "start_time": "2023-05-15T06:59:49.393782",
     "status": "completed"
    },
    "tags": []
   },
   "outputs": [],
   "source": [
    "cv = CountVectorizer()\n",
    "text_counts = cv.fit_transform(dfr['twitts'])"
   ]
  },
  {
   "cell_type": "code",
   "execution_count": 138,
   "id": "811dbe79",
   "metadata": {
    "execution": {
     "iopub.execute_input": "2023-05-15T06:59:51.006863Z",
     "iopub.status.busy": "2023-05-15T06:59:51.005734Z",
     "iopub.status.idle": "2023-05-15T06:59:51.078503Z",
     "shell.execute_reply": "2023-05-15T06:59:51.079114Z",
     "shell.execute_reply.started": "2021-12-14T04:42:18.299194Z"
    },
    "papermill": {
     "duration": 0.58341,
     "end_time": "2023-05-15T06:59:51.079319",
     "exception": false,
     "start_time": "2023-05-15T06:59:50.495909",
     "status": "completed"
    },
    "tags": []
   },
   "outputs": [
    {
     "data": {
      "text/plain": [
       "(4000, 9747)"
      ]
     },
     "execution_count": 138,
     "metadata": {},
     "output_type": "execute_result"
    }
   ],
   "source": [
    "text_counts.toarray().shape"
   ]
  },
  {
   "cell_type": "code",
   "execution_count": 139,
   "id": "24ee86a5",
   "metadata": {
    "execution": {
     "iopub.execute_input": "2023-05-15T06:59:52.104220Z",
     "iopub.status.busy": "2023-05-15T06:59:52.103391Z",
     "iopub.status.idle": "2023-05-15T06:59:52.174256Z",
     "shell.execute_reply": "2023-05-15T06:59:52.174847Z",
     "shell.execute_reply.started": "2021-12-14T04:42:18.358123Z"
    },
    "papermill": {
     "duration": 0.585593,
     "end_time": "2023-05-15T06:59:52.175049",
     "exception": false,
     "start_time": "2023-05-15T06:59:51.589456",
     "status": "completed"
    },
    "tags": []
   },
   "outputs": [],
   "source": [
    "dfr_bow = pd.DataFrame(text_counts.toarray(), columns = cv.get_feature_names())"
   ]
  },
  {
   "cell_type": "code",
   "execution_count": 140,
   "id": "b5e612ce",
   "metadata": {
    "execution": {
     "iopub.execute_input": "2023-05-15T06:59:53.216833Z",
     "iopub.status.busy": "2023-05-15T06:59:53.215579Z",
     "iopub.status.idle": "2023-05-15T06:59:53.252128Z",
     "shell.execute_reply": "2023-05-15T06:59:53.251509Z",
     "shell.execute_reply.started": "2021-12-14T04:42:18.417154Z"
    },
    "papermill": {
     "duration": 0.559821,
     "end_time": "2023-05-15T06:59:53.252294",
     "exception": false,
     "start_time": "2023-05-15T06:59:52.692473",
     "status": "completed"
    },
    "tags": []
   },
   "outputs": [
    {
     "data": {
      "text/html": [
       "<div>\n",
       "<style scoped>\n",
       "    .dataframe tbody tr th:only-of-type {\n",
       "        vertical-align: middle;\n",
       "    }\n",
       "\n",
       "    .dataframe tbody tr th {\n",
       "        vertical-align: top;\n",
       "    }\n",
       "\n",
       "    .dataframe thead th {\n",
       "        text-align: right;\n",
       "    }\n",
       "</style>\n",
       "<table border=\"1\" class=\"dataframe\">\n",
       "  <thead>\n",
       "    <tr style=\"text-align: right;\">\n",
       "      <th></th>\n",
       "      <th>01</th>\n",
       "      <th>0100</th>\n",
       "      <th>018</th>\n",
       "      <th>0630</th>\n",
       "      <th>0734</th>\n",
       "      <th>0g</th>\n",
       "      <th>10</th>\n",
       "      <th>100</th>\n",
       "      <th>1000</th>\n",
       "      <th>100th</th>\n",
       "      <th>...</th>\n",
       "      <th>zoe</th>\n",
       "      <th>zole</th>\n",
       "      <th>zombie</th>\n",
       "      <th>zoo</th>\n",
       "      <th>zooey</th>\n",
       "      <th>zoomin</th>\n",
       "      <th>zooming</th>\n",
       "      <th>zxxxx</th>\n",
       "      <th>zyxwvutsrqponmlkjihgfedcba</th>\n",
       "      <th>zzzzzzz</th>\n",
       "    </tr>\n",
       "  </thead>\n",
       "  <tbody>\n",
       "    <tr>\n",
       "      <th>0</th>\n",
       "      <td>0</td>\n",
       "      <td>0</td>\n",
       "      <td>0</td>\n",
       "      <td>0</td>\n",
       "      <td>0</td>\n",
       "      <td>0</td>\n",
       "      <td>0</td>\n",
       "      <td>0</td>\n",
       "      <td>0</td>\n",
       "      <td>0</td>\n",
       "      <td>...</td>\n",
       "      <td>0</td>\n",
       "      <td>0</td>\n",
       "      <td>0</td>\n",
       "      <td>0</td>\n",
       "      <td>0</td>\n",
       "      <td>0</td>\n",
       "      <td>0</td>\n",
       "      <td>0</td>\n",
       "      <td>0</td>\n",
       "      <td>0</td>\n",
       "    </tr>\n",
       "    <tr>\n",
       "      <th>1</th>\n",
       "      <td>0</td>\n",
       "      <td>0</td>\n",
       "      <td>0</td>\n",
       "      <td>0</td>\n",
       "      <td>0</td>\n",
       "      <td>0</td>\n",
       "      <td>0</td>\n",
       "      <td>0</td>\n",
       "      <td>0</td>\n",
       "      <td>0</td>\n",
       "      <td>...</td>\n",
       "      <td>0</td>\n",
       "      <td>0</td>\n",
       "      <td>0</td>\n",
       "      <td>0</td>\n",
       "      <td>0</td>\n",
       "      <td>0</td>\n",
       "      <td>0</td>\n",
       "      <td>0</td>\n",
       "      <td>0</td>\n",
       "      <td>0</td>\n",
       "    </tr>\n",
       "    <tr>\n",
       "      <th>2</th>\n",
       "      <td>0</td>\n",
       "      <td>0</td>\n",
       "      <td>0</td>\n",
       "      <td>0</td>\n",
       "      <td>0</td>\n",
       "      <td>0</td>\n",
       "      <td>0</td>\n",
       "      <td>0</td>\n",
       "      <td>0</td>\n",
       "      <td>0</td>\n",
       "      <td>...</td>\n",
       "      <td>0</td>\n",
       "      <td>0</td>\n",
       "      <td>0</td>\n",
       "      <td>0</td>\n",
       "      <td>0</td>\n",
       "      <td>0</td>\n",
       "      <td>0</td>\n",
       "      <td>0</td>\n",
       "      <td>0</td>\n",
       "      <td>0</td>\n",
       "    </tr>\n",
       "    <tr>\n",
       "      <th>3</th>\n",
       "      <td>0</td>\n",
       "      <td>0</td>\n",
       "      <td>0</td>\n",
       "      <td>0</td>\n",
       "      <td>0</td>\n",
       "      <td>0</td>\n",
       "      <td>0</td>\n",
       "      <td>0</td>\n",
       "      <td>0</td>\n",
       "      <td>0</td>\n",
       "      <td>...</td>\n",
       "      <td>0</td>\n",
       "      <td>0</td>\n",
       "      <td>0</td>\n",
       "      <td>0</td>\n",
       "      <td>0</td>\n",
       "      <td>0</td>\n",
       "      <td>0</td>\n",
       "      <td>0</td>\n",
       "      <td>0</td>\n",
       "      <td>0</td>\n",
       "    </tr>\n",
       "    <tr>\n",
       "      <th>4</th>\n",
       "      <td>0</td>\n",
       "      <td>0</td>\n",
       "      <td>0</td>\n",
       "      <td>0</td>\n",
       "      <td>0</td>\n",
       "      <td>0</td>\n",
       "      <td>0</td>\n",
       "      <td>0</td>\n",
       "      <td>0</td>\n",
       "      <td>0</td>\n",
       "      <td>...</td>\n",
       "      <td>0</td>\n",
       "      <td>0</td>\n",
       "      <td>0</td>\n",
       "      <td>0</td>\n",
       "      <td>0</td>\n",
       "      <td>0</td>\n",
       "      <td>0</td>\n",
       "      <td>0</td>\n",
       "      <td>0</td>\n",
       "      <td>0</td>\n",
       "    </tr>\n",
       "    <tr>\n",
       "      <th>...</th>\n",
       "      <td>...</td>\n",
       "      <td>...</td>\n",
       "      <td>...</td>\n",
       "      <td>...</td>\n",
       "      <td>...</td>\n",
       "      <td>...</td>\n",
       "      <td>...</td>\n",
       "      <td>...</td>\n",
       "      <td>...</td>\n",
       "      <td>...</td>\n",
       "      <td>...</td>\n",
       "      <td>...</td>\n",
       "      <td>...</td>\n",
       "      <td>...</td>\n",
       "      <td>...</td>\n",
       "      <td>...</td>\n",
       "      <td>...</td>\n",
       "      <td>...</td>\n",
       "      <td>...</td>\n",
       "      <td>...</td>\n",
       "      <td>...</td>\n",
       "    </tr>\n",
       "    <tr>\n",
       "      <th>3995</th>\n",
       "      <td>0</td>\n",
       "      <td>0</td>\n",
       "      <td>0</td>\n",
       "      <td>0</td>\n",
       "      <td>0</td>\n",
       "      <td>0</td>\n",
       "      <td>0</td>\n",
       "      <td>0</td>\n",
       "      <td>0</td>\n",
       "      <td>0</td>\n",
       "      <td>...</td>\n",
       "      <td>0</td>\n",
       "      <td>0</td>\n",
       "      <td>0</td>\n",
       "      <td>0</td>\n",
       "      <td>0</td>\n",
       "      <td>0</td>\n",
       "      <td>0</td>\n",
       "      <td>0</td>\n",
       "      <td>0</td>\n",
       "      <td>0</td>\n",
       "    </tr>\n",
       "    <tr>\n",
       "      <th>3996</th>\n",
       "      <td>0</td>\n",
       "      <td>0</td>\n",
       "      <td>0</td>\n",
       "      <td>0</td>\n",
       "      <td>0</td>\n",
       "      <td>0</td>\n",
       "      <td>0</td>\n",
       "      <td>0</td>\n",
       "      <td>0</td>\n",
       "      <td>0</td>\n",
       "      <td>...</td>\n",
       "      <td>0</td>\n",
       "      <td>0</td>\n",
       "      <td>0</td>\n",
       "      <td>0</td>\n",
       "      <td>0</td>\n",
       "      <td>0</td>\n",
       "      <td>0</td>\n",
       "      <td>0</td>\n",
       "      <td>0</td>\n",
       "      <td>0</td>\n",
       "    </tr>\n",
       "    <tr>\n",
       "      <th>3997</th>\n",
       "      <td>0</td>\n",
       "      <td>0</td>\n",
       "      <td>0</td>\n",
       "      <td>0</td>\n",
       "      <td>0</td>\n",
       "      <td>0</td>\n",
       "      <td>0</td>\n",
       "      <td>0</td>\n",
       "      <td>0</td>\n",
       "      <td>0</td>\n",
       "      <td>...</td>\n",
       "      <td>0</td>\n",
       "      <td>0</td>\n",
       "      <td>0</td>\n",
       "      <td>0</td>\n",
       "      <td>0</td>\n",
       "      <td>0</td>\n",
       "      <td>0</td>\n",
       "      <td>0</td>\n",
       "      <td>0</td>\n",
       "      <td>0</td>\n",
       "    </tr>\n",
       "    <tr>\n",
       "      <th>3998</th>\n",
       "      <td>0</td>\n",
       "      <td>0</td>\n",
       "      <td>0</td>\n",
       "      <td>0</td>\n",
       "      <td>0</td>\n",
       "      <td>0</td>\n",
       "      <td>0</td>\n",
       "      <td>0</td>\n",
       "      <td>0</td>\n",
       "      <td>0</td>\n",
       "      <td>...</td>\n",
       "      <td>0</td>\n",
       "      <td>0</td>\n",
       "      <td>0</td>\n",
       "      <td>0</td>\n",
       "      <td>0</td>\n",
       "      <td>0</td>\n",
       "      <td>0</td>\n",
       "      <td>0</td>\n",
       "      <td>0</td>\n",
       "      <td>0</td>\n",
       "    </tr>\n",
       "    <tr>\n",
       "      <th>3999</th>\n",
       "      <td>0</td>\n",
       "      <td>0</td>\n",
       "      <td>0</td>\n",
       "      <td>0</td>\n",
       "      <td>0</td>\n",
       "      <td>0</td>\n",
       "      <td>0</td>\n",
       "      <td>0</td>\n",
       "      <td>0</td>\n",
       "      <td>0</td>\n",
       "      <td>...</td>\n",
       "      <td>0</td>\n",
       "      <td>0</td>\n",
       "      <td>0</td>\n",
       "      <td>0</td>\n",
       "      <td>0</td>\n",
       "      <td>0</td>\n",
       "      <td>0</td>\n",
       "      <td>0</td>\n",
       "      <td>0</td>\n",
       "      <td>0</td>\n",
       "    </tr>\n",
       "  </tbody>\n",
       "</table>\n",
       "<p>4000 rows × 9747 columns</p>\n",
       "</div>"
      ],
      "text/plain": [
       "      01  0100  018  0630  0734  0g  10  100  1000  100th  ...  zoe  zole  \\\n",
       "0      0     0    0     0     0   0   0    0     0      0  ...    0     0   \n",
       "1      0     0    0     0     0   0   0    0     0      0  ...    0     0   \n",
       "2      0     0    0     0     0   0   0    0     0      0  ...    0     0   \n",
       "3      0     0    0     0     0   0   0    0     0      0  ...    0     0   \n",
       "4      0     0    0     0     0   0   0    0     0      0  ...    0     0   \n",
       "...   ..   ...  ...   ...   ...  ..  ..  ...   ...    ...  ...  ...   ...   \n",
       "3995   0     0    0     0     0   0   0    0     0      0  ...    0     0   \n",
       "3996   0     0    0     0     0   0   0    0     0      0  ...    0     0   \n",
       "3997   0     0    0     0     0   0   0    0     0      0  ...    0     0   \n",
       "3998   0     0    0     0     0   0   0    0     0      0  ...    0     0   \n",
       "3999   0     0    0     0     0   0   0    0     0      0  ...    0     0   \n",
       "\n",
       "      zombie  zoo  zooey  zoomin  zooming  zxxxx  zyxwvutsrqponmlkjihgfedcba  \\\n",
       "0          0    0      0       0        0      0                           0   \n",
       "1          0    0      0       0        0      0                           0   \n",
       "2          0    0      0       0        0      0                           0   \n",
       "3          0    0      0       0        0      0                           0   \n",
       "4          0    0      0       0        0      0                           0   \n",
       "...      ...  ...    ...     ...      ...    ...                         ...   \n",
       "3995       0    0      0       0        0      0                           0   \n",
       "3996       0    0      0       0        0      0                           0   \n",
       "3997       0    0      0       0        0      0                           0   \n",
       "3998       0    0      0       0        0      0                           0   \n",
       "3999       0    0      0       0        0      0                           0   \n",
       "\n",
       "      zzzzzzz  \n",
       "0           0  \n",
       "1           0  \n",
       "2           0  \n",
       "3           0  \n",
       "4           0  \n",
       "...       ...  \n",
       "3995        0  \n",
       "3996        0  \n",
       "3997        0  \n",
       "3998        0  \n",
       "3999        0  \n",
       "\n",
       "[4000 rows x 9747 columns]"
      ]
     },
     "execution_count": 140,
     "metadata": {},
     "output_type": "execute_result"
    }
   ],
   "source": [
    "dfr_bow"
   ]
  },
  {
   "cell_type": "code",
   "execution_count": 141,
   "id": "39e34a80",
   "metadata": {
    "execution": {
     "iopub.execute_input": "2023-05-15T06:59:54.280575Z",
     "iopub.status.busy": "2023-05-15T06:59:54.279425Z",
     "iopub.status.idle": "2023-05-15T06:59:54.298221Z",
     "shell.execute_reply": "2023-05-15T06:59:54.298940Z",
     "shell.execute_reply.started": "2021-12-14T04:42:18.452195Z"
    },
    "papermill": {
     "duration": 0.533535,
     "end_time": "2023-05-15T06:59:54.299136",
     "exception": false,
     "start_time": "2023-05-15T06:59:53.765601",
     "status": "completed"
    },
    "tags": []
   },
   "outputs": [
    {
     "data": {
      "text/html": [
       "<div>\n",
       "<style scoped>\n",
       "    .dataframe tbody tr th:only-of-type {\n",
       "        vertical-align: middle;\n",
       "    }\n",
       "\n",
       "    .dataframe tbody tr th {\n",
       "        vertical-align: top;\n",
       "    }\n",
       "\n",
       "    .dataframe thead th {\n",
       "        text-align: right;\n",
       "    }\n",
       "</style>\n",
       "<table border=\"1\" class=\"dataframe\">\n",
       "  <thead>\n",
       "    <tr style=\"text-align: right;\">\n",
       "      <th></th>\n",
       "      <th>01</th>\n",
       "      <th>0100</th>\n",
       "      <th>018</th>\n",
       "      <th>0630</th>\n",
       "      <th>0734</th>\n",
       "      <th>0g</th>\n",
       "      <th>10</th>\n",
       "      <th>100</th>\n",
       "      <th>1000</th>\n",
       "      <th>100th</th>\n",
       "      <th>...</th>\n",
       "      <th>zoe</th>\n",
       "      <th>zole</th>\n",
       "      <th>zombie</th>\n",
       "      <th>zoo</th>\n",
       "      <th>zooey</th>\n",
       "      <th>zoomin</th>\n",
       "      <th>zooming</th>\n",
       "      <th>zxxxx</th>\n",
       "      <th>zyxwvutsrqponmlkjihgfedcba</th>\n",
       "      <th>zzzzzzz</th>\n",
       "    </tr>\n",
       "  </thead>\n",
       "  <tbody>\n",
       "    <tr>\n",
       "      <th>0</th>\n",
       "      <td>0</td>\n",
       "      <td>0</td>\n",
       "      <td>0</td>\n",
       "      <td>0</td>\n",
       "      <td>0</td>\n",
       "      <td>0</td>\n",
       "      <td>0</td>\n",
       "      <td>0</td>\n",
       "      <td>0</td>\n",
       "      <td>0</td>\n",
       "      <td>...</td>\n",
       "      <td>0</td>\n",
       "      <td>0</td>\n",
       "      <td>0</td>\n",
       "      <td>0</td>\n",
       "      <td>0</td>\n",
       "      <td>0</td>\n",
       "      <td>0</td>\n",
       "      <td>0</td>\n",
       "      <td>0</td>\n",
       "      <td>0</td>\n",
       "    </tr>\n",
       "    <tr>\n",
       "      <th>1</th>\n",
       "      <td>0</td>\n",
       "      <td>0</td>\n",
       "      <td>0</td>\n",
       "      <td>0</td>\n",
       "      <td>0</td>\n",
       "      <td>0</td>\n",
       "      <td>0</td>\n",
       "      <td>0</td>\n",
       "      <td>0</td>\n",
       "      <td>0</td>\n",
       "      <td>...</td>\n",
       "      <td>0</td>\n",
       "      <td>0</td>\n",
       "      <td>0</td>\n",
       "      <td>0</td>\n",
       "      <td>0</td>\n",
       "      <td>0</td>\n",
       "      <td>0</td>\n",
       "      <td>0</td>\n",
       "      <td>0</td>\n",
       "      <td>0</td>\n",
       "    </tr>\n",
       "    <tr>\n",
       "      <th>2</th>\n",
       "      <td>0</td>\n",
       "      <td>0</td>\n",
       "      <td>0</td>\n",
       "      <td>0</td>\n",
       "      <td>0</td>\n",
       "      <td>0</td>\n",
       "      <td>0</td>\n",
       "      <td>0</td>\n",
       "      <td>0</td>\n",
       "      <td>0</td>\n",
       "      <td>...</td>\n",
       "      <td>0</td>\n",
       "      <td>0</td>\n",
       "      <td>0</td>\n",
       "      <td>0</td>\n",
       "      <td>0</td>\n",
       "      <td>0</td>\n",
       "      <td>0</td>\n",
       "      <td>0</td>\n",
       "      <td>0</td>\n",
       "      <td>0</td>\n",
       "    </tr>\n",
       "    <tr>\n",
       "      <th>3</th>\n",
       "      <td>0</td>\n",
       "      <td>0</td>\n",
       "      <td>0</td>\n",
       "      <td>0</td>\n",
       "      <td>0</td>\n",
       "      <td>0</td>\n",
       "      <td>0</td>\n",
       "      <td>0</td>\n",
       "      <td>0</td>\n",
       "      <td>0</td>\n",
       "      <td>...</td>\n",
       "      <td>0</td>\n",
       "      <td>0</td>\n",
       "      <td>0</td>\n",
       "      <td>0</td>\n",
       "      <td>0</td>\n",
       "      <td>0</td>\n",
       "      <td>0</td>\n",
       "      <td>0</td>\n",
       "      <td>0</td>\n",
       "      <td>0</td>\n",
       "    </tr>\n",
       "    <tr>\n",
       "      <th>4</th>\n",
       "      <td>0</td>\n",
       "      <td>0</td>\n",
       "      <td>0</td>\n",
       "      <td>0</td>\n",
       "      <td>0</td>\n",
       "      <td>0</td>\n",
       "      <td>0</td>\n",
       "      <td>0</td>\n",
       "      <td>0</td>\n",
       "      <td>0</td>\n",
       "      <td>...</td>\n",
       "      <td>0</td>\n",
       "      <td>0</td>\n",
       "      <td>0</td>\n",
       "      <td>0</td>\n",
       "      <td>0</td>\n",
       "      <td>0</td>\n",
       "      <td>0</td>\n",
       "      <td>0</td>\n",
       "      <td>0</td>\n",
       "      <td>0</td>\n",
       "    </tr>\n",
       "  </tbody>\n",
       "</table>\n",
       "<p>5 rows × 9747 columns</p>\n",
       "</div>"
      ],
      "text/plain": [
       "   01  0100  018  0630  0734  0g  10  100  1000  100th  ...  zoe  zole  \\\n",
       "0   0     0    0     0     0   0   0    0     0      0  ...    0     0   \n",
       "1   0     0    0     0     0   0   0    0     0      0  ...    0     0   \n",
       "2   0     0    0     0     0   0   0    0     0      0  ...    0     0   \n",
       "3   0     0    0     0     0   0   0    0     0      0  ...    0     0   \n",
       "4   0     0    0     0     0   0   0    0     0      0  ...    0     0   \n",
       "\n",
       "   zombie  zoo  zooey  zoomin  zooming  zxxxx  zyxwvutsrqponmlkjihgfedcba  \\\n",
       "0       0    0      0       0        0      0                           0   \n",
       "1       0    0      0       0        0      0                           0   \n",
       "2       0    0      0       0        0      0                           0   \n",
       "3       0    0      0       0        0      0                           0   \n",
       "4       0    0      0       0        0      0                           0   \n",
       "\n",
       "   zzzzzzz  \n",
       "0        0  \n",
       "1        0  \n",
       "2        0  \n",
       "3        0  \n",
       "4        0  \n",
       "\n",
       "[5 rows x 9747 columns]"
      ]
     },
     "execution_count": 141,
     "metadata": {},
     "output_type": "execute_result"
    }
   ],
   "source": [
    "dfr_bow.head()"
   ]
  },
  {
   "cell_type": "code",
   "execution_count": 142,
   "id": "15709468",
   "metadata": {
    "execution": {
     "iopub.execute_input": "2023-05-15T06:59:55.316334Z",
     "iopub.status.busy": "2023-05-15T06:59:55.315186Z",
     "iopub.status.idle": "2023-05-15T06:59:55.317854Z",
     "shell.execute_reply": "2023-05-15T06:59:55.318445Z",
     "shell.execute_reply.started": "2021-12-14T04:42:18.474292Z"
    },
    "papermill": {
     "duration": 0.511337,
     "end_time": "2023-05-15T06:59:55.318635",
     "exception": false,
     "start_time": "2023-05-15T06:59:54.807298",
     "status": "completed"
    },
    "tags": []
   },
   "outputs": [],
   "source": [
    "## ML Algorithms"
   ]
  },
  {
   "cell_type": "code",
   "execution_count": 143,
   "id": "223f8b22",
   "metadata": {
    "execution": {
     "iopub.execute_input": "2023-05-15T06:59:56.339540Z",
     "iopub.status.busy": "2023-05-15T06:59:56.338447Z",
     "iopub.status.idle": "2023-05-15T06:59:56.450951Z",
     "shell.execute_reply": "2023-05-15T06:59:56.450166Z",
     "shell.execute_reply.started": "2021-12-14T04:42:18.480355Z"
    },
    "papermill": {
     "duration": 0.621406,
     "end_time": "2023-05-15T06:59:56.451113",
     "exception": false,
     "start_time": "2023-05-15T06:59:55.829707",
     "status": "completed"
    },
    "tags": []
   },
   "outputs": [],
   "source": [
    "from sklearn.linear_model import SGDClassifier\n",
    "from sklearn.linear_model import LogisticRegression\n",
    "from sklearn.linear_model import LogisticRegressionCV\n",
    "from sklearn.svm import LinearSVC\n",
    "from sklearn.ensemble import RandomForestClassifier\n",
    "\n",
    "from sklearn.model_selection import train_test_split\n",
    "from sklearn.metrics import confusion_matrix, accuracy_score\n",
    "from sklearn.preprocessing import MinMaxScaler\n"
   ]
  },
  {
   "cell_type": "code",
   "execution_count": 144,
   "id": "3436db37",
   "metadata": {
    "execution": {
     "iopub.execute_input": "2023-05-15T06:59:57.471557Z",
     "iopub.status.busy": "2023-05-15T06:59:57.470746Z",
     "iopub.status.idle": "2023-05-15T06:59:57.474579Z",
     "shell.execute_reply": "2023-05-15T06:59:57.473837Z",
     "shell.execute_reply.started": "2021-12-14T04:42:18.607104Z"
    },
    "papermill": {
     "duration": 0.521957,
     "end_time": "2023-05-15T06:59:57.474760",
     "exception": false,
     "start_time": "2023-05-15T06:59:56.952803",
     "status": "completed"
    },
    "tags": []
   },
   "outputs": [],
   "source": [
    "sgd = SGDClassifier(n_jobs=-1,random_state = 42, max_iter=200)\n",
    "lgr = LogisticRegression(random_state = 42, max_iter = 200)\n",
    "lgrcv =  LogisticRegressionCV(cv = 2, random_state = 42, max_iter=1000)\n",
    "svm = LinearSVC(random_state = 42, max_iter = 200)\n",
    "rfc = RandomForestClassifier(random_state = 42, n_jobs = -1, n_estimators = 200)"
   ]
  },
  {
   "cell_type": "code",
   "execution_count": 145,
   "id": "05cfad09",
   "metadata": {
    "execution": {
     "iopub.execute_input": "2023-05-15T06:59:58.518913Z",
     "iopub.status.busy": "2023-05-15T06:59:58.517798Z",
     "iopub.status.idle": "2023-05-15T06:59:58.523692Z",
     "shell.execute_reply": "2023-05-15T06:59:58.523055Z",
     "shell.execute_reply.started": "2021-12-14T04:42:18.615793Z"
    },
    "papermill": {
     "duration": 0.54216,
     "end_time": "2023-05-15T06:59:58.523866",
     "exception": false,
     "start_time": "2023-05-15T06:59:57.981706",
     "status": "completed"
    },
    "tags": []
   },
   "outputs": [],
   "source": [
    "clf = {'SGD' : sgd, 'LGR':lgr, 'LGR-CV':lgrcv, 'SVM':svm, 'RFC':rfc}"
   ]
  },
  {
   "cell_type": "code",
   "execution_count": 146,
   "id": "83103c31",
   "metadata": {
    "execution": {
     "iopub.execute_input": "2023-05-15T06:59:59.538273Z",
     "iopub.status.busy": "2023-05-15T06:59:59.537150Z",
     "iopub.status.idle": "2023-05-15T06:59:59.543355Z",
     "shell.execute_reply": "2023-05-15T06:59:59.544010Z",
     "shell.execute_reply.started": "2021-12-14T04:42:18.630078Z"
    },
    "papermill": {
     "duration": 0.51658,
     "end_time": "2023-05-15T06:59:59.544203",
     "exception": false,
     "start_time": "2023-05-15T06:59:59.027623",
     "status": "completed"
    },
    "tags": []
   },
   "outputs": [
    {
     "data": {
      "text/plain": [
       "dict_keys(['SGD', 'LGR', 'LGR-CV', 'SVM', 'RFC'])"
      ]
     },
     "execution_count": 146,
     "metadata": {},
     "output_type": "execute_result"
    }
   ],
   "source": [
    "clf.keys()"
   ]
  },
  {
   "cell_type": "code",
   "execution_count": 147,
   "id": "ea03b54a",
   "metadata": {
    "execution": {
     "iopub.execute_input": "2023-05-15T07:00:00.554468Z",
     "iopub.status.busy": "2023-05-15T07:00:00.553417Z",
     "iopub.status.idle": "2023-05-15T07:00:00.560883Z",
     "shell.execute_reply": "2023-05-15T07:00:00.561474Z",
     "shell.execute_reply.started": "2021-12-14T04:42:18.644205Z"
    },
    "papermill": {
     "duration": 0.514888,
     "end_time": "2023-05-15T07:00:00.561664",
     "exception": false,
     "start_time": "2023-05-15T07:00:00.046776",
     "status": "completed"
    },
    "tags": []
   },
   "outputs": [],
   "source": [
    "def classify(X, y):\n",
    "    scaler = MinMaxScaler(feature_range=(0,1))\n",
    "    X = scaler.fit_transform(X)\n",
    "    \n",
    "    X_train, X_test, y_train, y_test = train_test_split(X, y, test_size = 0.2, random_state = 42, stratify = y )\n",
    "    \n",
    "    for key in clf.keys():\n",
    "        clf[key].fit(X_train, y_train)\n",
    "        y_pred = clf[key].predict(X_test)\n",
    "        ac = accuracy_score(y_test, y_pred)\n",
    "        print(key, \" ---> \", ac)"
   ]
  },
  {
   "cell_type": "code",
   "execution_count": 148,
   "id": "d4970c37",
   "metadata": {
    "execution": {
     "iopub.execute_input": "2023-05-15T07:00:01.589457Z",
     "iopub.status.busy": "2023-05-15T07:00:01.588325Z",
     "iopub.status.idle": "2023-05-15T07:00:58.732941Z",
     "shell.execute_reply": "2023-05-15T07:00:58.733564Z",
     "shell.execute_reply.started": "2021-12-14T04:42:18.655263Z"
    },
    "papermill": {
     "duration": 57.663868,
     "end_time": "2023-05-15T07:00:58.733799",
     "exception": false,
     "start_time": "2023-05-15T07:00:01.069931",
     "status": "completed"
    },
    "tags": []
   },
   "outputs": [
    {
     "name": "stdout",
     "output_type": "stream",
     "text": [
      "SGD  --->  0.67125\n",
      "LGR  --->  0.66375\n",
      "LGR-CV  --->  0.66625\n",
      "SVM  --->  0.66375\n",
      "RFC  --->  0.63375\n",
      "CPU times: user 3min 6s, sys: 23.1 s, total: 3min 29s\n",
      "Wall time: 56.6 s\n"
     ]
    }
   ],
   "source": [
    "%%time\n",
    "classify(dfr_bow, y)"
   ]
  },
  {
   "cell_type": "code",
   "execution_count": 149,
   "id": "0800177e",
   "metadata": {
    "execution": {
     "iopub.execute_input": "2023-05-15T07:00:59.857298Z",
     "iopub.status.busy": "2023-05-15T07:00:59.856001Z",
     "iopub.status.idle": "2023-05-15T07:00:59.858645Z",
     "shell.execute_reply": "2023-05-15T07:00:59.859322Z",
     "shell.execute_reply.started": "2021-12-14T04:43:36.264163Z"
    },
    "papermill": {
     "duration": 0.62099,
     "end_time": "2023-05-15T07:00:59.859600",
     "exception": false,
     "start_time": "2023-05-15T07:00:59.238610",
     "status": "completed"
    },
    "tags": []
   },
   "outputs": [],
   "source": [
    "##### Manual Feature"
   ]
  },
  {
   "cell_type": "code",
   "execution_count": 150,
   "id": "9a0701b6",
   "metadata": {
    "execution": {
     "iopub.execute_input": "2023-05-15T07:01:01.210516Z",
     "iopub.status.busy": "2023-05-15T07:01:01.209765Z",
     "iopub.status.idle": "2023-05-15T07:01:01.224444Z",
     "shell.execute_reply": "2023-05-15T07:01:01.225174Z",
     "shell.execute_reply.started": "2021-12-14T04:43:36.271124Z"
    },
    "papermill": {
     "duration": 0.700698,
     "end_time": "2023-05-15T07:01:01.225435",
     "exception": false,
     "start_time": "2023-05-15T07:01:00.524737",
     "status": "completed"
    },
    "tags": []
   },
   "outputs": [
    {
     "data": {
      "text/html": [
       "<div>\n",
       "<style scoped>\n",
       "    .dataframe tbody tr th:only-of-type {\n",
       "        vertical-align: middle;\n",
       "    }\n",
       "\n",
       "    .dataframe tbody tr th {\n",
       "        vertical-align: top;\n",
       "    }\n",
       "\n",
       "    .dataframe thead th {\n",
       "        text-align: right;\n",
       "    }\n",
       "</style>\n",
       "<table border=\"1\" class=\"dataframe\">\n",
       "  <thead>\n",
       "    <tr style=\"text-align: right;\">\n",
       "      <th></th>\n",
       "      <th>word_counts</th>\n",
       "      <th>char_counts</th>\n",
       "      <th>avg_word_len</th>\n",
       "      <th>stop_words_len</th>\n",
       "      <th>hashtags_count</th>\n",
       "      <th>mentions_count</th>\n",
       "      <th>numerics_count</th>\n",
       "      <th>upper_counts</th>\n",
       "      <th>emails_count</th>\n",
       "      <th>urls_flag</th>\n",
       "    </tr>\n",
       "  </thead>\n",
       "  <tbody>\n",
       "    <tr>\n",
       "      <th>303130</th>\n",
       "      <td>13</td>\n",
       "      <td>73</td>\n",
       "      <td>4.615385</td>\n",
       "      <td>4</td>\n",
       "      <td>0</td>\n",
       "      <td>0</td>\n",
       "      <td>0</td>\n",
       "      <td>0</td>\n",
       "      <td>0</td>\n",
       "      <td>0</td>\n",
       "    </tr>\n",
       "    <tr>\n",
       "      <th>234715</th>\n",
       "      <td>12</td>\n",
       "      <td>63</td>\n",
       "      <td>4.250000</td>\n",
       "      <td>4</td>\n",
       "      <td>0</td>\n",
       "      <td>0</td>\n",
       "      <td>0</td>\n",
       "      <td>0</td>\n",
       "      <td>0</td>\n",
       "      <td>0</td>\n",
       "    </tr>\n",
       "    <tr>\n",
       "      <th>346731</th>\n",
       "      <td>25</td>\n",
       "      <td>121</td>\n",
       "      <td>3.840000</td>\n",
       "      <td>12</td>\n",
       "      <td>0</td>\n",
       "      <td>1</td>\n",
       "      <td>0</td>\n",
       "      <td>1</td>\n",
       "      <td>0</td>\n",
       "      <td>0</td>\n",
       "    </tr>\n",
       "    <tr>\n",
       "      <th>756186</th>\n",
       "      <td>7</td>\n",
       "      <td>48</td>\n",
       "      <td>5.714286</td>\n",
       "      <td>2</td>\n",
       "      <td>2</td>\n",
       "      <td>0</td>\n",
       "      <td>0</td>\n",
       "      <td>1</td>\n",
       "      <td>0</td>\n",
       "      <td>0</td>\n",
       "    </tr>\n",
       "    <tr>\n",
       "      <th>332950</th>\n",
       "      <td>13</td>\n",
       "      <td>60</td>\n",
       "      <td>3.615385</td>\n",
       "      <td>7</td>\n",
       "      <td>0</td>\n",
       "      <td>0</td>\n",
       "      <td>0</td>\n",
       "      <td>0</td>\n",
       "      <td>0</td>\n",
       "      <td>0</td>\n",
       "    </tr>\n",
       "    <tr>\n",
       "      <th>...</th>\n",
       "      <td>...</td>\n",
       "      <td>...</td>\n",
       "      <td>...</td>\n",
       "      <td>...</td>\n",
       "      <td>...</td>\n",
       "      <td>...</td>\n",
       "      <td>...</td>\n",
       "      <td>...</td>\n",
       "      <td>...</td>\n",
       "      <td>...</td>\n",
       "    </tr>\n",
       "    <tr>\n",
       "      <th>1338788</th>\n",
       "      <td>14</td>\n",
       "      <td>86</td>\n",
       "      <td>5.071429</td>\n",
       "      <td>4</td>\n",
       "      <td>0</td>\n",
       "      <td>2</td>\n",
       "      <td>0</td>\n",
       "      <td>1</td>\n",
       "      <td>0</td>\n",
       "      <td>0</td>\n",
       "    </tr>\n",
       "    <tr>\n",
       "      <th>1206489</th>\n",
       "      <td>13</td>\n",
       "      <td>90</td>\n",
       "      <td>5.923077</td>\n",
       "      <td>3</td>\n",
       "      <td>0</td>\n",
       "      <td>0</td>\n",
       "      <td>0</td>\n",
       "      <td>0</td>\n",
       "      <td>0</td>\n",
       "      <td>0</td>\n",
       "    </tr>\n",
       "    <tr>\n",
       "      <th>1309503</th>\n",
       "      <td>26</td>\n",
       "      <td>140</td>\n",
       "      <td>4.384615</td>\n",
       "      <td>9</td>\n",
       "      <td>0</td>\n",
       "      <td>0</td>\n",
       "      <td>0</td>\n",
       "      <td>2</td>\n",
       "      <td>0</td>\n",
       "      <td>0</td>\n",
       "    </tr>\n",
       "    <tr>\n",
       "      <th>902763</th>\n",
       "      <td>15</td>\n",
       "      <td>90</td>\n",
       "      <td>5.000000</td>\n",
       "      <td>6</td>\n",
       "      <td>0</td>\n",
       "      <td>1</td>\n",
       "      <td>0</td>\n",
       "      <td>0</td>\n",
       "      <td>0</td>\n",
       "      <td>0</td>\n",
       "    </tr>\n",
       "    <tr>\n",
       "      <th>938754</th>\n",
       "      <td>12</td>\n",
       "      <td>72</td>\n",
       "      <td>5.000000</td>\n",
       "      <td>2</td>\n",
       "      <td>0</td>\n",
       "      <td>1</td>\n",
       "      <td>0</td>\n",
       "      <td>0</td>\n",
       "      <td>0</td>\n",
       "      <td>0</td>\n",
       "    </tr>\n",
       "  </tbody>\n",
       "</table>\n",
       "<p>4000 rows × 10 columns</p>\n",
       "</div>"
      ],
      "text/plain": [
       "         word_counts  char_counts  avg_word_len  stop_words_len  \\\n",
       "303130            13           73      4.615385               4   \n",
       "234715            12           63      4.250000               4   \n",
       "346731            25          121      3.840000              12   \n",
       "756186             7           48      5.714286               2   \n",
       "332950            13           60      3.615385               7   \n",
       "...              ...          ...           ...             ...   \n",
       "1338788           14           86      5.071429               4   \n",
       "1206489           13           90      5.923077               3   \n",
       "1309503           26          140      4.384615               9   \n",
       "902763            15           90      5.000000               6   \n",
       "938754            12           72      5.000000               2   \n",
       "\n",
       "         hashtags_count  mentions_count  numerics_count  upper_counts  \\\n",
       "303130                0               0               0             0   \n",
       "234715                0               0               0             0   \n",
       "346731                0               1               0             1   \n",
       "756186                2               0               0             1   \n",
       "332950                0               0               0             0   \n",
       "...                 ...             ...             ...           ...   \n",
       "1338788               0               2               0             1   \n",
       "1206489               0               0               0             0   \n",
       "1309503               0               0               0             2   \n",
       "902763                0               1               0             0   \n",
       "938754                0               1               0             0   \n",
       "\n",
       "         emails_count  urls_flag  \n",
       "303130              0          0  \n",
       "234715              0          0  \n",
       "346731              0          0  \n",
       "756186              0          0  \n",
       "332950              0          0  \n",
       "...               ...        ...  \n",
       "1338788             0          0  \n",
       "1206489             0          0  \n",
       "1309503             0          0  \n",
       "902763              0          0  \n",
       "938754              0          0  \n",
       "\n",
       "[4000 rows x 10 columns]"
      ]
     },
     "execution_count": 150,
     "metadata": {},
     "output_type": "execute_result"
    }
   ],
   "source": [
    "dfr_feat"
   ]
  },
  {
   "cell_type": "code",
   "execution_count": 151,
   "id": "632220c6",
   "metadata": {
    "execution": {
     "iopub.execute_input": "2023-05-15T07:01:02.540205Z",
     "iopub.status.busy": "2023-05-15T07:01:02.539392Z",
     "iopub.status.idle": "2023-05-15T07:01:02.557377Z",
     "shell.execute_reply": "2023-05-15T07:01:02.557999Z",
     "shell.execute_reply.started": "2021-12-14T04:43:36.296546Z"
    },
    "papermill": {
     "duration": 0.616906,
     "end_time": "2023-05-15T07:01:02.558224",
     "exception": false,
     "start_time": "2023-05-15T07:01:01.941318",
     "status": "completed"
    },
    "tags": []
   },
   "outputs": [
    {
     "data": {
      "text/html": [
       "<div>\n",
       "<style scoped>\n",
       "    .dataframe tbody tr th:only-of-type {\n",
       "        vertical-align: middle;\n",
       "    }\n",
       "\n",
       "    .dataframe tbody tr th {\n",
       "        vertical-align: top;\n",
       "    }\n",
       "\n",
       "    .dataframe thead th {\n",
       "        text-align: right;\n",
       "    }\n",
       "</style>\n",
       "<table border=\"1\" class=\"dataframe\">\n",
       "  <thead>\n",
       "    <tr style=\"text-align: right;\">\n",
       "      <th></th>\n",
       "      <th>word_counts</th>\n",
       "      <th>char_counts</th>\n",
       "      <th>avg_word_len</th>\n",
       "      <th>stop_words_len</th>\n",
       "      <th>hashtags_count</th>\n",
       "      <th>mentions_count</th>\n",
       "      <th>numerics_count</th>\n",
       "      <th>upper_counts</th>\n",
       "      <th>emails_count</th>\n",
       "      <th>urls_flag</th>\n",
       "    </tr>\n",
       "  </thead>\n",
       "  <tbody>\n",
       "    <tr>\n",
       "      <th>303130</th>\n",
       "      <td>13</td>\n",
       "      <td>73</td>\n",
       "      <td>4.615385</td>\n",
       "      <td>4</td>\n",
       "      <td>0</td>\n",
       "      <td>0</td>\n",
       "      <td>0</td>\n",
       "      <td>0</td>\n",
       "      <td>0</td>\n",
       "      <td>0</td>\n",
       "    </tr>\n",
       "    <tr>\n",
       "      <th>234715</th>\n",
       "      <td>12</td>\n",
       "      <td>63</td>\n",
       "      <td>4.250000</td>\n",
       "      <td>4</td>\n",
       "      <td>0</td>\n",
       "      <td>0</td>\n",
       "      <td>0</td>\n",
       "      <td>0</td>\n",
       "      <td>0</td>\n",
       "      <td>0</td>\n",
       "    </tr>\n",
       "  </tbody>\n",
       "</table>\n",
       "</div>"
      ],
      "text/plain": [
       "        word_counts  char_counts  avg_word_len  stop_words_len  \\\n",
       "303130           13           73      4.615385               4   \n",
       "234715           12           63      4.250000               4   \n",
       "\n",
       "        hashtags_count  mentions_count  numerics_count  upper_counts  \\\n",
       "303130               0               0               0             0   \n",
       "234715               0               0               0             0   \n",
       "\n",
       "        emails_count  urls_flag  \n",
       "303130             0          0  \n",
       "234715             0          0  "
      ]
     },
     "execution_count": 151,
     "metadata": {},
     "output_type": "execute_result"
    }
   ],
   "source": [
    "dfr_feat.head(2)"
   ]
  },
  {
   "cell_type": "code",
   "execution_count": 152,
   "id": "05d29962",
   "metadata": {
    "execution": {
     "iopub.execute_input": "2023-05-15T07:01:03.921019Z",
     "iopub.status.busy": "2023-05-15T07:01:03.920105Z",
     "iopub.status.idle": "2023-05-15T07:01:06.257079Z",
     "shell.execute_reply": "2023-05-15T07:01:06.256079Z",
     "shell.execute_reply.started": "2021-12-14T04:43:36.317014Z"
    },
    "papermill": {
     "duration": 3.026476,
     "end_time": "2023-05-15T07:01:06.257275",
     "exception": false,
     "start_time": "2023-05-15T07:01:03.230799",
     "status": "completed"
    },
    "tags": []
   },
   "outputs": [
    {
     "name": "stdout",
     "output_type": "stream",
     "text": [
      "SGD  --->  0.57625\n",
      "LGR  --->  0.5825\n",
      "LGR-CV  --->  0.575\n",
      "SVM  --->  0.58125\n",
      "RFC  --->  0.53\n",
      "CPU times: user 3.72 s, sys: 1.87 s, total: 5.58 s\n",
      "Wall time: 2.34 s\n"
     ]
    }
   ],
   "source": [
    "%%time\n",
    "classify(dfr_feat, y)"
   ]
  },
  {
   "cell_type": "code",
   "execution_count": 153,
   "id": "ab50d64e",
   "metadata": {
    "execution": {
     "iopub.execute_input": "2023-05-15T07:01:07.603373Z",
     "iopub.status.busy": "2023-05-15T07:01:07.602293Z",
     "iopub.status.idle": "2023-05-15T07:01:07.606167Z",
     "shell.execute_reply": "2023-05-15T07:01:07.605547Z",
     "shell.execute_reply.started": "2021-12-14T04:43:37.873714Z"
    },
    "papermill": {
     "duration": 0.690056,
     "end_time": "2023-05-15T07:01:07.606333",
     "exception": false,
     "start_time": "2023-05-15T07:01:06.916277",
     "status": "completed"
    },
    "tags": []
   },
   "outputs": [],
   "source": [
    "##### Manual + Bow"
   ]
  },
  {
   "cell_type": "code",
   "execution_count": 154,
   "id": "858ab9ad",
   "metadata": {
    "execution": {
     "iopub.execute_input": "2023-05-15T07:01:09.061231Z",
     "iopub.status.busy": "2023-05-15T07:01:08.940386Z",
     "iopub.status.idle": "2023-05-15T07:01:09.320108Z",
     "shell.execute_reply": "2023-05-15T07:01:09.319364Z",
     "shell.execute_reply.started": "2021-12-14T04:43:37.878089Z"
    },
    "papermill": {
     "duration": 1.034882,
     "end_time": "2023-05-15T07:01:09.320270",
     "exception": false,
     "start_time": "2023-05-15T07:01:08.285388",
     "status": "completed"
    },
    "tags": []
   },
   "outputs": [
    {
     "data": {
      "text/html": [
       "<div>\n",
       "<style scoped>\n",
       "    .dataframe tbody tr th:only-of-type {\n",
       "        vertical-align: middle;\n",
       "    }\n",
       "\n",
       "    .dataframe tbody tr th {\n",
       "        vertical-align: top;\n",
       "    }\n",
       "\n",
       "    .dataframe thead th {\n",
       "        text-align: right;\n",
       "    }\n",
       "</style>\n",
       "<table border=\"1\" class=\"dataframe\">\n",
       "  <thead>\n",
       "    <tr style=\"text-align: right;\">\n",
       "      <th></th>\n",
       "      <th>word_counts</th>\n",
       "      <th>char_counts</th>\n",
       "      <th>avg_word_len</th>\n",
       "      <th>stop_words_len</th>\n",
       "      <th>hashtags_count</th>\n",
       "      <th>mentions_count</th>\n",
       "      <th>numerics_count</th>\n",
       "      <th>upper_counts</th>\n",
       "      <th>emails_count</th>\n",
       "      <th>urls_flag</th>\n",
       "      <th>...</th>\n",
       "      <th>zoe</th>\n",
       "      <th>zole</th>\n",
       "      <th>zombie</th>\n",
       "      <th>zoo</th>\n",
       "      <th>zooey</th>\n",
       "      <th>zoomin</th>\n",
       "      <th>zooming</th>\n",
       "      <th>zxxxx</th>\n",
       "      <th>zyxwvutsrqponmlkjihgfedcba</th>\n",
       "      <th>zzzzzzz</th>\n",
       "    </tr>\n",
       "  </thead>\n",
       "  <tbody>\n",
       "    <tr>\n",
       "      <th>303130</th>\n",
       "      <td>13</td>\n",
       "      <td>73</td>\n",
       "      <td>4.615385</td>\n",
       "      <td>4</td>\n",
       "      <td>0</td>\n",
       "      <td>0</td>\n",
       "      <td>0</td>\n",
       "      <td>0</td>\n",
       "      <td>0</td>\n",
       "      <td>0</td>\n",
       "      <td>...</td>\n",
       "      <td>NaN</td>\n",
       "      <td>NaN</td>\n",
       "      <td>NaN</td>\n",
       "      <td>NaN</td>\n",
       "      <td>NaN</td>\n",
       "      <td>NaN</td>\n",
       "      <td>NaN</td>\n",
       "      <td>NaN</td>\n",
       "      <td>NaN</td>\n",
       "      <td>NaN</td>\n",
       "    </tr>\n",
       "    <tr>\n",
       "      <th>234715</th>\n",
       "      <td>12</td>\n",
       "      <td>63</td>\n",
       "      <td>4.250000</td>\n",
       "      <td>4</td>\n",
       "      <td>0</td>\n",
       "      <td>0</td>\n",
       "      <td>0</td>\n",
       "      <td>0</td>\n",
       "      <td>0</td>\n",
       "      <td>0</td>\n",
       "      <td>...</td>\n",
       "      <td>NaN</td>\n",
       "      <td>NaN</td>\n",
       "      <td>NaN</td>\n",
       "      <td>NaN</td>\n",
       "      <td>NaN</td>\n",
       "      <td>NaN</td>\n",
       "      <td>NaN</td>\n",
       "      <td>NaN</td>\n",
       "      <td>NaN</td>\n",
       "      <td>NaN</td>\n",
       "    </tr>\n",
       "    <tr>\n",
       "      <th>346731</th>\n",
       "      <td>25</td>\n",
       "      <td>121</td>\n",
       "      <td>3.840000</td>\n",
       "      <td>12</td>\n",
       "      <td>0</td>\n",
       "      <td>1</td>\n",
       "      <td>0</td>\n",
       "      <td>1</td>\n",
       "      <td>0</td>\n",
       "      <td>0</td>\n",
       "      <td>...</td>\n",
       "      <td>NaN</td>\n",
       "      <td>NaN</td>\n",
       "      <td>NaN</td>\n",
       "      <td>NaN</td>\n",
       "      <td>NaN</td>\n",
       "      <td>NaN</td>\n",
       "      <td>NaN</td>\n",
       "      <td>NaN</td>\n",
       "      <td>NaN</td>\n",
       "      <td>NaN</td>\n",
       "    </tr>\n",
       "    <tr>\n",
       "      <th>756186</th>\n",
       "      <td>7</td>\n",
       "      <td>48</td>\n",
       "      <td>5.714286</td>\n",
       "      <td>2</td>\n",
       "      <td>2</td>\n",
       "      <td>0</td>\n",
       "      <td>0</td>\n",
       "      <td>1</td>\n",
       "      <td>0</td>\n",
       "      <td>0</td>\n",
       "      <td>...</td>\n",
       "      <td>NaN</td>\n",
       "      <td>NaN</td>\n",
       "      <td>NaN</td>\n",
       "      <td>NaN</td>\n",
       "      <td>NaN</td>\n",
       "      <td>NaN</td>\n",
       "      <td>NaN</td>\n",
       "      <td>NaN</td>\n",
       "      <td>NaN</td>\n",
       "      <td>NaN</td>\n",
       "    </tr>\n",
       "    <tr>\n",
       "      <th>332950</th>\n",
       "      <td>13</td>\n",
       "      <td>60</td>\n",
       "      <td>3.615385</td>\n",
       "      <td>7</td>\n",
       "      <td>0</td>\n",
       "      <td>0</td>\n",
       "      <td>0</td>\n",
       "      <td>0</td>\n",
       "      <td>0</td>\n",
       "      <td>0</td>\n",
       "      <td>...</td>\n",
       "      <td>NaN</td>\n",
       "      <td>NaN</td>\n",
       "      <td>NaN</td>\n",
       "      <td>NaN</td>\n",
       "      <td>NaN</td>\n",
       "      <td>NaN</td>\n",
       "      <td>NaN</td>\n",
       "      <td>NaN</td>\n",
       "      <td>NaN</td>\n",
       "      <td>NaN</td>\n",
       "    </tr>\n",
       "    <tr>\n",
       "      <th>...</th>\n",
       "      <td>...</td>\n",
       "      <td>...</td>\n",
       "      <td>...</td>\n",
       "      <td>...</td>\n",
       "      <td>...</td>\n",
       "      <td>...</td>\n",
       "      <td>...</td>\n",
       "      <td>...</td>\n",
       "      <td>...</td>\n",
       "      <td>...</td>\n",
       "      <td>...</td>\n",
       "      <td>...</td>\n",
       "      <td>...</td>\n",
       "      <td>...</td>\n",
       "      <td>...</td>\n",
       "      <td>...</td>\n",
       "      <td>...</td>\n",
       "      <td>...</td>\n",
       "      <td>...</td>\n",
       "      <td>...</td>\n",
       "      <td>...</td>\n",
       "    </tr>\n",
       "    <tr>\n",
       "      <th>1338788</th>\n",
       "      <td>14</td>\n",
       "      <td>86</td>\n",
       "      <td>5.071429</td>\n",
       "      <td>4</td>\n",
       "      <td>0</td>\n",
       "      <td>2</td>\n",
       "      <td>0</td>\n",
       "      <td>1</td>\n",
       "      <td>0</td>\n",
       "      <td>0</td>\n",
       "      <td>...</td>\n",
       "      <td>NaN</td>\n",
       "      <td>NaN</td>\n",
       "      <td>NaN</td>\n",
       "      <td>NaN</td>\n",
       "      <td>NaN</td>\n",
       "      <td>NaN</td>\n",
       "      <td>NaN</td>\n",
       "      <td>NaN</td>\n",
       "      <td>NaN</td>\n",
       "      <td>NaN</td>\n",
       "    </tr>\n",
       "    <tr>\n",
       "      <th>1206489</th>\n",
       "      <td>13</td>\n",
       "      <td>90</td>\n",
       "      <td>5.923077</td>\n",
       "      <td>3</td>\n",
       "      <td>0</td>\n",
       "      <td>0</td>\n",
       "      <td>0</td>\n",
       "      <td>0</td>\n",
       "      <td>0</td>\n",
       "      <td>0</td>\n",
       "      <td>...</td>\n",
       "      <td>NaN</td>\n",
       "      <td>NaN</td>\n",
       "      <td>NaN</td>\n",
       "      <td>NaN</td>\n",
       "      <td>NaN</td>\n",
       "      <td>NaN</td>\n",
       "      <td>NaN</td>\n",
       "      <td>NaN</td>\n",
       "      <td>NaN</td>\n",
       "      <td>NaN</td>\n",
       "    </tr>\n",
       "    <tr>\n",
       "      <th>1309503</th>\n",
       "      <td>26</td>\n",
       "      <td>140</td>\n",
       "      <td>4.384615</td>\n",
       "      <td>9</td>\n",
       "      <td>0</td>\n",
       "      <td>0</td>\n",
       "      <td>0</td>\n",
       "      <td>2</td>\n",
       "      <td>0</td>\n",
       "      <td>0</td>\n",
       "      <td>...</td>\n",
       "      <td>NaN</td>\n",
       "      <td>NaN</td>\n",
       "      <td>NaN</td>\n",
       "      <td>NaN</td>\n",
       "      <td>NaN</td>\n",
       "      <td>NaN</td>\n",
       "      <td>NaN</td>\n",
       "      <td>NaN</td>\n",
       "      <td>NaN</td>\n",
       "      <td>NaN</td>\n",
       "    </tr>\n",
       "    <tr>\n",
       "      <th>902763</th>\n",
       "      <td>15</td>\n",
       "      <td>90</td>\n",
       "      <td>5.000000</td>\n",
       "      <td>6</td>\n",
       "      <td>0</td>\n",
       "      <td>1</td>\n",
       "      <td>0</td>\n",
       "      <td>0</td>\n",
       "      <td>0</td>\n",
       "      <td>0</td>\n",
       "      <td>...</td>\n",
       "      <td>NaN</td>\n",
       "      <td>NaN</td>\n",
       "      <td>NaN</td>\n",
       "      <td>NaN</td>\n",
       "      <td>NaN</td>\n",
       "      <td>NaN</td>\n",
       "      <td>NaN</td>\n",
       "      <td>NaN</td>\n",
       "      <td>NaN</td>\n",
       "      <td>NaN</td>\n",
       "    </tr>\n",
       "    <tr>\n",
       "      <th>938754</th>\n",
       "      <td>12</td>\n",
       "      <td>72</td>\n",
       "      <td>5.000000</td>\n",
       "      <td>2</td>\n",
       "      <td>0</td>\n",
       "      <td>1</td>\n",
       "      <td>0</td>\n",
       "      <td>0</td>\n",
       "      <td>0</td>\n",
       "      <td>0</td>\n",
       "      <td>...</td>\n",
       "      <td>NaN</td>\n",
       "      <td>NaN</td>\n",
       "      <td>NaN</td>\n",
       "      <td>NaN</td>\n",
       "      <td>NaN</td>\n",
       "      <td>NaN</td>\n",
       "      <td>NaN</td>\n",
       "      <td>NaN</td>\n",
       "      <td>NaN</td>\n",
       "      <td>NaN</td>\n",
       "    </tr>\n",
       "  </tbody>\n",
       "</table>\n",
       "<p>4000 rows × 9757 columns</p>\n",
       "</div>"
      ],
      "text/plain": [
       "         word_counts  char_counts  avg_word_len  stop_words_len  \\\n",
       "303130            13           73      4.615385               4   \n",
       "234715            12           63      4.250000               4   \n",
       "346731            25          121      3.840000              12   \n",
       "756186             7           48      5.714286               2   \n",
       "332950            13           60      3.615385               7   \n",
       "...              ...          ...           ...             ...   \n",
       "1338788           14           86      5.071429               4   \n",
       "1206489           13           90      5.923077               3   \n",
       "1309503           26          140      4.384615               9   \n",
       "902763            15           90      5.000000               6   \n",
       "938754            12           72      5.000000               2   \n",
       "\n",
       "         hashtags_count  mentions_count  numerics_count  upper_counts  \\\n",
       "303130                0               0               0             0   \n",
       "234715                0               0               0             0   \n",
       "346731                0               1               0             1   \n",
       "756186                2               0               0             1   \n",
       "332950                0               0               0             0   \n",
       "...                 ...             ...             ...           ...   \n",
       "1338788               0               2               0             1   \n",
       "1206489               0               0               0             0   \n",
       "1309503               0               0               0             2   \n",
       "902763                0               1               0             0   \n",
       "938754                0               1               0             0   \n",
       "\n",
       "         emails_count  urls_flag  ...  zoe  zole  zombie  zoo  zooey  zoomin  \\\n",
       "303130              0          0  ...  NaN   NaN     NaN  NaN    NaN     NaN   \n",
       "234715              0          0  ...  NaN   NaN     NaN  NaN    NaN     NaN   \n",
       "346731              0          0  ...  NaN   NaN     NaN  NaN    NaN     NaN   \n",
       "756186              0          0  ...  NaN   NaN     NaN  NaN    NaN     NaN   \n",
       "332950              0          0  ...  NaN   NaN     NaN  NaN    NaN     NaN   \n",
       "...               ...        ...  ...  ...   ...     ...  ...    ...     ...   \n",
       "1338788             0          0  ...  NaN   NaN     NaN  NaN    NaN     NaN   \n",
       "1206489             0          0  ...  NaN   NaN     NaN  NaN    NaN     NaN   \n",
       "1309503             0          0  ...  NaN   NaN     NaN  NaN    NaN     NaN   \n",
       "902763              0          0  ...  NaN   NaN     NaN  NaN    NaN     NaN   \n",
       "938754              0          0  ...  NaN   NaN     NaN  NaN    NaN     NaN   \n",
       "\n",
       "         zooming  zxxxx  zyxwvutsrqponmlkjihgfedcba  zzzzzzz  \n",
       "303130       NaN    NaN                         NaN      NaN  \n",
       "234715       NaN    NaN                         NaN      NaN  \n",
       "346731       NaN    NaN                         NaN      NaN  \n",
       "756186       NaN    NaN                         NaN      NaN  \n",
       "332950       NaN    NaN                         NaN      NaN  \n",
       "...          ...    ...                         ...      ...  \n",
       "1338788      NaN    NaN                         NaN      NaN  \n",
       "1206489      NaN    NaN                         NaN      NaN  \n",
       "1309503      NaN    NaN                         NaN      NaN  \n",
       "902763       NaN    NaN                         NaN      NaN  \n",
       "938754       NaN    NaN                         NaN      NaN  \n",
       "\n",
       "[4000 rows x 9757 columns]"
      ]
     },
     "execution_count": 154,
     "metadata": {},
     "output_type": "execute_result"
    }
   ],
   "source": [
    "X  = dfr_feat.join(dfr_bow)\n",
    "X"
   ]
  },
  {
   "cell_type": "code",
   "execution_count": 155,
   "id": "2a971845",
   "metadata": {
    "execution": {
     "iopub.execute_input": "2023-05-15T07:01:10.692462Z",
     "iopub.status.busy": "2023-05-15T07:01:10.691356Z",
     "iopub.status.idle": "2023-05-15T07:01:10.694748Z",
     "shell.execute_reply": "2023-05-15T07:01:10.694034Z",
     "shell.execute_reply.started": "2021-12-14T04:43:38.333053Z"
    },
    "papermill": {
     "duration": 0.662417,
     "end_time": "2023-05-15T07:01:10.694915",
     "exception": false,
     "start_time": "2023-05-15T07:01:10.032498",
     "status": "completed"
    },
    "tags": []
   },
   "outputs": [],
   "source": [
    "##TFIDF\n",
    "from sklearn.feature_extraction.text import TfidfVectorizer\n"
   ]
  },
  {
   "cell_type": "code",
   "execution_count": 156,
   "id": "19151c7c",
   "metadata": {
    "execution": {
     "iopub.execute_input": "2023-05-15T07:01:12.100041Z",
     "iopub.status.busy": "2023-05-15T07:01:12.097632Z",
     "iopub.status.idle": "2023-05-15T07:01:12.106992Z",
     "shell.execute_reply": "2023-05-15T07:01:12.105640Z",
     "shell.execute_reply.started": "2021-12-14T04:43:38.340235Z"
    },
    "papermill": {
     "duration": 0.754416,
     "end_time": "2023-05-15T07:01:12.107270",
     "exception": false,
     "start_time": "2023-05-15T07:01:11.352854",
     "status": "completed"
    },
    "tags": []
   },
   "outputs": [
    {
     "data": {
      "text/plain": [
       "(4000, 13)"
      ]
     },
     "execution_count": 156,
     "metadata": {},
     "output_type": "execute_result"
    }
   ],
   "source": [
    "dfr.shape"
   ]
  },
  {
   "cell_type": "code",
   "execution_count": 157,
   "id": "0ce579c9",
   "metadata": {
    "execution": {
     "iopub.execute_input": "2023-05-15T07:01:13.588865Z",
     "iopub.status.busy": "2023-05-15T07:01:13.584861Z",
     "iopub.status.idle": "2023-05-15T07:01:13.706289Z",
     "shell.execute_reply": "2023-05-15T07:01:13.704705Z",
     "shell.execute_reply.started": "2021-12-14T04:43:38.356083Z"
    },
    "papermill": {
     "duration": 0.891463,
     "end_time": "2023-05-15T07:01:13.706471",
     "exception": false,
     "start_time": "2023-05-15T07:01:12.815008",
     "status": "completed"
    },
    "tags": []
   },
   "outputs": [],
   "source": [
    "tfidf = TfidfVectorizer()\n",
    "X = tfidf.fit_transform(dfr['twitts'])"
   ]
  },
  {
   "cell_type": "code",
   "execution_count": 158,
   "id": "c3959be7",
   "metadata": {
    "execution": {
     "iopub.execute_input": "2023-05-15T07:01:15.167593Z",
     "iopub.status.busy": "2023-05-15T07:01:15.165808Z",
     "iopub.status.idle": "2023-05-15T07:02:11.802799Z",
     "shell.execute_reply": "2023-05-15T07:02:11.803466Z",
     "shell.execute_reply.started": "2021-12-14T04:43:38.439370Z"
    },
    "papermill": {
     "duration": 57.422394,
     "end_time": "2023-05-15T07:02:11.803741",
     "exception": false,
     "start_time": "2023-05-15T07:01:14.381347",
     "status": "completed"
    },
    "tags": []
   },
   "outputs": [
    {
     "name": "stdout",
     "output_type": "stream",
     "text": [
      "SGD  --->  0.66125\n",
      "LGR  --->  0.6625\n",
      "LGR-CV  --->  0.66\n",
      "SVM  --->  0.65125\n",
      "RFC  --->  0.66125\n",
      "CPU times: user 2min 57s, sys: 20.4 s, total: 3min 18s\n",
      "Wall time: 56.1 s\n"
     ]
    }
   ],
   "source": [
    "%%time\n",
    "classify(pd.DataFrame(X.toarray()),y)"
   ]
  },
  {
   "cell_type": "code",
   "execution_count": 159,
   "id": "a4df784f",
   "metadata": {
    "execution": {
     "iopub.execute_input": "2023-05-15T07:02:12.837004Z",
     "iopub.status.busy": "2023-05-15T07:02:12.835616Z",
     "iopub.status.idle": "2023-05-15T07:02:12.840513Z",
     "shell.execute_reply": "2023-05-15T07:02:12.841561Z",
     "shell.execute_reply.started": "2021-12-14T04:44:50.375638Z"
    },
    "papermill": {
     "duration": 0.523022,
     "end_time": "2023-05-15T07:02:12.841886",
     "exception": false,
     "start_time": "2023-05-15T07:02:12.318864",
     "status": "completed"
    },
    "tags": []
   },
   "outputs": [],
   "source": [
    "## Word2Vec\n",
    "def get_vec(x):\n",
    "    doc = nlp(x)\n",
    "    return doc.vector.reshape(1, -1)\n"
   ]
  },
  {
   "cell_type": "code",
   "execution_count": 160,
   "id": "54233bb6",
   "metadata": {
    "execution": {
     "iopub.execute_input": "2023-05-15T07:02:13.877764Z",
     "iopub.status.busy": "2023-05-15T07:02:13.876478Z",
     "iopub.status.idle": "2023-05-15T07:02:51.426991Z",
     "shell.execute_reply": "2023-05-15T07:02:51.427662Z",
     "shell.execute_reply.started": "2021-12-14T04:44:50.381008Z"
    },
    "papermill": {
     "duration": 38.07456,
     "end_time": "2023-05-15T07:02:51.427883",
     "exception": false,
     "start_time": "2023-05-15T07:02:13.353323",
     "status": "completed"
    },
    "tags": []
   },
   "outputs": [
    {
     "name": "stdout",
     "output_type": "stream",
     "text": [
      "CPU times: user 37 s, sys: 39.4 ms, total: 37 s\n",
      "Wall time: 37 s\n"
     ]
    }
   ],
   "source": [
    "%%time\n",
    "dfr['vec'] = dfr['twitts'].apply(lambda x: get_vec(x))"
   ]
  }
 ],
 "metadata": {
  "kernelspec": {
   "display_name": "Python 3",
   "language": "python",
   "name": "python3"
  },
  "language_info": {
   "codemirror_mode": {
    "name": "ipython",
    "version": 3
   },
   "file_extension": ".py",
   "mimetype": "text/x-python",
   "name": "python",
   "nbconvert_exporter": "python",
   "pygments_lexer": "ipython3",
   "version": "3.7.10"
  },
  "papermill": {
   "default_parameters": {},
   "duration": 977.043258,
   "end_time": "2023-05-15T07:02:54.656160",
   "environment_variables": {},
   "exception": null,
   "input_path": "__notebook__.ipynb",
   "output_path": "__notebook__.ipynb",
   "parameters": {},
   "start_time": "2023-05-15T06:46:37.612902",
   "version": "2.3.3"
  }
 },
 "nbformat": 4,
 "nbformat_minor": 5
}
